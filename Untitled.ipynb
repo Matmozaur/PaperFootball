{
 "cells": [
  {
   "cell_type": "code",
   "execution_count": 67,
   "metadata": {},
   "outputs": [],
   "source": [
    "import pandas as pd\n",
    "import pickle\n",
    "import numpy as np"
   ]
  },
  {
   "cell_type": "code",
   "execution_count": 68,
   "metadata": {},
   "outputs": [],
   "source": [
    "file = open('controller/memory', 'rb')\n",
    "memory = pickle.load(file)"
   ]
  },
  {
   "cell_type": "code",
   "execution_count": 69,
   "metadata": {},
   "outputs": [],
   "source": [
    "# file = open('controller/memory2', 'rb')\n",
    "# memory2 = pickle.load(file)"
   ]
  },
  {
   "cell_type": "code",
   "execution_count": 70,
   "metadata": {},
   "outputs": [],
   "source": [
    "memory = memory.ltmemory\n",
    "# memory2 = memory2.ltmemory"
   ]
  },
  {
   "cell_type": "code",
   "execution_count": 71,
   "metadata": {},
   "outputs": [],
   "source": [
    "# memory+=memory2"
   ]
  },
  {
   "cell_type": "code",
   "execution_count": 72,
   "metadata": {},
   "outputs": [
    {
     "data": {
      "text/plain": [
       "4326"
      ]
     },
     "execution_count": 72,
     "metadata": {},
     "output_type": "execute_result"
    }
   ],
   "source": [
    "len(memory)"
   ]
  },
  {
   "cell_type": "code",
   "execution_count": 73,
   "metadata": {},
   "outputs": [],
   "source": [
    "# memory[2]"
   ]
  },
  {
   "cell_type": "code",
   "execution_count": 74,
   "metadata": {},
   "outputs": [],
   "source": [
    "result = map(lambda x: x['result'], memory) "
   ]
  },
  {
   "cell_type": "code",
   "execution_count": 75,
   "metadata": {},
   "outputs": [],
   "source": [
    "result = list(result)"
   ]
  },
  {
   "cell_type": "code",
   "execution_count": 76,
   "metadata": {},
   "outputs": [],
   "source": [
    "states = map(lambda x: x['state'].reshape(384,), memory) "
   ]
  },
  {
   "cell_type": "code",
   "execution_count": 77,
   "metadata": {},
   "outputs": [],
   "source": [
    "states = list(states)"
   ]
  },
  {
   "cell_type": "code",
   "execution_count": 78,
   "metadata": {},
   "outputs": [],
   "source": [
    "y = np.array(result)"
   ]
  },
  {
   "cell_type": "code",
   "execution_count": 79,
   "metadata": {},
   "outputs": [],
   "source": [
    "X = np.array(states)"
   ]
  },
  {
   "cell_type": "code",
   "execution_count": 80,
   "metadata": {},
   "outputs": [],
   "source": [
    "from sklearn.model_selection import train_test_split"
   ]
  },
  {
   "cell_type": "code",
   "execution_count": 81,
   "metadata": {},
   "outputs": [],
   "source": [
    "X_train, X_test, y_train, y_test = train_test_split(X, y, test_size=0.2, shuffle=False)"
   ]
  },
  {
   "cell_type": "code",
   "execution_count": 82,
   "metadata": {},
   "outputs": [],
   "source": [
    "X_train=pd.DataFrame(X_train)\n",
    "X_test=pd.DataFrame(X_test)"
   ]
  },
  {
   "cell_type": "code",
   "execution_count": 83,
   "metadata": {},
   "outputs": [],
   "source": [
    "# X_train = X_train.loc[:, (X_train != X_train.iloc[0]).any()] "
   ]
  },
  {
   "cell_type": "code",
   "execution_count": 84,
   "metadata": {},
   "outputs": [],
   "source": [
    "# X_test = X_test[X_train.columns] "
   ]
  },
  {
   "cell_type": "code",
   "execution_count": 85,
   "metadata": {},
   "outputs": [],
   "source": [
    "# X_test.shape"
   ]
  },
  {
   "cell_type": "code",
   "execution_count": 86,
   "metadata": {},
   "outputs": [],
   "source": [
    "X_train = X_train.values"
   ]
  },
  {
   "cell_type": "code",
   "execution_count": 87,
   "metadata": {},
   "outputs": [],
   "source": [
    "X_test = X_test.values"
   ]
  },
  {
   "cell_type": "code",
   "execution_count": 88,
   "metadata": {},
   "outputs": [],
   "source": [
    "# from keras.models import Sequential\n",
    "# from keras.layers import Dense, Activation\n",
    "import tensorflow as tf\n",
    "import keras as keras\n"
   ]
  },
  {
   "cell_type": "code",
   "execution_count": 89,
   "metadata": {},
   "outputs": [
    {
     "data": {
      "text/plain": [
       "False"
      ]
     },
     "execution_count": 89,
     "metadata": {},
     "output_type": "execute_result"
    }
   ],
   "source": [
    "tf.test.is_gpu_available(\n",
    "    cuda_only=False,\n",
    "    min_cuda_compute_capability=None\n",
    ")\n"
   ]
  },
  {
   "cell_type": "code",
   "execution_count": null,
   "metadata": {},
   "outputs": [],
   "source": []
  },
  {
   "cell_type": "code",
   "execution_count": null,
   "metadata": {},
   "outputs": [],
   "source": []
  },
  {
   "cell_type": "code",
   "execution_count": 90,
   "metadata": {},
   "outputs": [],
   "source": [
    "# config = tf.ConfigProto( device_count = {'GPU': 1024 , 'CPU': 3} ) \n",
    "# sess = tf.Session(config=config) \n",
    "# keras.backend.set_session(sess)"
   ]
  },
  {
   "cell_type": "code",
   "execution_count": 100,
   "metadata": {},
   "outputs": [],
   "source": [
    "model = keras.Sequential()\n",
    "model.add(keras.layers.Dense(400, activation='sigmoid', input_dim=384))\n",
    "model.add(keras.layers.Dense(800, activation='sigmoid', input_dim=400))\n",
    "model.add(keras.layers.Dense(200, activation='sigmoid', input_dim=800))\n",
    "model.add(keras.layers.Dense(1, activation='sigmoid'))\n",
    "model.compile(optimizer='sgd',loss='binary_crossentropy',metrics=['accuracy'])\n",
    "\n",
    "# model = Sequential()\n",
    "# model.add(Dense(200, activation='sigmoid', input_dim=307))\n",
    "# model.add(Dense(100, activation='sigmoid', input_dim=200))\n",
    "# model.add(Dense(60, activation='sigmoid', input_dim=100))\n",
    "# model.add(Dense(40, activation='sigmoid', input_dim=60))\n",
    "# model.add(Dense(20, activation='sigmoid', input_dim=40))\n",
    "# model.add(Dense(16, activation='sigmoid', input_dim=20))\n",
    "# model.add(Dense(1, activation='sigmoid'))\n",
    "# model.compile(optimizer='sgd'M,loss='mean_absolute_error',metrics=['accuracy'])"
   ]
  },
  {
   "cell_type": "code",
   "execution_count": 101,
   "metadata": {},
   "outputs": [],
   "source": [
    "y_train = y_train>0\n",
    "y_train = y_train.astype(int)\n",
    "y_test = y_test>0\n",
    "y_test = y_test.astype(int)"
   ]
  },
  {
   "cell_type": "code",
   "execution_count": 115,
   "metadata": {},
   "outputs": [
    {
     "name": "stdout",
     "output_type": "stream",
     "text": [
      "Train on 2768 samples, validate on 692 samples\n",
      "Epoch 1/5\n",
      "2768/2768 [==============================] - 3s 1ms/step - loss: 0.6536 - acc: 0.7135 - val_loss: 0.6866 - val_acc: 0.5867\n",
      "Epoch 2/5\n",
      "2768/2768 [==============================] - 3s 1ms/step - loss: 0.6481 - acc: 0.7175 - val_loss: 0.6865 - val_acc: 0.5809\n",
      "Epoch 3/5\n",
      "2768/2768 [==============================] - 3s 1ms/step - loss: 0.6417 - acc: 0.7218 - val_loss: 0.6866 - val_acc: 0.5737\n",
      "Epoch 4/5\n",
      "2768/2768 [==============================] - 4s 1ms/step - loss: 0.6343 - acc: 0.7290 - val_loss: 0.6870 - val_acc: 0.5708\n",
      "Epoch 5/5\n",
      "2768/2768 [==============================] - 3s 1ms/step - loss: 0.6257 - acc: 0.7348 - val_loss: 0.6880 - val_acc: 0.5708\n"
     ]
    },
    {
     "data": {
      "text/plain": [
       "<keras.callbacks.History at 0x23b3a4fba58>"
      ]
     },
     "execution_count": 115,
     "metadata": {},
     "output_type": "execute_result"
    }
   ],
   "source": [
    "model.fit(X_train,y_train, epochs=5,batch_size=8,shuffle=False,validation_split= 0.2)"
   ]
  },
  {
   "cell_type": "code",
   "execution_count": 116,
   "metadata": {},
   "outputs": [],
   "source": [
    "y_pred = model.predict_classes(X_test)"
   ]
  },
  {
   "cell_type": "code",
   "execution_count": 117,
   "metadata": {},
   "outputs": [],
   "source": [
    "from sklearn.metrics import accuracy_score"
   ]
  },
  {
   "cell_type": "code",
   "execution_count": 118,
   "metadata": {},
   "outputs": [
    {
     "data": {
      "text/plain": [
       "0.7517321016166282"
      ]
     },
     "execution_count": 118,
     "metadata": {},
     "output_type": "execute_result"
    }
   ],
   "source": [
    "accuracy_score(y_test, y_pred)"
   ]
  },
  {
   "cell_type": "code",
   "execution_count": 119,
   "metadata": {},
   "outputs": [],
   "source": [
    "from sklearn.metrics import roc_auc_score"
   ]
  },
  {
   "cell_type": "code",
   "execution_count": 120,
   "metadata": {},
   "outputs": [],
   "source": [
    "y_pred = model.predict(X_test)"
   ]
  },
  {
   "cell_type": "code",
   "execution_count": 121,
   "metadata": {},
   "outputs": [
    {
     "data": {
      "text/plain": [
       "0.7854251012145749"
      ]
     },
     "execution_count": 121,
     "metadata": {},
     "output_type": "execute_result"
    }
   ],
   "source": [
    "roc_auc_score(y_test, y_pred)"
   ]
  },
  {
   "cell_type": "markdown",
   "metadata": {},
   "source": [
    "# RF baseline"
   ]
  },
  {
   "cell_type": "code",
   "execution_count": 122,
   "metadata": {},
   "outputs": [],
   "source": [
    "from sklearn.ensemble import RandomForestClassifier"
   ]
  },
  {
   "cell_type": "code",
   "execution_count": 135,
   "metadata": {},
   "outputs": [
    {
     "name": "stderr",
     "output_type": "stream",
     "text": [
      "C:\\Users\\matt9\\Anaconda3\\lib\\site-packages\\sklearn\\ensemble\\forest.py:245: FutureWarning: The default value of n_estimators will change from 10 in version 0.20 to 100 in 0.22.\n",
      "  \"10 in version 0.20 to 100 in 0.22.\", FutureWarning)\n"
     ]
    },
    {
     "data": {
      "text/plain": [
       "RandomForestClassifier(bootstrap=True, class_weight=None, criterion='gini',\n",
       "                       max_depth=8, max_features='auto', max_leaf_nodes=None,\n",
       "                       min_impurity_decrease=0.0, min_impurity_split=None,\n",
       "                       min_samples_leaf=1, min_samples_split=2,\n",
       "                       min_weight_fraction_leaf=0.0, n_estimators=10,\n",
       "                       n_jobs=None, oob_score=False, random_state=0, verbose=0,\n",
       "                       warm_start=False)"
      ]
     },
     "execution_count": 135,
     "metadata": {},
     "output_type": "execute_result"
    }
   ],
   "source": [
    "clf = RandomForestClassifier(max_depth=8, random_state=0)\n",
    "clf.fit(X_train, y_train)\n"
   ]
  },
  {
   "cell_type": "code",
   "execution_count": 136,
   "metadata": {},
   "outputs": [],
   "source": [
    "y_pred = clf.predict(X_test)"
   ]
  },
  {
   "cell_type": "code",
   "execution_count": 137,
   "metadata": {},
   "outputs": [
    {
     "data": {
      "text/plain": [
       "0.6385681293302541"
      ]
     },
     "execution_count": 137,
     "metadata": {},
     "output_type": "execute_result"
    }
   ],
   "source": [
    "accuracy_score(y_test, y_pred)"
   ]
  },
  {
   "cell_type": "code",
   "execution_count": 138,
   "metadata": {},
   "outputs": [],
   "source": [
    "y_pred = clf.predict_proba(X_test)"
   ]
  },
  {
   "cell_type": "code",
   "execution_count": 140,
   "metadata": {},
   "outputs": [
    {
     "data": {
      "text/plain": [
       "0.6575213497410294"
      ]
     },
     "execution_count": 140,
     "metadata": {},
     "output_type": "execute_result"
    }
   ],
   "source": [
    "roc_auc_score(y_test, y_pred[:,1])"
   ]
  },
  {
   "cell_type": "markdown",
   "metadata": {},
   "source": [
    "# From program"
   ]
  },
  {
   "cell_type": "code",
   "execution_count": 43,
   "metadata": {},
   "outputs": [],
   "source": [
    "from model.ml_module.ml_model import *"
   ]
  },
  {
   "cell_type": "code",
   "execution_count": 153,
   "metadata": {},
   "outputs": [
    {
     "name": "stdout",
     "output_type": "stream",
     "text": [
      "Tensor(\"leaky_re_lu_23/LeakyRelu:0\", shape=(?, 384, 8, 1), dtype=float32)\n"
     ]
    }
   ],
   "source": [
    "model = Residual_NN_simple(0.1, 0.005, config.INPUT_SHAPE, [\n",
    "    {'filters': 384, 'kernel_size': (8, 2)}\n",
    "#     , {'filters': 384, 'kernel_size': (8, 2)}\n",
    "    , {'filters': 384, 'kernel_size': (12, 3)}\n",
    "#     , {'filters': 384, 'kernel_size': (12, 3)}\n",
    "    # , {'filters': 86, 'kernel_size': (4, 4)}\n",
    "    # , {'filters': 300, 'kernel_size': (12, 3)}\n",
    "])"
   ]
  },
  {
   "cell_type": "code",
   "execution_count": 154,
   "metadata": {},
   "outputs": [],
   "source": [
    "X_train = np.array([model.convertToModelInput_fit(row) for row in X_train])"
   ]
  },
  {
   "cell_type": "code",
   "execution_count": 155,
   "metadata": {},
   "outputs": [
    {
     "name": "stdout",
     "output_type": "stream",
     "text": [
      "[name: \"/device:CPU:0\"\n",
      "device_type: \"CPU\"\n",
      "memory_limit: 268435456\n",
      "locality {\n",
      "}\n",
      "incarnation: 15744307985859707689\n",
      "]\n"
     ]
    }
   ],
   "source": [
    "from tensorflow.python.client import device_lib\n",
    "print(device_lib.list_local_devices())"
   ]
  },
  {
   "cell_type": "code",
   "execution_count": 157,
   "metadata": {},
   "outputs": [
    {
     "name": "stdout",
     "output_type": "stream",
     "text": [
      "Train on 3114 samples, validate on 346 samples\n",
      "Epoch 1/50\n",
      "3114/3114 [==============================] - 184s 59ms/step - loss: 58.4940 - acc: 0.6956 - val_loss: 38.7075 - val_acc: 0.5058\n",
      "Epoch 2/50\n",
      "3114/3114 [==============================] - 182s 58ms/step - loss: 24.7320 - acc: 0.8227 - val_loss: 16.0472 - val_acc: 0.5145\n",
      "Epoch 3/50\n",
      "3114/3114 [==============================] - 175s 56ms/step - loss: 10.8621 - acc: 0.7441 - val_loss: 9.0997 - val_acc: 0.5029\n",
      "Epoch 4/50\n",
      "3114/3114 [==============================] - 180s 58ms/step - loss: 6.0265 - acc: 0.6243 - val_loss: 3.9324 - val_acc: 0.4855\n",
      "Epoch 5/50\n",
      "3114/3114 [==============================] - 179s 58ms/step - loss: 2.7270 - acc: 0.6840 - val_loss: 1.9451 - val_acc: 0.4740\n",
      "Epoch 6/50\n",
      "3114/3114 [==============================] - 184s 59ms/step - loss: 1.3561 - acc: 0.7200 - val_loss: 1.0662 - val_acc: 0.5289\n",
      "Epoch 7/50\n",
      "3114/3114 [==============================] - 175s 56ms/step - loss: 0.7636 - acc: 0.7518 - val_loss: 0.7427 - val_acc: 0.4942\n",
      "Epoch 8/50\n",
      "3114/3114 [==============================] - 176s 57ms/step - loss: 2.0221 - acc: 0.6140 - val_loss: 1.8834 - val_acc: 0.4971\n",
      "Epoch 9/50\n",
      "3114/3114 [==============================] - 178s 57ms/step - loss: 4.1663 - acc: 0.5607 - val_loss: 7.2591 - val_acc: 0.7110\n",
      "Epoch 10/50\n",
      "1208/3114 [==========>...................] - ETA: 1:48 - loss: 6.2521 - acc: 0.4876"
     ]
    },
    {
     "ename": "KeyboardInterrupt",
     "evalue": "",
     "output_type": "error",
     "traceback": [
      "\u001b[1;31m---------------------------------------------------------------------------\u001b[0m",
      "\u001b[1;31mKeyboardInterrupt\u001b[0m                         Traceback (most recent call last)",
      "\u001b[1;32m<ipython-input-157-dcc0cd95f53f>\u001b[0m in \u001b[0;36m<module>\u001b[1;34m\u001b[0m\n\u001b[0;32m      1\u001b[0m \u001b[1;32mwith\u001b[0m \u001b[0mtf\u001b[0m\u001b[1;33m.\u001b[0m\u001b[0mSession\u001b[0m\u001b[1;33m(\u001b[0m\u001b[1;33m)\u001b[0m \u001b[1;32mas\u001b[0m \u001b[0msess\u001b[0m\u001b[1;33m:\u001b[0m\u001b[1;33m\u001b[0m\u001b[1;33m\u001b[0m\u001b[0m\n\u001b[0;32m      2\u001b[0m     \u001b[0msess\u001b[0m\u001b[1;33m.\u001b[0m\u001b[0mrun\u001b[0m\u001b[1;33m(\u001b[0m\u001b[0mtf\u001b[0m\u001b[1;33m.\u001b[0m\u001b[0mglobal_variables_initializer\u001b[0m\u001b[1;33m(\u001b[0m\u001b[1;33m)\u001b[0m\u001b[1;33m)\u001b[0m\u001b[1;33m\u001b[0m\u001b[1;33m\u001b[0m\u001b[0m\n\u001b[1;32m----> 3\u001b[1;33m     \u001b[0mmodel\u001b[0m\u001b[1;33m.\u001b[0m\u001b[0mmodel\u001b[0m\u001b[1;33m.\u001b[0m\u001b[0mfit\u001b[0m\u001b[1;33m(\u001b[0m\u001b[0mX_train\u001b[0m\u001b[1;33m,\u001b[0m\u001b[0my_train\u001b[0m\u001b[1;33m,\u001b[0m \u001b[0mepochs\u001b[0m\u001b[1;33m=\u001b[0m\u001b[1;36m50\u001b[0m\u001b[1;33m,\u001b[0m\u001b[0mbatch_size\u001b[0m\u001b[1;33m=\u001b[0m\u001b[1;36m8\u001b[0m\u001b[1;33m,\u001b[0m\u001b[0mvalidation_split\u001b[0m\u001b[1;33m=\u001b[0m \u001b[1;36m0.1\u001b[0m\u001b[1;33m,\u001b[0m \u001b[0mverbose\u001b[0m\u001b[1;33m=\u001b[0m\u001b[1;36m1\u001b[0m\u001b[1;33m)\u001b[0m\u001b[1;33m\u001b[0m\u001b[1;33m\u001b[0m\u001b[0m\n\u001b[0m",
      "\u001b[1;32m~\\Anaconda3\\lib\\site-packages\\keras\\engine\\training.py\u001b[0m in \u001b[0;36mfit\u001b[1;34m(self, x, y, batch_size, epochs, verbose, callbacks, validation_split, validation_data, shuffle, class_weight, sample_weight, initial_epoch, steps_per_epoch, validation_steps, validation_freq, max_queue_size, workers, use_multiprocessing, **kwargs)\u001b[0m\n\u001b[0;32m   1176\u001b[0m                                         \u001b[0msteps_per_epoch\u001b[0m\u001b[1;33m=\u001b[0m\u001b[0msteps_per_epoch\u001b[0m\u001b[1;33m,\u001b[0m\u001b[1;33m\u001b[0m\u001b[1;33m\u001b[0m\u001b[0m\n\u001b[0;32m   1177\u001b[0m                                         \u001b[0mvalidation_steps\u001b[0m\u001b[1;33m=\u001b[0m\u001b[0mvalidation_steps\u001b[0m\u001b[1;33m,\u001b[0m\u001b[1;33m\u001b[0m\u001b[1;33m\u001b[0m\u001b[0m\n\u001b[1;32m-> 1178\u001b[1;33m                                         validation_freq=validation_freq)\n\u001b[0m\u001b[0;32m   1179\u001b[0m \u001b[1;33m\u001b[0m\u001b[0m\n\u001b[0;32m   1180\u001b[0m     def evaluate(self,\n",
      "\u001b[1;32m~\\Anaconda3\\lib\\site-packages\\keras\\engine\\training_arrays.py\u001b[0m in \u001b[0;36mfit_loop\u001b[1;34m(model, fit_function, fit_inputs, out_labels, batch_size, epochs, verbose, callbacks, val_function, val_inputs, shuffle, callback_metrics, initial_epoch, steps_per_epoch, validation_steps, validation_freq)\u001b[0m\n\u001b[0;32m    202\u001b[0m                     \u001b[0mins_batch\u001b[0m\u001b[1;33m[\u001b[0m\u001b[0mi\u001b[0m\u001b[1;33m]\u001b[0m \u001b[1;33m=\u001b[0m \u001b[0mins_batch\u001b[0m\u001b[1;33m[\u001b[0m\u001b[0mi\u001b[0m\u001b[1;33m]\u001b[0m\u001b[1;33m.\u001b[0m\u001b[0mtoarray\u001b[0m\u001b[1;33m(\u001b[0m\u001b[1;33m)\u001b[0m\u001b[1;33m\u001b[0m\u001b[1;33m\u001b[0m\u001b[0m\n\u001b[0;32m    203\u001b[0m \u001b[1;33m\u001b[0m\u001b[0m\n\u001b[1;32m--> 204\u001b[1;33m                 \u001b[0mouts\u001b[0m \u001b[1;33m=\u001b[0m \u001b[0mfit_function\u001b[0m\u001b[1;33m(\u001b[0m\u001b[0mins_batch\u001b[0m\u001b[1;33m)\u001b[0m\u001b[1;33m\u001b[0m\u001b[1;33m\u001b[0m\u001b[0m\n\u001b[0m\u001b[0;32m    205\u001b[0m                 \u001b[0mouts\u001b[0m \u001b[1;33m=\u001b[0m \u001b[0mto_list\u001b[0m\u001b[1;33m(\u001b[0m\u001b[0mouts\u001b[0m\u001b[1;33m)\u001b[0m\u001b[1;33m\u001b[0m\u001b[1;33m\u001b[0m\u001b[0m\n\u001b[0;32m    206\u001b[0m                 \u001b[1;32mfor\u001b[0m \u001b[0ml\u001b[0m\u001b[1;33m,\u001b[0m \u001b[0mo\u001b[0m \u001b[1;32min\u001b[0m \u001b[0mzip\u001b[0m\u001b[1;33m(\u001b[0m\u001b[0mout_labels\u001b[0m\u001b[1;33m,\u001b[0m \u001b[0mouts\u001b[0m\u001b[1;33m)\u001b[0m\u001b[1;33m:\u001b[0m\u001b[1;33m\u001b[0m\u001b[1;33m\u001b[0m\u001b[0m\n",
      "\u001b[1;32m~\\Anaconda3\\lib\\site-packages\\keras\\backend\\tensorflow_backend.py\u001b[0m in \u001b[0;36m__call__\u001b[1;34m(self, inputs)\u001b[0m\n\u001b[0;32m   2977\u001b[0m                     \u001b[1;32mreturn\u001b[0m \u001b[0mself\u001b[0m\u001b[1;33m.\u001b[0m\u001b[0m_legacy_call\u001b[0m\u001b[1;33m(\u001b[0m\u001b[0minputs\u001b[0m\u001b[1;33m)\u001b[0m\u001b[1;33m\u001b[0m\u001b[1;33m\u001b[0m\u001b[0m\n\u001b[0;32m   2978\u001b[0m \u001b[1;33m\u001b[0m\u001b[0m\n\u001b[1;32m-> 2979\u001b[1;33m             \u001b[1;32mreturn\u001b[0m \u001b[0mself\u001b[0m\u001b[1;33m.\u001b[0m\u001b[0m_call\u001b[0m\u001b[1;33m(\u001b[0m\u001b[0minputs\u001b[0m\u001b[1;33m)\u001b[0m\u001b[1;33m\u001b[0m\u001b[1;33m\u001b[0m\u001b[0m\n\u001b[0m\u001b[0;32m   2980\u001b[0m         \u001b[1;32melse\u001b[0m\u001b[1;33m:\u001b[0m\u001b[1;33m\u001b[0m\u001b[1;33m\u001b[0m\u001b[0m\n\u001b[0;32m   2981\u001b[0m             \u001b[1;32mif\u001b[0m \u001b[0mpy_any\u001b[0m\u001b[1;33m(\u001b[0m\u001b[0mis_tensor\u001b[0m\u001b[1;33m(\u001b[0m\u001b[0mx\u001b[0m\u001b[1;33m)\u001b[0m \u001b[1;32mfor\u001b[0m \u001b[0mx\u001b[0m \u001b[1;32min\u001b[0m \u001b[0minputs\u001b[0m\u001b[1;33m)\u001b[0m\u001b[1;33m:\u001b[0m\u001b[1;33m\u001b[0m\u001b[1;33m\u001b[0m\u001b[0m\n",
      "\u001b[1;32m~\\Anaconda3\\lib\\site-packages\\keras\\backend\\tensorflow_backend.py\u001b[0m in \u001b[0;36m_call\u001b[1;34m(self, inputs)\u001b[0m\n\u001b[0;32m   2935\u001b[0m             \u001b[0mfetched\u001b[0m \u001b[1;33m=\u001b[0m \u001b[0mself\u001b[0m\u001b[1;33m.\u001b[0m\u001b[0m_callable_fn\u001b[0m\u001b[1;33m(\u001b[0m\u001b[1;33m*\u001b[0m\u001b[0marray_vals\u001b[0m\u001b[1;33m,\u001b[0m \u001b[0mrun_metadata\u001b[0m\u001b[1;33m=\u001b[0m\u001b[0mself\u001b[0m\u001b[1;33m.\u001b[0m\u001b[0mrun_metadata\u001b[0m\u001b[1;33m)\u001b[0m\u001b[1;33m\u001b[0m\u001b[1;33m\u001b[0m\u001b[0m\n\u001b[0;32m   2936\u001b[0m         \u001b[1;32melse\u001b[0m\u001b[1;33m:\u001b[0m\u001b[1;33m\u001b[0m\u001b[1;33m\u001b[0m\u001b[0m\n\u001b[1;32m-> 2937\u001b[1;33m             \u001b[0mfetched\u001b[0m \u001b[1;33m=\u001b[0m \u001b[0mself\u001b[0m\u001b[1;33m.\u001b[0m\u001b[0m_callable_fn\u001b[0m\u001b[1;33m(\u001b[0m\u001b[1;33m*\u001b[0m\u001b[0marray_vals\u001b[0m\u001b[1;33m)\u001b[0m\u001b[1;33m\u001b[0m\u001b[1;33m\u001b[0m\u001b[0m\n\u001b[0m\u001b[0;32m   2938\u001b[0m         \u001b[1;32mreturn\u001b[0m \u001b[0mfetched\u001b[0m\u001b[1;33m[\u001b[0m\u001b[1;33m:\u001b[0m\u001b[0mlen\u001b[0m\u001b[1;33m(\u001b[0m\u001b[0mself\u001b[0m\u001b[1;33m.\u001b[0m\u001b[0moutputs\u001b[0m\u001b[1;33m)\u001b[0m\u001b[1;33m]\u001b[0m\u001b[1;33m\u001b[0m\u001b[1;33m\u001b[0m\u001b[0m\n\u001b[0;32m   2939\u001b[0m \u001b[1;33m\u001b[0m\u001b[0m\n",
      "\u001b[1;32m~\\Anaconda3\\lib\\site-packages\\tensorflow\\python\\client\\session.py\u001b[0m in \u001b[0;36m__call__\u001b[1;34m(self, *args, **kwargs)\u001b[0m\n\u001b[0;32m   1437\u001b[0m           ret = tf_session.TF_SessionRunCallable(\n\u001b[0;32m   1438\u001b[0m               \u001b[0mself\u001b[0m\u001b[1;33m.\u001b[0m\u001b[0m_session\u001b[0m\u001b[1;33m.\u001b[0m\u001b[0m_session\u001b[0m\u001b[1;33m,\u001b[0m \u001b[0mself\u001b[0m\u001b[1;33m.\u001b[0m\u001b[0m_handle\u001b[0m\u001b[1;33m,\u001b[0m \u001b[0margs\u001b[0m\u001b[1;33m,\u001b[0m \u001b[0mstatus\u001b[0m\u001b[1;33m,\u001b[0m\u001b[1;33m\u001b[0m\u001b[1;33m\u001b[0m\u001b[0m\n\u001b[1;32m-> 1439\u001b[1;33m               run_metadata_ptr)\n\u001b[0m\u001b[0;32m   1440\u001b[0m         \u001b[1;32mif\u001b[0m \u001b[0mrun_metadata\u001b[0m\u001b[1;33m:\u001b[0m\u001b[1;33m\u001b[0m\u001b[1;33m\u001b[0m\u001b[0m\n\u001b[0;32m   1441\u001b[0m           \u001b[0mproto_data\u001b[0m \u001b[1;33m=\u001b[0m \u001b[0mtf_session\u001b[0m\u001b[1;33m.\u001b[0m\u001b[0mTF_GetBuffer\u001b[0m\u001b[1;33m(\u001b[0m\u001b[0mrun_metadata_ptr\u001b[0m\u001b[1;33m)\u001b[0m\u001b[1;33m\u001b[0m\u001b[1;33m\u001b[0m\u001b[0m\n",
      "\u001b[1;31mKeyboardInterrupt\u001b[0m: "
     ]
    }
   ],
   "source": [
    "with tf.Session() as sess:\n",
    "    sess.run(tf.global_variables_initializer())\n",
    "    model.model.fit(X_train,y_train, epochs=50,batch_size=8,validation_split= 0.1, verbose=1)"
   ]
  },
  {
   "cell_type": "code",
   "execution_count": null,
   "metadata": {},
   "outputs": [],
   "source": [
    "# model.model.fit(X_train,y_train, epochs=4,batch_size=16,validation_split= 0.1, verbose=1)"
   ]
  },
  {
   "cell_type": "code",
   "execution_count": 145,
   "metadata": {},
   "outputs": [],
   "source": [
    "X_test = np.array([model.convertToModelInput_fit(row) for row in X_test])"
   ]
  },
  {
   "cell_type": "code",
   "execution_count": 146,
   "metadata": {},
   "outputs": [],
   "source": [
    "with tf.Session() as sess:\n",
    "    sess.run(tf.global_variables_initializer())\n",
    "    y_pred = model.model.predict(X_test)"
   ]
  },
  {
   "cell_type": "code",
   "execution_count": 147,
   "metadata": {},
   "outputs": [
    {
     "data": {
      "text/plain": [
       "array([[ 7.06096143e-02],\n",
       "       [ 2.84246504e-02],\n",
       "       [ 8.70610178e-02],\n",
       "       [-4.50858381e-03],\n",
       "       [ 1.03437446e-01],\n",
       "       [-5.23562580e-02],\n",
       "       [ 5.84201850e-02],\n",
       "       [-5.83277047e-02],\n",
       "       [ 7.02276826e-02],\n",
       "       [-1.08392425e-01],\n",
       "       [-1.24225868e-02],\n",
       "       [-1.00286841e-01],\n",
       "       [-3.73985134e-02],\n",
       "       [-9.87511501e-02],\n",
       "       [-7.47956783e-02],\n",
       "       [-8.93488899e-02],\n",
       "       [-3.60136144e-02],\n",
       "       [ 9.89104435e-03],\n",
       "       [-6.13016002e-02],\n",
       "       [ 3.25950049e-02],\n",
       "       [-6.11338802e-02],\n",
       "       [-6.11338802e-02],\n",
       "       [ 7.01999888e-02],\n",
       "       [-4.58370596e-02],\n",
       "       [ 1.16384096e-01],\n",
       "       [-5.21568991e-02],\n",
       "       [ 3.76931317e-02],\n",
       "       [-6.73740730e-02],\n",
       "       [ 4.76909243e-02],\n",
       "       [-6.59013540e-02],\n",
       "       [-2.25427598e-02],\n",
       "       [-6.27430379e-02],\n",
       "       [ 2.40428336e-02],\n",
       "       [-5.54440282e-02],\n",
       "       [ 5.19548990e-02],\n",
       "       [-6.31589368e-02],\n",
       "       [ 4.44486849e-02],\n",
       "       [-1.18177354e-01],\n",
       "       [ 7.98569918e-02],\n",
       "       [-1.19772427e-01],\n",
       "       [ 7.50731155e-02],\n",
       "       [-1.39607385e-01],\n",
       "       [ 1.09976865e-01],\n",
       "       [-1.59686372e-01],\n",
       "       [ 1.23816356e-01],\n",
       "       [-1.24546573e-01],\n",
       "       [ 7.57207274e-02],\n",
       "       [-1.53994381e-01],\n",
       "       [ 4.98293303e-02],\n",
       "       [-1.39878094e-01],\n",
       "       [ 5.69794327e-02],\n",
       "       [-1.88520953e-01],\n",
       "       [ 4.95123379e-02],\n",
       "       [-1.28604174e-01],\n",
       "       [ 5.33926971e-02],\n",
       "       [-1.34867623e-01],\n",
       "       [ 6.89174980e-02],\n",
       "       [-1.07880875e-01],\n",
       "       [ 8.89112204e-02],\n",
       "       [-8.03948045e-02],\n",
       "       [ 8.52743834e-02],\n",
       "       [-4.05507311e-02],\n",
       "       [ 6.76876530e-02],\n",
       "       [-7.72584230e-02],\n",
       "       [-7.94206858e-02],\n",
       "       [ 5.84794814e-03],\n",
       "       [-9.78397131e-02],\n",
       "       [-2.92594288e-03],\n",
       "       [-1.31859541e-01],\n",
       "       [-1.69230727e-04],\n",
       "       [-1.45433843e-01],\n",
       "       [ 4.26029228e-02],\n",
       "       [-1.38433605e-01],\n",
       "       [ 6.04186654e-02],\n",
       "       [-8.43201801e-02],\n",
       "       [ 7.83235207e-03],\n",
       "       [-1.68463200e-01],\n",
       "       [-1.40927336e-03],\n",
       "       [-9.83994007e-02],\n",
       "       [-6.11597076e-02],\n",
       "       [-9.68009830e-02],\n",
       "       [-9.00334492e-02],\n",
       "       [-7.04681352e-02],\n",
       "       [-6.27624914e-02],\n",
       "       [-9.29998979e-02],\n",
       "       [-2.40782350e-02],\n",
       "       [-6.75737336e-02],\n",
       "       [-3.31442319e-02],\n",
       "       [-7.02428371e-02],\n",
       "       [-8.15214068e-02],\n",
       "       [-1.88200735e-02],\n",
       "       [-6.87067360e-02],\n",
       "       [ 6.77837059e-02],\n",
       "       [-8.45140889e-02],\n",
       "       [ 9.88853574e-02],\n",
       "       [-6.43853620e-02],\n",
       "       [ 7.95475319e-02],\n",
       "       [-7.89728686e-02],\n",
       "       [ 8.68028104e-02],\n",
       "       [-8.36396739e-02],\n",
       "       [ 7.44436234e-02],\n",
       "       [-1.01430915e-01],\n",
       "       [ 6.46984726e-02],\n",
       "       [-7.24057257e-02],\n",
       "       [-3.95450257e-02],\n",
       "       [-2.22126190e-02],\n",
       "       [-5.22954501e-02],\n",
       "       [ 1.77563578e-02],\n",
       "       [-7.13980198e-02],\n",
       "       [ 7.18244985e-02],\n",
       "       [-3.38596925e-02],\n",
       "       [ 8.02313089e-02],\n",
       "       [-5.00886589e-02],\n",
       "       [ 1.75893866e-02],\n",
       "       [-2.03775316e-02],\n",
       "       [ 1.09845795e-01],\n",
       "       [-4.13515940e-02],\n",
       "       [ 1.28842592e-01],\n",
       "       [-4.34639454e-02],\n",
       "       [ 1.00102939e-01],\n",
       "       [-3.61639634e-02],\n",
       "       [ 4.57353219e-02],\n",
       "       [ 8.32276046e-03],\n",
       "       [ 7.47415945e-02],\n",
       "       [ 3.29784900e-02],\n",
       "       [ 1.11279160e-01],\n",
       "       [ 4.05894928e-02],\n",
       "       [ 1.51757300e-01],\n",
       "       [ 4.46162410e-02],\n",
       "       [ 9.95432511e-02],\n",
       "       [ 3.82432975e-02],\n",
       "       [ 1.78437844e-01],\n",
       "       [ 9.19161737e-02],\n",
       "       [ 1.21255569e-01],\n",
       "       [ 1.30845502e-01],\n",
       "       [ 8.83939192e-02],\n",
       "       [ 1.69910207e-01],\n",
       "       [ 1.16818748e-01],\n",
       "       [ 1.35698870e-01],\n",
       "       [ 9.95338857e-02],\n",
       "       [ 1.12346955e-01],\n",
       "       [ 1.02694534e-01],\n",
       "       [ 8.47726390e-02],\n",
       "       [ 8.35920796e-02],\n",
       "       [ 1.99996866e-02],\n",
       "       [ 5.59709296e-02],\n",
       "       [ 2.80789915e-03],\n",
       "       [ 6.23673610e-02],\n",
       "       [ 2.80076638e-02],\n",
       "       [ 1.02437474e-01],\n",
       "       [-6.72603697e-02],\n",
       "       [-3.07040643e-02],\n",
       "       [-3.28477286e-02],\n",
       "       [-6.56905100e-02],\n",
       "       [-6.84918538e-02],\n",
       "       [-5.09248786e-02],\n",
       "       [-7.56101087e-02],\n",
       "       [-1.05416782e-01],\n",
       "       [-8.26285183e-02],\n",
       "       [-1.48713037e-01],\n",
       "       [-1.46816224e-01],\n",
       "       [-1.98688447e-01],\n",
       "       [-1.33637354e-01],\n",
       "       [-1.74566805e-01],\n",
       "       [-1.01534955e-01],\n",
       "       [-1.70091078e-01],\n",
       "       [-1.38180166e-01],\n",
       "       [-1.84091270e-01],\n",
       "       [-9.82248411e-02],\n",
       "       [-1.65089399e-01],\n",
       "       [-1.36806890e-01],\n",
       "       [-1.90639049e-01],\n",
       "       [-1.54426128e-01],\n",
       "       [-1.44459620e-01],\n",
       "       [-2.20410734e-01],\n",
       "       [-1.69363946e-01],\n",
       "       [-2.37416938e-01],\n",
       "       [-1.86038092e-01],\n",
       "       [-2.70287573e-01],\n",
       "       [-1.68368191e-01],\n",
       "       [-2.55390316e-01],\n",
       "       [-2.50805557e-01],\n",
       "       [-2.38485888e-01],\n",
       "       [-2.40270972e-01],\n",
       "       [-2.20327333e-01],\n",
       "       [-2.67169744e-01],\n",
       "       [-2.16184556e-01],\n",
       "       [-2.44818971e-01],\n",
       "       [-1.97287992e-01],\n",
       "       [-2.32313558e-01],\n",
       "       [-1.78422645e-01],\n",
       "       [-3.34526956e-01],\n",
       "       [-2.21212476e-01],\n",
       "       [-3.05815846e-01],\n",
       "       [-2.83591479e-01],\n",
       "       [-1.90063104e-01],\n",
       "       [-2.23769754e-01],\n",
       "       [-1.93341285e-01],\n",
       "       [-2.03687236e-01],\n",
       "       [-1.37557760e-01],\n",
       "       [-2.36780092e-01],\n",
       "       [-9.77657363e-03],\n",
       "       [-2.93963421e-02],\n",
       "       [-1.70926433e-02],\n",
       "       [-8.61748010e-02],\n",
       "       [-6.57541305e-03],\n",
       "       [ 1.88315671e-03],\n",
       "       [-1.87356919e-02],\n",
       "       [-4.60376823e-03],\n",
       "       [-2.68057510e-02],\n",
       "       [-1.37755759e-02],\n",
       "       [ 3.54046598e-02],\n",
       "       [-5.61242625e-02],\n",
       "       [ 7.62037784e-02],\n",
       "       [-4.49371822e-02],\n",
       "       [ 6.17768168e-02],\n",
       "       [-1.18710138e-01],\n",
       "       [ 6.85111135e-02],\n",
       "       [-8.00201073e-02],\n",
       "       [ 1.46907881e-01],\n",
       "       [-6.19441234e-02],\n",
       "       [ 1.92480788e-01],\n",
       "       [-2.48388052e-02],\n",
       "       [ 1.51477799e-01],\n",
       "       [-1.61209255e-02],\n",
       "       [ 1.59010738e-01],\n",
       "       [-4.24333438e-02],\n",
       "       [ 5.99047840e-02],\n",
       "       [-3.98972109e-02],\n",
       "       [-7.00875092e-03],\n",
       "       [-3.66173387e-02],\n",
       "       [ 1.67095773e-02],\n",
       "       [-1.09456256e-01],\n",
       "       [-6.06705472e-02],\n",
       "       [-8.33176821e-02],\n",
       "       [-6.23895898e-02],\n",
       "       [-8.34835246e-02],\n",
       "       [-3.33460383e-02],\n",
       "       [-7.87561163e-02],\n",
       "       [-3.66743580e-02],\n",
       "       [-8.15559104e-02],\n",
       "       [-2.10041683e-02],\n",
       "       [-1.19104609e-01],\n",
       "       [-5.80196306e-02],\n",
       "       [-1.10359117e-01],\n",
       "       [-6.82382211e-02],\n",
       "       [-9.52563211e-02],\n",
       "       [-1.04253322e-01],\n",
       "       [-9.48351100e-02],\n",
       "       [-1.24780014e-01],\n",
       "       [-1.34437427e-01],\n",
       "       [-7.92358294e-02],\n",
       "       [-1.14809267e-01],\n",
       "       [-7.47717470e-02],\n",
       "       [-1.03786334e-01],\n",
       "       [-5.41644171e-02],\n",
       "       [-5.79049885e-02],\n",
       "       [-5.47024943e-02],\n",
       "       [-2.50766575e-02],\n",
       "       [-1.65995397e-02],\n",
       "       [-8.04282427e-02],\n",
       "       [ 2.71320380e-02],\n",
       "       [-9.59879160e-02],\n",
       "       [ 7.47644976e-02],\n",
       "       [-6.99122101e-02],\n",
       "       [ 2.35725269e-02],\n",
       "       [-7.23079816e-02],\n",
       "       [ 4.62604500e-03],\n",
       "       [-1.50042459e-01],\n",
       "       [ 3.01931091e-02],\n",
       "       [-1.18056662e-01],\n",
       "       [ 9.75330621e-02],\n",
       "       [-1.29657283e-01],\n",
       "       [ 1.18830599e-01],\n",
       "       [-1.69851288e-01],\n",
       "       [ 1.06455781e-01],\n",
       "       [-2.27216348e-01],\n",
       "       [ 1.28148049e-01],\n",
       "       [-1.98387250e-01],\n",
       "       [ 1.03744067e-01],\n",
       "       [-1.94090515e-01],\n",
       "       [-1.35092149e-02],\n",
       "       [ 8.80357325e-02],\n",
       "       [ 1.63080674e-02],\n",
       "       [-2.12770663e-02],\n",
       "       [ 1.58680975e-02],\n",
       "       [ 5.28362906e-03],\n",
       "       [ 3.58892009e-02],\n",
       "       [ 2.35667937e-02],\n",
       "       [ 4.89271469e-02],\n",
       "       [ 2.28399131e-02],\n",
       "       [ 6.50893450e-02],\n",
       "       [ 1.34665575e-02],\n",
       "       [ 6.80688620e-02],\n",
       "       [ 3.69468369e-02],\n",
       "       [ 4.87231985e-02],\n",
       "       [ 2.74158865e-02],\n",
       "       [ 1.24057019e-02],\n",
       "       [ 4.48661745e-02],\n",
       "       [ 1.79468840e-02],\n",
       "       [ 1.04699299e-01],\n",
       "       [ 3.60395163e-02],\n",
       "       [ 7.01624677e-02],\n",
       "       [ 2.99559757e-02],\n",
       "       [ 3.67344059e-02],\n",
       "       [ 3.08794286e-02],\n",
       "       [ 2.45153960e-02],\n",
       "       [ 3.02729663e-02],\n",
       "       [ 9.51515418e-03],\n",
       "       [ 4.55869846e-02],\n",
       "       [ 2.81076357e-02],\n",
       "       [ 9.67812017e-02],\n",
       "       [ 2.31560878e-02],\n",
       "       [ 8.90421271e-02],\n",
       "       [ 9.89868119e-03],\n",
       "       [ 8.56880471e-02],\n",
       "       [-4.60874103e-02],\n",
       "       [ 2.72434298e-02],\n",
       "       [-3.48248929e-02],\n",
       "       [ 2.16177981e-02],\n",
       "       [-9.86771006e-03],\n",
       "       [ 4.11264375e-02],\n",
       "       [ 3.28284758e-03],\n",
       "       [-1.83846094e-02],\n",
       "       [-6.84510991e-02],\n",
       "       [-2.80233789e-02],\n",
       "       [-5.71682341e-02],\n",
       "       [-2.76014432e-02],\n",
       "       [-5.35781942e-02],\n",
       "       [-6.97375834e-02],\n",
       "       [-5.54602668e-02],\n",
       "       [-4.55912240e-02],\n",
       "       [-9.16035622e-02],\n",
       "       [ 3.49135585e-02],\n",
       "       [-7.53979236e-02],\n",
       "       [ 3.23732346e-02],\n",
       "       [-7.74690658e-02],\n",
       "       [-9.01192427e-03],\n",
       "       [-1.03028201e-01],\n",
       "       [-5.75200208e-02],\n",
       "       [-1.06652535e-01],\n",
       "       [-6.13642931e-02],\n",
       "       [-8.85913223e-02],\n",
       "       [-3.78524214e-02],\n",
       "       [-5.74808232e-02],\n",
       "       [ 8.22065515e-04],\n",
       "       [-6.46286039e-03],\n",
       "       [-5.74087678e-03],\n",
       "       [-1.18312938e-02],\n",
       "       [ 3.86959799e-02],\n",
       "       [-4.96294443e-03],\n",
       "       [ 3.85896079e-02],\n",
       "       [-1.72077697e-02],\n",
       "       [ 1.35880308e-02],\n",
       "       [-3.34154814e-02],\n",
       "       [ 1.91385597e-02],\n",
       "       [ 2.00935211e-02],\n",
       "       [ 9.59941745e-02],\n",
       "       [ 8.56242403e-02],\n",
       "       [ 6.18514083e-02],\n",
       "       [ 1.63623780e-01],\n",
       "       [ 1.78600907e-01],\n",
       "       [ 1.23871908e-01],\n",
       "       [ 1.18921317e-01],\n",
       "       [ 9.34956595e-02],\n",
       "       [ 9.35091227e-02],\n",
       "       [ 5.21182641e-02],\n",
       "       [ 1.71874881e-01],\n",
       "       [ 7.21176416e-02],\n",
       "       [ 2.10534945e-01],\n",
       "       [ 6.86634853e-02],\n",
       "       [ 2.02591851e-01],\n",
       "       [ 8.27120468e-02],\n",
       "       [ 1.81963667e-01],\n",
       "       [-6.56738430e-02],\n",
       "       [-1.53617247e-03],\n",
       "       [-6.24652244e-02],\n",
       "       [-5.51354662e-02],\n",
       "       [-6.05958253e-02],\n",
       "       [-5.16933613e-02],\n",
       "       [-3.24417874e-02],\n",
       "       [-1.43731320e-02],\n",
       "       [-5.10646682e-03],\n",
       "       [ 1.20587591e-02],\n",
       "       [ 3.97195779e-02],\n",
       "       [-4.46264707e-02],\n",
       "       [ 2.62308102e-02],\n",
       "       [-3.10536157e-02],\n",
       "       [ 3.56240049e-02],\n",
       "       [-7.93164298e-02],\n",
       "       [ 1.13531545e-01],\n",
       "       [-7.37963542e-02],\n",
       "       [ 1.62156358e-01],\n",
       "       [-1.16767868e-01],\n",
       "       [ 1.18551359e-01],\n",
       "       [-1.46614105e-01],\n",
       "       [ 9.57869366e-02],\n",
       "       [-1.48020908e-01],\n",
       "       [ 9.84878540e-02],\n",
       "       [-1.47921115e-01],\n",
       "       [ 6.97521642e-02],\n",
       "       [-1.64632231e-01],\n",
       "       [ 9.04506072e-02],\n",
       "       [-1.30087808e-01],\n",
       "       [ 7.98301324e-02],\n",
       "       [-1.41981423e-01],\n",
       "       [-1.36489095e-02],\n",
       "       [-1.25215799e-01],\n",
       "       [ 7.57939788e-03],\n",
       "       [-8.85932669e-02],\n",
       "       [ 4.73418236e-02],\n",
       "       [-9.04629678e-02],\n",
       "       [-5.66531681e-02],\n",
       "       [ 1.57228690e-02],\n",
       "       [-4.48351428e-02],\n",
       "       [-5.40291965e-02],\n",
       "       [ 4.37617488e-02],\n",
       "       [-2.82200091e-02],\n",
       "       [ 7.62625188e-02],\n",
       "       [-4.86582518e-02],\n",
       "       [ 3.60682458e-02],\n",
       "       [ 7.42138270e-03],\n",
       "       [ 1.42330751e-02],\n",
       "       [ 4.09514159e-02],\n",
       "       [-3.10250316e-02],\n",
       "       [-5.97509742e-02],\n",
       "       [-9.87572037e-03],\n",
       "       [-4.28732671e-02],\n",
       "       [-8.47712252e-03],\n",
       "       [-6.58565089e-02],\n",
       "       [-3.03355325e-02],\n",
       "       [-6.64833114e-02],\n",
       "       [-1.86203774e-02],\n",
       "       [-1.00877911e-01],\n",
       "       [-2.49130875e-02],\n",
       "       [-1.18050501e-01],\n",
       "       [-7.57713690e-02],\n",
       "       [-1.63612396e-01],\n",
       "       [-8.00117552e-02],\n",
       "       [-1.15430653e-01],\n",
       "       [-1.44731790e-01],\n",
       "       [-1.11348167e-01],\n",
       "       [-1.57953337e-01],\n",
       "       [-1.02549575e-01],\n",
       "       [-1.18662283e-01],\n",
       "       [-8.45856294e-02],\n",
       "       [-5.73138781e-02],\n",
       "       [-9.09605026e-02],\n",
       "       [-8.42892528e-02],\n",
       "       [-5.10578789e-02],\n",
       "       [-6.04534447e-02],\n",
       "       [-2.66902465e-02],\n",
       "       [-6.50189221e-02],\n",
       "       [-6.53385445e-02],\n",
       "       [-8.64455849e-02],\n",
       "       [-4.29043658e-02],\n",
       "       [-5.40272966e-02],\n",
       "       [-6.20239712e-02],\n",
       "       [-4.11686935e-02],\n",
       "       [-3.05908341e-02],\n",
       "       [-2.81331725e-02],\n",
       "       [ 2.20067427e-03],\n",
       "       [-7.20484108e-02],\n",
       "       [-4.88176942e-02],\n",
       "       [-9.73247737e-02],\n",
       "       [-4.82082032e-02],\n",
       "       [-9.69467238e-02],\n",
       "       [-3.14176418e-02],\n",
       "       [-1.07286766e-01],\n",
       "       [ 1.29588349e-02],\n",
       "       [-1.34091392e-01],\n",
       "       [ 1.88805070e-02],\n",
       "       [-1.43627688e-01],\n",
       "       [ 3.61985934e-04],\n",
       "       [-1.70538664e-01],\n",
       "       [-1.08225681e-02],\n",
       "       [-1.65928841e-01],\n",
       "       [ 5.06746285e-02],\n",
       "       [-1.49943188e-01],\n",
       "       [ 2.42854767e-02],\n",
       "       [-7.60462955e-02],\n",
       "       [ 1.17830411e-02],\n",
       "       [-2.17778701e-02],\n",
       "       [ 4.50040586e-03],\n",
       "       [ 5.23779243e-02],\n",
       "       [ 3.19670042e-04],\n",
       "       [ 5.16902469e-02],\n",
       "       [-1.13768997e-02],\n",
       "       [ 2.25881697e-03],\n",
       "       [-1.59812905e-02],\n",
       "       [ 1.30706811e-02],\n",
       "       [-5.51888952e-03],\n",
       "       [ 1.70166735e-02],\n",
       "       [ 1.32339997e-02],\n",
       "       [ 1.59336335e-03],\n",
       "       [ 3.67826829e-03],\n",
       "       [ 1.02957390e-01],\n",
       "       [-4.62221168e-02],\n",
       "       [ 7.88975656e-02],\n",
       "       [-6.66932613e-02],\n",
       "       [ 4.94346805e-02],\n",
       "       [-6.30338565e-02],\n",
       "       [ 6.18714765e-02],\n",
       "       [-5.24502285e-02],\n",
       "       [ 6.50744289e-02],\n",
       "       [-3.81010659e-02],\n",
       "       [ 6.92943111e-02],\n",
       "       [-7.99013227e-02],\n",
       "       [ 2.01868434e-02],\n",
       "       [-8.55702385e-02],\n",
       "       [ 4.53685522e-02],\n",
       "       [-9.16383043e-02],\n",
       "       [ 3.11751496e-02],\n",
       "       [-1.49621114e-01],\n",
       "       [ 5.30876070e-02],\n",
       "       [-1.40595242e-01],\n",
       "       [ 2.76266355e-02],\n",
       "       [-1.45009354e-01],\n",
       "       [-1.24026686e-02],\n",
       "       [-2.00931504e-01],\n",
       "       [-1.19224964e-02],\n",
       "       [-2.15315849e-01],\n",
       "       [-8.56377259e-02],\n",
       "       [-2.16124281e-01],\n",
       "       [-4.89374213e-02],\n",
       "       [-2.77876198e-01],\n",
       "       [-2.84389742e-02],\n",
       "       [-2.82777339e-01],\n",
       "       [-3.15822358e-03],\n",
       "       [-2.43010238e-01],\n",
       "       [-2.29785349e-02],\n",
       "       [-2.17732117e-01],\n",
       "       [-6.11739866e-02],\n",
       "       [-2.16284990e-01],\n",
       "       [-5.35346493e-02],\n",
       "       [-2.35631719e-01],\n",
       "       [-6.06488436e-02],\n",
       "       [-2.19455153e-01],\n",
       "       [ 7.35085011e-02],\n",
       "       [-1.51601583e-01],\n",
       "       [ 1.84959084e-01],\n",
       "       [-1.41426384e-01],\n",
       "       [ 1.71740376e-03],\n",
       "       [ 2.29652761e-03],\n",
       "       [-3.73031162e-02],\n",
       "       [-2.74545327e-03],\n",
       "       [-1.46952018e-01],\n",
       "       [ 3.43745598e-03],\n",
       "       [-1.61786929e-01],\n",
       "       [ 3.08524873e-02],\n",
       "       [-1.21842466e-01],\n",
       "       [ 5.18474244e-02],\n",
       "       [-1.38962522e-01],\n",
       "       [ 5.83321825e-02],\n",
       "       [-1.28020257e-01],\n",
       "       [ 9.46783349e-02],\n",
       "       [-1.23915553e-01],\n",
       "       [ 1.11896135e-01],\n",
       "       [-1.34451210e-01],\n",
       "       [ 1.54355302e-01],\n",
       "       [-1.26032874e-01],\n",
       "       [ 1.64486617e-01],\n",
       "       [-2.79292893e-02],\n",
       "       [ 1.66121393e-01],\n",
       "       [-7.24844113e-02],\n",
       "       [ 1.28744856e-01],\n",
       "       [-1.12595975e-01],\n",
       "       [ 1.11126684e-01],\n",
       "       [-8.76558870e-02],\n",
       "       [ 3.12319808e-02],\n",
       "       [-5.95281869e-02],\n",
       "       [ 4.29661013e-02],\n",
       "       [-2.82606985e-02],\n",
       "       [ 2.58544609e-02],\n",
       "       [-7.82592818e-02],\n",
       "       [ 1.21148877e-01],\n",
       "       [-9.30609927e-02],\n",
       "       [ 9.88275930e-02],\n",
       "       [-6.32827654e-02],\n",
       "       [-1.69733837e-02],\n",
       "       [-3.22783180e-02],\n",
       "       [-5.26838899e-02],\n",
       "       [-2.08658874e-02],\n",
       "       [-5.83127961e-02],\n",
       "       [-6.88632205e-02],\n",
       "       [-3.28946598e-02],\n",
       "       [-1.04124472e-01],\n",
       "       [-6.84624016e-02],\n",
       "       [-1.09224595e-01],\n",
       "       [-1.02265894e-01],\n",
       "       [-6.21594042e-02],\n",
       "       [-9.59903672e-02],\n",
       "       [-6.73514605e-02],\n",
       "       [-9.44030955e-02],\n",
       "       [-3.13869379e-02],\n",
       "       [-8.21891204e-02],\n",
       "       [-9.97298062e-02],\n",
       "       [-1.11189812e-01],\n",
       "       [-5.88448793e-02],\n",
       "       [-1.02466054e-01],\n",
       "       [-9.52193141e-02],\n",
       "       [-1.09293751e-01],\n",
       "       [-5.53781241e-02],\n",
       "       [-1.18653215e-01],\n",
       "       [-1.06490977e-01],\n",
       "       [-9.59775820e-02],\n",
       "       [-5.74229583e-02],\n",
       "       [-7.36168250e-02],\n",
       "       [-8.46457630e-02],\n",
       "       [-6.15450516e-02],\n",
       "       [-9.60162953e-02],\n",
       "       [-1.06130272e-01],\n",
       "       [-1.41728759e-01],\n",
       "       [-7.68796206e-02],\n",
       "       [-1.50305644e-01],\n",
       "       [-3.57605070e-02],\n",
       "       [-1.39812365e-01],\n",
       "       [-1.04242750e-02],\n",
       "       [-9.16458815e-02],\n",
       "       [-3.95420054e-03],\n",
       "       [-8.20007101e-02],\n",
       "       [ 7.45899454e-02],\n",
       "       [-1.56123498e-02],\n",
       "       [ 1.20387726e-01],\n",
       "       [-3.73633616e-02],\n",
       "       [ 7.96098784e-02],\n",
       "       [-4.68596059e-04],\n",
       "       [ 6.14229329e-02],\n",
       "       [ 2.70320028e-02],\n",
       "       [ 1.03951469e-02],\n",
       "       [ 4.35426086e-02],\n",
       "       [-3.38024870e-02],\n",
       "       [-3.74730155e-02],\n",
       "       [-2.37525608e-02],\n",
       "       [-2.18018629e-02],\n",
       "       [-7.92013854e-02],\n",
       "       [-3.36295627e-02],\n",
       "       [-1.63457572e-01],\n",
       "       [-2.43450329e-02],\n",
       "       [-1.30108401e-01],\n",
       "       [ 7.75262993e-03],\n",
       "       [-9.26928297e-02],\n",
       "       [ 1.87725518e-02],\n",
       "       [-8.01839828e-02],\n",
       "       [-2.59290542e-02],\n",
       "       [-7.14953169e-02],\n",
       "       [-2.05307733e-02],\n",
       "       [-2.36325227e-02],\n",
       "       [-3.23486403e-02],\n",
       "       [-3.66501734e-02],\n",
       "       [-9.05336905e-03],\n",
       "       [-7.56271333e-02],\n",
       "       [-1.25998743e-02],\n",
       "       [-4.50637378e-02],\n",
       "       [-2.10659448e-02],\n",
       "       [-2.30830573e-02],\n",
       "       [-4.96957526e-02],\n",
       "       [ 2.70420965e-02],\n",
       "       [-8.19539502e-02],\n",
       "       [-2.64457613e-02],\n",
       "       [-7.92776868e-02],\n",
       "       [-1.59734499e-03],\n",
       "       [-7.61784017e-02],\n",
       "       [-2.33145934e-02],\n",
       "       [-7.40451142e-02],\n",
       "       [ 1.69834513e-02],\n",
       "       [-4.70454209e-02],\n",
       "       [ 6.46116817e-03],\n",
       "       [-5.39192557e-02],\n",
       "       [-2.16120910e-02],\n",
       "       [-7.19104558e-02],\n",
       "       [-3.74322049e-02],\n",
       "       [-2.47727311e-03],\n",
       "       [ 1.00115612e-02],\n",
       "       [ 5.30051477e-02],\n",
       "       [-1.84248462e-02],\n",
       "       [-1.01977065e-01],\n",
       "       [-6.48578480e-02],\n",
       "       [-7.75099173e-02],\n",
       "       [-1.29310802e-01],\n",
       "       [-1.22211032e-01],\n",
       "       [-1.30463347e-01],\n",
       "       [-1.46676242e-01],\n",
       "       [-1.01216823e-01],\n",
       "       [-8.29315409e-02],\n",
       "       [-8.12397972e-02],\n",
       "       [-9.36114937e-02],\n",
       "       [-9.80599523e-02],\n",
       "       [-1.21951051e-01],\n",
       "       [-3.87878977e-02],\n",
       "       [-6.94330931e-02],\n",
       "       [-7.64625147e-02],\n",
       "       [-9.64834765e-02],\n",
       "       [-5.62487841e-02],\n",
       "       [-9.43605378e-02],\n",
       "       [-5.89951128e-02],\n",
       "       [-1.20525375e-01],\n",
       "       [-5.26123233e-02],\n",
       "       [-5.09456247e-02],\n",
       "       [-6.64403737e-02],\n",
       "       [-4.27492596e-02],\n",
       "       [-9.40396711e-02],\n",
       "       [-1.11182168e-01],\n",
       "       [-3.52549776e-02],\n",
       "       [-1.18082114e-01],\n",
       "       [-4.44427766e-02],\n",
       "       [-1.04073778e-01],\n",
       "       [-5.69785871e-02],\n",
       "       [-8.91633779e-02],\n",
       "       [-1.51843140e-02],\n",
       "       [-6.59293607e-02],\n",
       "       [-1.77161768e-02],\n",
       "       [-7.99200088e-02],\n",
       "       [-2.94799395e-02],\n",
       "       [-4.49113846e-02],\n",
       "       [-1.00553662e-01],\n",
       "       [-2.61090305e-02],\n",
       "       [-1.32846713e-01],\n",
       "       [-2.29158476e-02],\n",
       "       [-8.67274180e-02],\n",
       "       [ 2.52810419e-02],\n",
       "       [-7.97001943e-02],\n",
       "       [ 3.70016061e-02],\n",
       "       [-8.88209939e-02],\n",
       "       [ 5.93356751e-02],\n",
       "       [-9.45847929e-02],\n",
       "       [ 4.54923213e-02],\n",
       "       [-1.23983711e-01],\n",
       "       [ 2.61077322e-02],\n",
       "       [-1.11300081e-01],\n",
       "       [ 4.60422076e-02],\n",
       "       [-8.68422613e-02],\n",
       "       [ 1.02598809e-01],\n",
       "       [-9.10376012e-02],\n",
       "       [ 2.33833455e-02],\n",
       "       [-9.56558064e-02],\n",
       "       [ 3.15839015e-02],\n",
       "       [-3.88012491e-02],\n",
       "       [ 7.20316023e-02],\n",
       "       [-7.77495131e-02],\n",
       "       [ 1.63628355e-01],\n",
       "       [-4.71828803e-02],\n",
       "       [ 6.48552626e-02],\n",
       "       [-2.05593929e-02],\n",
       "       [ 9.11936611e-02],\n",
       "       [-1.00091867e-01],\n",
       "       [ 1.18527323e-01],\n",
       "       [-9.09271985e-02],\n",
       "       [ 1.63729087e-01],\n",
       "       [-8.93536434e-02],\n",
       "       [ 1.58518299e-01],\n",
       "       [-2.51814537e-02],\n",
       "       [ 1.27083480e-01],\n",
       "       [-5.99257760e-02],\n",
       "       [ 1.44283801e-01],\n",
       "       [-8.62391964e-02],\n",
       "       [ 1.03701256e-01],\n",
       "       [-4.64331247e-02],\n",
       "       [ 1.47607595e-01],\n",
       "       [-6.80738986e-02],\n",
       "       [ 2.60944776e-02],\n",
       "       [ 5.83369322e-02],\n",
       "       [ 2.60092281e-02],\n",
       "       [ 5.58144078e-02],\n",
       "       [ 4.06501070e-02],\n",
       "       [-5.60502224e-02],\n",
       "       [ 5.47057800e-02],\n",
       "       [-4.46028039e-02],\n",
       "       [ 1.94678921e-02],\n",
       "       [-5.92248924e-02],\n",
       "       [-3.67115363e-02],\n",
       "       [-7.51102343e-02],\n",
       "       [ 1.29710033e-03],\n",
       "       [-9.47951674e-02],\n",
       "       [-2.51351893e-02],\n",
       "       [-7.16255233e-02],\n",
       "       [-4.13428023e-02],\n",
       "       [-5.80909699e-02],\n",
       "       [-9.47495177e-02],\n",
       "       [ 5.12583135e-03],\n",
       "       [-1.02440819e-01],\n",
       "       [ 1.54714175e-02],\n",
       "       [-1.00481406e-01],\n",
       "       [-5.43402098e-02],\n",
       "       [-1.20876715e-01],\n",
       "       [ 4.02289890e-02],\n",
       "       [-1.31135866e-01],\n",
       "       [-9.94257629e-03],\n",
       "       [-1.56662568e-01],\n",
       "       [-9.50448029e-03],\n",
       "       [-1.73973769e-01],\n",
       "       [-2.03050934e-02],\n",
       "       [-1.76603645e-01],\n",
       "       [-4.21149805e-02],\n",
       "       [-2.08233520e-01],\n",
       "       [-2.19055526e-02],\n",
       "       [-1.54665858e-01],\n",
       "       [-3.12126968e-02],\n",
       "       [-1.85875043e-01],\n",
       "       [ 3.51279788e-03],\n",
       "       [-1.78954005e-01],\n",
       "       [-1.71810407e-02],\n",
       "       [-1.38261244e-01],\n",
       "       [-2.34087501e-02],\n",
       "       [-1.24293327e-01],\n",
       "       [-4.93779704e-02],\n",
       "       [-6.20709248e-02],\n",
       "       [-3.89663130e-02],\n",
       "       [-9.30292383e-02],\n",
       "       [-1.07795689e-02],\n",
       "       [-8.64519104e-02],\n",
       "       [ 5.44617288e-02],\n",
       "       [-7.93334320e-02],\n",
       "       [ 4.88614589e-02],\n",
       "       [-4.41650413e-02],\n",
       "       [ 2.75424309e-02],\n",
       "       [-1.83692724e-02],\n",
       "       [ 2.40870640e-02],\n",
       "       [-5.59497392e-03],\n",
       "       [ 3.56045738e-02],\n",
       "       [ 6.19080849e-02],\n",
       "       [ 2.60269195e-02],\n",
       "       [ 8.30940828e-02],\n",
       "       [ 9.69064701e-03],\n",
       "       [ 4.15720902e-02],\n",
       "       [ 3.14546120e-03],\n",
       "       [ 3.49506103e-02],\n",
       "       [-2.69413274e-02],\n",
       "       [ 7.48126116e-03],\n",
       "       [-2.47914121e-02],\n",
       "       [ 2.67536542e-03],\n",
       "       [-1.94521137e-02],\n",
       "       [-4.40475382e-02],\n",
       "       [-3.21989134e-02],\n",
       "       [-4.85246740e-02],\n",
       "       [-4.04460691e-02],\n",
       "       [-8.23058262e-02],\n",
       "       [-6.62226602e-02],\n",
       "       [-5.95223568e-02],\n",
       "       [-1.29409488e-02],\n",
       "       [-1.68765169e-02],\n",
       "       [-4.55885008e-02],\n",
       "       [-5.51228710e-02],\n",
       "       [-1.04406342e-01],\n",
       "       [-5.53582571e-02],\n",
       "       [-1.08002879e-01],\n",
       "       [-4.62535769e-02],\n",
       "       [-1.16261527e-01],\n",
       "       [-7.50385821e-02],\n",
       "       [-7.50385821e-02],\n",
       "       [-1.08671874e-01],\n",
       "       [-7.79832015e-03],\n",
       "       [-4.39818129e-02],\n",
       "       [ 5.16308621e-02],\n",
       "       [-4.56241183e-02],\n",
       "       [ 4.03595231e-02],\n",
       "       [-7.18467906e-02],\n",
       "       [ 2.58841272e-02],\n",
       "       [-6.78565800e-02],\n",
       "       [ 4.15236019e-02],\n",
       "       [-6.42602816e-02],\n",
       "       [ 6.58692280e-03],\n",
       "       [-1.24642678e-01],\n",
       "       [ 1.01637077e-02],\n",
       "       [-8.38446766e-02],\n",
       "       [-6.03097491e-03]], dtype=float32)"
      ]
     },
     "execution_count": 147,
     "metadata": {},
     "output_type": "execute_result"
    }
   ],
   "source": [
    "y_pred"
   ]
  },
  {
   "cell_type": "code",
   "execution_count": 148,
   "metadata": {},
   "outputs": [],
   "source": [
    "# y_pred1 = (y_pred>0).astype(int)"
   ]
  },
  {
   "cell_type": "code",
   "execution_count": 149,
   "metadata": {},
   "outputs": [],
   "source": [
    "# y_test"
   ]
  },
  {
   "cell_type": "code",
   "execution_count": 150,
   "metadata": {},
   "outputs": [],
   "source": [
    "# accuracy_score(y_test, y_pred)"
   ]
  },
  {
   "cell_type": "code",
   "execution_count": 151,
   "metadata": {},
   "outputs": [
    {
     "data": {
      "text/plain": [
       "0.6423751686909581"
      ]
     },
     "execution_count": 151,
     "metadata": {},
     "output_type": "execute_result"
    }
   ],
   "source": [
    "roc_auc_score(y_test, y_pred)"
   ]
  },
  {
   "cell_type": "code",
   "execution_count": null,
   "metadata": {},
   "outputs": [],
   "source": []
  },
  {
   "cell_type": "code",
   "execution_count": null,
   "metadata": {},
   "outputs": [],
   "source": []
  }
 ],
 "metadata": {
  "kernelspec": {
   "display_name": "Python 3",
   "language": "python",
   "name": "python3"
  },
  "language_info": {
   "codemirror_mode": {
    "name": "ipython",
    "version": 3
   },
   "file_extension": ".py",
   "mimetype": "text/x-python",
   "name": "python",
   "nbconvert_exporter": "python",
   "pygments_lexer": "ipython3",
   "version": "3.7.3"
  }
 },
 "nbformat": 4,
 "nbformat_minor": 2
}
