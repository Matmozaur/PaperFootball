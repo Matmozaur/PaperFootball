{
 "cells": [
  {
   "cell_type": "code",
   "execution_count": 1,
   "metadata": {},
   "outputs": [],
   "source": [
    "import model.game as game\n",
    "# import tensorflow as tf\n"
   ]
  },
  {
   "cell_type": "code",
   "execution_count": 2,
   "metadata": {},
   "outputs": [
    {
     "name": "stderr",
     "output_type": "stream",
     "text": [
      "/usr/local/lib/python3.6/dist-packages/tensorflow/python/framework/dtypes.py:523: FutureWarning: Passing (type, 1) or '1type' as a synonym of type is deprecated; in a future version of numpy, it will be understood as (type, (1,)) / '(1,)type'.\n",
      "  _np_qint8 = np.dtype([(\"qint8\", np.int8, 1)])\n",
      "/usr/local/lib/python3.6/dist-packages/tensorflow/python/framework/dtypes.py:524: FutureWarning: Passing (type, 1) or '1type' as a synonym of type is deprecated; in a future version of numpy, it will be understood as (type, (1,)) / '(1,)type'.\n",
      "  _np_quint8 = np.dtype([(\"quint8\", np.uint8, 1)])\n",
      "/usr/local/lib/python3.6/dist-packages/tensorflow/python/framework/dtypes.py:525: FutureWarning: Passing (type, 1) or '1type' as a synonym of type is deprecated; in a future version of numpy, it will be understood as (type, (1,)) / '(1,)type'.\n",
      "  _np_qint16 = np.dtype([(\"qint16\", np.int16, 1)])\n",
      "/usr/local/lib/python3.6/dist-packages/tensorflow/python/framework/dtypes.py:526: FutureWarning: Passing (type, 1) or '1type' as a synonym of type is deprecated; in a future version of numpy, it will be understood as (type, (1,)) / '(1,)type'.\n",
      "  _np_quint16 = np.dtype([(\"quint16\", np.uint16, 1)])\n",
      "/usr/local/lib/python3.6/dist-packages/tensorflow/python/framework/dtypes.py:527: FutureWarning: Passing (type, 1) or '1type' as a synonym of type is deprecated; in a future version of numpy, it will be understood as (type, (1,)) / '(1,)type'.\n",
      "  _np_qint32 = np.dtype([(\"qint32\", np.int32, 1)])\n",
      "/usr/local/lib/python3.6/dist-packages/tensorflow/python/framework/dtypes.py:532: FutureWarning: Passing (type, 1) or '1type' as a synonym of type is deprecated; in a future version of numpy, it will be understood as (type, (1,)) / '(1,)type'.\n",
      "  np_resource = np.dtype([(\"resource\", np.ubyte, 1)])\n"
     ]
    }
   ],
   "source": [
    "import controller.loss as loss"
   ]
  },
  {
   "cell_type": "code",
   "execution_count": 3,
   "metadata": {},
   "outputs": [],
   "source": [
    "p = [1.0,0.0]\n",
    "pi = [1.0,1.0]\n",
    "# p = [1.0,1.0]\n",
    "# pi = [1.0,1.0]\n",
    "# zero = tf.zeros(shape=tf.shape(pi), dtype=tf.float32)\n",
    "# where = tf.equal(pi, zero)\n",
    "# negatives = tf.fill(tf.shape(pi), -100.0)\n",
    "# p = tf.where(where, negatives, p)"
   ]
  },
  {
   "cell_type": "code",
   "execution_count": 4,
   "metadata": {},
   "outputs": [],
   "source": [
    "# with tf.Session() as sess:  print(p.eval()) "
   ]
  },
  {
   "cell_type": "code",
   "execution_count": 5,
   "metadata": {},
   "outputs": [],
   "source": [
    "# loss = tf.nn.softmax_cross_entropy_with_logits(labels=pi, logits=p)"
   ]
  },
  {
   "cell_type": "code",
   "execution_count": 6,
   "metadata": {},
   "outputs": [],
   "source": [
    "# with tf.Session() as sess:  print(loss.eval()) "
   ]
  },
  {
   "cell_type": "code",
   "execution_count": null,
   "metadata": {},
   "outputs": [],
   "source": []
  },
  {
   "cell_type": "code",
   "execution_count": null,
   "metadata": {},
   "outputs": [],
   "source": []
  },
  {
   "cell_type": "code",
   "execution_count": null,
   "metadata": {},
   "outputs": [],
   "source": []
  },
  {
   "cell_type": "code",
   "execution_count": 7,
   "metadata": {},
   "outputs": [],
   "source": [
    "# c =-tf.reduce_sum(pi * tf.log(sf), 4)"
   ]
  },
  {
   "cell_type": "code",
   "execution_count": null,
   "metadata": {},
   "outputs": [],
   "source": []
  },
  {
   "cell_type": "code",
   "execution_count": 8,
   "metadata": {},
   "outputs": [],
   "source": [
    "import numpy as np\n",
    "# np.random.dirichlet([1] * 2)"
   ]
  },
  {
   "cell_type": "code",
   "execution_count": 9,
   "metadata": {},
   "outputs": [],
   "source": [
    "def get_positions(x, y):\n",
    "        position1 = [0, 0]\n",
    "        position2 = [0, 0]\n",
    "        position1[1] = x\n",
    "        if y % 4 == 0:\n",
    "            position2[1] = x+1\n",
    "            position1[0] = int(y/4)\n",
    "            position2[0] = int(y/4)\n",
    "        elif y % 4 == 1:\n",
    "            position2[1] = x\n",
    "            position1[0] = int(y/4)\n",
    "            position2[0] = int(y/4+1)\n",
    "        elif y % 4 == 2:\n",
    "            position2[1] = x+1\n",
    "            position1[0] = int(y/4)\n",
    "            position2[0] = int(y/4)+1\n",
    "        elif y % 4 == 3:\n",
    "            position2[1] = x+1\n",
    "            position1[0] = int(y/4)+1\n",
    "            position2[0] = int(y/4)\n",
    "        return position1, position2\n",
    "\n",
    "def get_all_lines(board):\n",
    "    lines = []\n",
    "    for i in range(48):\n",
    "        for j in range(8):\n",
    "            if board[i, j] == 1:\n",
    "#                    print(j,i)\n",
    "                 lines.append(get_positions(j, i))\n",
    "    return lines\n",
    "\n",
    "\n",
    "def turn_board(board=None):\n",
    "    \n",
    "        board2 = np.zeros((48, 8), dtype=int)\n",
    "        board2[1::4, 0] = 1\n",
    "        board2[:5, :] = 1\n",
    "        board2[-4:, :] = 1\n",
    "        board2[1:5, [3, 4]] = 0\n",
    "        board2[-5:, [3, 4]] = 0\n",
    "        board2[1, 3] = 1\n",
    "        board2[-3, 3] = 1\n",
    "        for i in range(5, 42):\n",
    "            for j in range(8):\n",
    "                if i % 4 == 1:\n",
    "                    if j == 0:\n",
    "                        board2[i, j] = 1\n",
    "                    else:\n",
    "                        board2[i, j] = board[46 - i, 8 - j]\n",
    "                elif i % 4 == 2:\n",
    "                    board2[i + 2, j] = board[46 - i, 7 - j]\n",
    "                elif i % 4 == 0:\n",
    "                    board2[i + 2, j] = board[46 - i, 7 - j]\n",
    "                elif i % 4 == 3:\n",
    "                    board2[i + 4, j] = board[46 - i, 7 - j]\n",
    "\n",
    "        board2[44, 3] = board[4, 4]\n",
    "        board2[44, 4] = board[4, 3]\n",
    "        board2[45, 4] = board[1, 4]\n",
    "        board2[46, 3] = board[2, 4]\n",
    "        board2[46, 4] = board[2, 3]\n",
    "        board2[47, 3] = board[3, 4]\n",
    "        board2[47, 4] = board[3, 3]\n",
    "\n",
    "        board2[4, 4] = board[44, 3]\n",
    "        board2[4, 3] = board[44, 4]\n",
    "        board2[1, 4] = board[45, 4]\n",
    "        board2[2, 4] = board[46, 3]\n",
    "        board2[2, 3] = board[46, 4]\n",
    "        board2[3, 4] = board[47, 3]\n",
    "        board2[3, 3] = board[47, 4]\n",
    "        return board2"
   ]
  },
  {
   "cell_type": "code",
   "execution_count": 10,
   "metadata": {},
   "outputs": [],
   "source": [
    "# get_all_lines([[1 1 1 1 1 1 1 1],\n",
    "#  [1 1 1 1 1 1 1 1],\n",
    "#  [1 1 1 1 1 1 1 1],\n",
    "#  [1 1 1 1 1 1 1 1],\n",
    "#  [1 1 1 1 1 1 1 1],\n",
    "#  [1 1 1 1 1 1 1 0],\n",
    "#  [0 0 1 0 1 0 0 0],\n",
    "#  [0 1 0 1 0 0 0 0],\n",
    "#  [1 1 1 1 1 1 0 0],\n",
    "#  [1 1 1 1 0 0 0 0],\n",
    "#  [1 1 1 1 0 1 0 0],\n",
    "#  [1 0 0 1 0 0 0 0],\n",
    "#  [1 1 1 1 0 0 0 0],\n",
    "#  [1 1 1 0 0 0 0 0],\n",
    "#  [0 1 0 0 0 0 0 0],\n",
    "#  [0 1 1 0 0 0 0 0],\n",
    "#  [1 1 0 0 0 0 0 0],\n",
    "#  [1 1 0 0 0 0 0 0],\n",
    "#  [1 0 1 0 0 0 0 0],\n",
    "#  [1 1 0 0 0 0 0 0],\n",
    "#  [1 0 0 0 0 0 0 0],\n",
    "#  [1 0 0 0 0 0 0 0],\n",
    "#  [0 0 0 1 0 0 0 0],\n",
    "#  [0 0 0 0 0 0 0 0],\n",
    "#  [0 0 0 0 0 0 0 0],\n",
    "#  [1 0 0 0 0 0 0 0],\n",
    "#  [0 0 0 0 0 0 0 0],\n",
    "#  [0 0 0 0 0 0 0 0],\n",
    "#  [0 0 0 0 0 0 0 0],\n",
    "#  [1 0 0 0 0 0 0 0],\n",
    "#  [0 0 0 0 0 0 0 0],\n",
    "#  [0 0 0 0 0 0 0 0],\n",
    "#  [0 0 0 0 0 0 0 0],\n",
    "#  [1 0 0 0 0 0 0 0],\n",
    "#  [0 0 0 0 0 0 0 0],\n",
    "#  [0 0 0 0 0 0 0 0],\n",
    "#  [0 0 0 0 0 0 0 0],\n",
    "#  [1 0 0 0 0 0 0 0],\n",
    "#  [0 0 0 0 0 0 0 0],\n",
    "#  [0 0 0 0 0 0 0 0],\n",
    "#  [0 0 0 0 0 0 0 0],\n",
    "#  [1 0 0 0 0 0 0 0],\n",
    "#  [0 0 0 0 0 0 0 0],\n",
    "#  [0 0 0 0 0 0 0 0],\n",
    "#  [1 1 1 0 0 1 1 1],\n",
    "#  [1 1 1 1 0 1 1 1],\n",
    "#  [1 1 1 0 0 1 1 1],\n",
    "#  [1 1 1 0 0 1 1 1]])"
   ]
  },
  {
   "cell_type": "code",
   "execution_count": 11,
   "metadata": {},
   "outputs": [],
   "source": [
    "b = game.empty_board()"
   ]
  },
  {
   "cell_type": "code",
   "execution_count": 12,
   "metadata": {},
   "outputs": [],
   "source": [
    "b[22,3]=1\n",
    "b=turn_board(b)\n",
    "b[30,5]=1\n",
    "b=turn_board(b)\n",
    "b[13,2]=1\n",
    "b=turn_board(b)\n"
   ]
  },
  {
   "cell_type": "code",
   "execution_count": 21,
   "metadata": {},
   "outputs": [
    {
     "data": {
      "text/plain": [
       "[([0, 0], [0, 1]),\n",
       " ([0, 1], [0, 2]),\n",
       " ([0, 2], [0, 3]),\n",
       " ([0, 3], [0, 4]),\n",
       " ([0, 4], [0, 5]),\n",
       " ([0, 5], [0, 6]),\n",
       " ([0, 6], [0, 7]),\n",
       " ([0, 7], [0, 8]),\n",
       " ([0, 0], [1, 0]),\n",
       " ([0, 1], [1, 1]),\n",
       " ([0, 2], [1, 2]),\n",
       " ([0, 3], [1, 3]),\n",
       " ([0, 5], [1, 5]),\n",
       " ([0, 6], [1, 6]),\n",
       " ([0, 7], [1, 7]),\n",
       " ([0, 0], [1, 1]),\n",
       " ([0, 1], [1, 2]),\n",
       " ([0, 2], [1, 3]),\n",
       " ([0, 5], [1, 6]),\n",
       " ([0, 6], [1, 7]),\n",
       " ([0, 7], [1, 8]),\n",
       " ([1, 0], [0, 1]),\n",
       " ([1, 1], [0, 2]),\n",
       " ([1, 2], [0, 3]),\n",
       " ([1, 5], [0, 6]),\n",
       " ([1, 6], [0, 7]),\n",
       " ([1, 7], [0, 8]),\n",
       " ([1, 0], [1, 1]),\n",
       " ([1, 1], [1, 2]),\n",
       " ([1, 2], [1, 3]),\n",
       " ([1, 5], [1, 6]),\n",
       " ([1, 6], [1, 7]),\n",
       " ([1, 7], [1, 8]),\n",
       " ([1, 0], [2, 0]),\n",
       " ([2, 0], [3, 0]),\n",
       " ([3, 0], [4, 0]),\n",
       " ([4, 0], [5, 0]),\n",
       " ([5, 0], [6, 0]),\n",
       " ([6, 0], [7, 0]),\n",
       " ([7, 0], [8, 0]),\n",
       " ([8, 0], [9, 0]),\n",
       " ([9, 0], [10, 0]),\n",
       " ([10, 0], [11, 0]),\n",
       " ([11, 0], [11, 1]),\n",
       " ([11, 1], [11, 2]),\n",
       " ([11, 2], [11, 3]),\n",
       " ([11, 5], [11, 6]),\n",
       " ([11, 6], [11, 7]),\n",
       " ([11, 7], [11, 8]),\n",
       " ([11, 0], [12, 0]),\n",
       " ([11, 1], [12, 1]),\n",
       " ([11, 2], [12, 2]),\n",
       " ([11, 3], [12, 3]),\n",
       " ([11, 5], [12, 5]),\n",
       " ([11, 6], [12, 6]),\n",
       " ([11, 7], [12, 7]),\n",
       " ([11, 0], [12, 1]),\n",
       " ([11, 1], [12, 2]),\n",
       " ([11, 2], [12, 3]),\n",
       " ([11, 5], [12, 6]),\n",
       " ([11, 6], [12, 7]),\n",
       " ([11, 7], [12, 8]),\n",
       " ([12, 0], [11, 1]),\n",
       " ([12, 1], [11, 2]),\n",
       " ([12, 2], [11, 3]),\n",
       " ([12, 5], [11, 6]),\n",
       " ([12, 6], [11, 7]),\n",
       " ([12, 7], [11, 8])]"
      ]
     },
     "execution_count": 21,
     "metadata": {},
     "output_type": "execute_result"
    }
   ],
   "source": [
    "get_all_lines(board)"
   ]
  },
  {
   "cell_type": "code",
   "execution_count": null,
   "metadata": {},
   "outputs": [],
   "source": []
  },
  {
   "cell_type": "code",
   "execution_count": 22,
   "metadata": {},
   "outputs": [],
   "source": [
    "# env = game.Game()"
   ]
  },
  {
   "cell_type": "code",
   "execution_count": 36,
   "metadata": {},
   "outputs": [],
   "source": [
    "# board = env.gameState.board"
   ]
  },
  {
   "cell_type": "code",
   "execution_count": 201,
   "metadata": {},
   "outputs": [],
   "source": [
    "move=([(10, 0), (7, 0), (6, 1)],(2, 2),0,0)\n",
    "\n",
    "env.make_move(move)\n",
    "\n",
    "env.change_player()\n",
    "\n",
    "board = env.gameState.board\n",
    "\n",
    "get_all_lines(board)\n",
    "\n",
    "import view.BoardGui as bg\n",
    "\n",
    "board1 = bg.BoardGui()\n",
    "board1.draw_board()\n",
    "board1.draw_lines(get_all_lines(board))\n",
    " \n",
    "\n",
    "board1.canvas.pack(fill=\"both\", expand=True)\n",
    "board1.window.geometry(\"400x600\")\n",
    "board1.window.mainloop()\n",
    "print(board1.points_gui)"
   ]
  },
  {
   "cell_type": "code",
   "execution_count": null,
   "metadata": {},
   "outputs": [],
   "source": []
  },
  {
   "cell_type": "code",
   "execution_count": null,
   "metadata": {},
   "outputs": [],
   "source": []
  },
  {
   "cell_type": "code",
   "execution_count": 209,
   "metadata": {},
   "outputs": [],
   "source": [
    "A= [(m[0], m[1]) for m in env.get_all_allowed_moves()]"
   ]
  },
  {
   "cell_type": "code",
   "execution_count": 210,
   "metadata": {},
   "outputs": [
    {
     "data": {
      "text/plain": [
       "21660"
      ]
     },
     "execution_count": 210,
     "metadata": {},
     "output_type": "execute_result"
    }
   ],
   "source": [
    "len(A)"
   ]
  },
  {
   "cell_type": "code",
   "execution_count": 212,
   "metadata": {},
   "outputs": [
    {
     "ename": "KeyboardInterrupt",
     "evalue": "",
     "output_type": "error",
     "traceback": [
      "\u001b[0;31m---------------------------------------------------------------------------\u001b[0m",
      "\u001b[0;31mKeyboardInterrupt\u001b[0m                         Traceback (most recent call last)",
      "\u001b[0;32m<ipython-input-212-b8a1f0162032>\u001b[0m in \u001b[0;36m<module>\u001b[0;34m()\u001b[0m\n\u001b[1;32m      1\u001b[0m \u001b[0;32mfor\u001b[0m \u001b[0ma\u001b[0m \u001b[0;32min\u001b[0m \u001b[0mrange\u001b[0m\u001b[0;34m(\u001b[0m\u001b[0mlen\u001b[0m\u001b[0;34m(\u001b[0m\u001b[0mA\u001b[0m\u001b[0;34m)\u001b[0m\u001b[0;34m)\u001b[0m\u001b[0;34m:\u001b[0m\u001b[0;34m\u001b[0m\u001b[0;34m\u001b[0m\u001b[0m\n\u001b[1;32m      2\u001b[0m     \u001b[0;32mfor\u001b[0m \u001b[0mb\u001b[0m \u001b[0;32min\u001b[0m \u001b[0mrange\u001b[0m \u001b[0;34m(\u001b[0m\u001b[0ma\u001b[0m\u001b[0;34m+\u001b[0m\u001b[0;36m1\u001b[0m\u001b[0;34m,\u001b[0m\u001b[0mlen\u001b[0m\u001b[0;34m(\u001b[0m\u001b[0mA\u001b[0m\u001b[0;34m)\u001b[0m\u001b[0;34m)\u001b[0m\u001b[0;34m:\u001b[0m\u001b[0;34m\u001b[0m\u001b[0;34m\u001b[0m\u001b[0m\n\u001b[0;32m----> 3\u001b[0;31m         \u001b[0;32mif\u001b[0m \u001b[0mA\u001b[0m\u001b[0;34m[\u001b[0m\u001b[0ma\u001b[0m\u001b[0;34m]\u001b[0m\u001b[0;34m[\u001b[0m\u001b[0;36m0\u001b[0m\u001b[0;34m]\u001b[0m\u001b[0;34m==\u001b[0m\u001b[0mA\u001b[0m\u001b[0;34m[\u001b[0m\u001b[0mb\u001b[0m\u001b[0;34m]\u001b[0m\u001b[0;34m[\u001b[0m\u001b[0;36m0\u001b[0m\u001b[0;34m]\u001b[0m\u001b[0;34m:\u001b[0m\u001b[0;34m\u001b[0m\u001b[0;34m\u001b[0m\u001b[0m\n\u001b[0m\u001b[1;32m      4\u001b[0m             \u001b[0mprint\u001b[0m\u001b[0;34m(\u001b[0m\u001b[0;34m'SADFAS'\u001b[0m\u001b[0;34m)\u001b[0m\u001b[0;34m\u001b[0m\u001b[0;34m\u001b[0m\u001b[0m\n",
      "\u001b[0;31mKeyboardInterrupt\u001b[0m: "
     ]
    }
   ],
   "source": [
    "for a in range(len(A)):\n",
    "    for b in range (a+1,len(A)):\n",
    "        if A[a][0]==A[b][0]:\n",
    "            print('SADFAS')"
   ]
  },
  {
   "cell_type": "code",
   "execution_count": 214,
   "metadata": {},
   "outputs": [
    {
     "data": {
      "text/plain": [
       "([(38, 5),\n",
       "  (34, 4),\n",
       "  (33, 4),\n",
       "  (36, 4),\n",
       "  (37, 5),\n",
       "  (42, 5),\n",
       "  (41, 6),\n",
       "  (40, 5),\n",
       "  (41, 5),\n",
       "  (42, 4),\n",
       "  (43, 3),\n",
       "  (42, 2)],\n",
       " (10, 2))"
      ]
     },
     "execution_count": 214,
     "metadata": {},
     "output_type": "execute_result"
    }
   ],
   "source": [
    "A[222]"
   ]
  },
  {
   "cell_type": "code",
   "execution_count": 273,
   "metadata": {},
   "outputs": [],
   "source": [
    "import copy\n",
    "env_test = copy.deepcopy(env)"
   ]
  },
  {
   "cell_type": "code",
   "execution_count": 274,
   "metadata": {},
   "outputs": [
    {
     "data": {
      "text/plain": [
       "[([0, 0], [0, 1]),\n",
       " ([0, 1], [0, 2]),\n",
       " ([0, 2], [0, 3]),\n",
       " ([0, 3], [0, 4]),\n",
       " ([0, 4], [0, 5]),\n",
       " ([0, 5], [0, 6]),\n",
       " ([0, 6], [0, 7]),\n",
       " ([0, 7], [0, 8]),\n",
       " ([0, 0], [1, 0]),\n",
       " ([0, 1], [1, 1]),\n",
       " ([0, 2], [1, 2]),\n",
       " ([0, 3], [1, 3]),\n",
       " ([0, 5], [1, 5]),\n",
       " ([0, 6], [1, 6]),\n",
       " ([0, 7], [1, 7]),\n",
       " ([0, 0], [1, 1]),\n",
       " ([0, 1], [1, 2]),\n",
       " ([0, 2], [1, 3]),\n",
       " ([0, 5], [1, 6]),\n",
       " ([0, 6], [1, 7]),\n",
       " ([0, 7], [1, 8]),\n",
       " ([1, 0], [0, 1]),\n",
       " ([1, 1], [0, 2]),\n",
       " ([1, 2], [0, 3]),\n",
       " ([1, 5], [0, 6]),\n",
       " ([1, 6], [0, 7]),\n",
       " ([1, 7], [0, 8]),\n",
       " ([1, 0], [1, 1]),\n",
       " ([1, 1], [1, 2]),\n",
       " ([1, 2], [1, 3]),\n",
       " ([1, 5], [1, 6]),\n",
       " ([1, 6], [1, 7]),\n",
       " ([1, 7], [1, 8]),\n",
       " ([1, 0], [2, 0]),\n",
       " ([2, 0], [3, 0]),\n",
       " ([2, 3], [3, 4]),\n",
       " ([3, 0], [4, 0]),\n",
       " ([4, 0], [4, 1]),\n",
       " ([4, 0], [5, 0]),\n",
       " ([4, 1], [5, 1]),\n",
       " ([4, 3], [5, 3]),\n",
       " ([4, 0], [5, 1]),\n",
       " ([4, 1], [5, 2]),\n",
       " ([5, 0], [4, 1]),\n",
       " ([5, 2], [4, 3]),\n",
       " ([5, 0], [5, 1]),\n",
       " ([5, 1], [5, 2]),\n",
       " ([5, 0], [6, 0]),\n",
       " ([5, 1], [6, 1]),\n",
       " ([5, 2], [6, 2]),\n",
       " ([5, 3], [6, 3]),\n",
       " ([5, 2], [6, 3]),\n",
       " ([5, 3], [6, 4]),\n",
       " ([6, 0], [5, 1]),\n",
       " ([6, 1], [5, 2]),\n",
       " ([6, 2], [5, 3]),\n",
       " ([6, 0], [6, 1]),\n",
       " ([6, 1], [6, 2]),\n",
       " ([6, 3], [6, 4]),\n",
       " ([6, 0], [7, 0]),\n",
       " ([6, 3], [7, 3]),\n",
       " ([6, 2], [7, 3]),\n",
       " ([7, 3], [6, 4]),\n",
       " ([7, 0], [8, 0]),\n",
       " ([7, 4], [8, 4]),\n",
       " ([7, 3], [8, 4]),\n",
       " ([7, 4], [8, 5]),\n",
       " ([8, 5], [8, 6]),\n",
       " ([8, 0], [9, 0]),\n",
       " ([8, 4], [9, 4]),\n",
       " ([8, 5], [9, 5]),\n",
       " ([8, 6], [9, 6]),\n",
       " ([8, 4], [9, 5]),\n",
       " ([8, 5], [9, 6]),\n",
       " ([8, 6], [9, 7]),\n",
       " ([9, 5], [8, 6]),\n",
       " ([9, 4], [9, 5]),\n",
       " ([9, 5], [9, 6]),\n",
       " ([9, 0], [10, 0]),\n",
       " ([9, 4], [10, 4]),\n",
       " ([9, 5], [10, 5]),\n",
       " ([9, 4], [10, 5]),\n",
       " ([9, 5], [10, 6]),\n",
       " ([9, 7], [10, 8]),\n",
       " ([10, 4], [9, 5]),\n",
       " ([10, 5], [9, 6]),\n",
       " ([10, 5], [10, 6]),\n",
       " ([10, 0], [11, 0]),\n",
       " ([10, 5], [11, 5]),\n",
       " ([10, 6], [11, 6]),\n",
       " ([10, 2], [11, 3]),\n",
       " ([10, 4], [11, 5]),\n",
       " ([10, 5], [11, 6]),\n",
       " ([10, 6], [11, 7]),\n",
       " ([11, 3], [10, 4]),\n",
       " ([11, 7], [10, 8]),\n",
       " ([11, 0], [11, 1]),\n",
       " ([11, 1], [11, 2]),\n",
       " ([11, 2], [11, 3]),\n",
       " ([11, 5], [11, 6]),\n",
       " ([11, 6], [11, 7]),\n",
       " ([11, 7], [11, 8]),\n",
       " ([11, 0], [12, 0]),\n",
       " ([11, 1], [12, 1]),\n",
       " ([11, 2], [12, 2]),\n",
       " ([11, 3], [12, 3]),\n",
       " ([11, 5], [12, 5]),\n",
       " ([11, 6], [12, 6]),\n",
       " ([11, 7], [12, 7]),\n",
       " ([11, 0], [12, 1]),\n",
       " ([11, 1], [12, 2]),\n",
       " ([11, 2], [12, 3]),\n",
       " ([11, 5], [12, 6]),\n",
       " ([11, 6], [12, 7]),\n",
       " ([11, 7], [12, 8]),\n",
       " ([12, 0], [11, 1]),\n",
       " ([12, 1], [11, 2]),\n",
       " ([12, 2], [11, 3]),\n",
       " ([12, 5], [11, 6]),\n",
       " ([12, 6], [11, 7]),\n",
       " ([12, 7], [11, 8])]"
      ]
     },
     "execution_count": 274,
     "metadata": {},
     "output_type": "execute_result"
    }
   ],
   "source": [
    "move=(A[222][0],A[222][1],0,0)\n",
    "# move=([(42, 2)],(0,0),0,0)\n",
    "\n",
    "env_test.make_move(move)\n",
    "\n",
    "# env_test.change_player()\n",
    "\n",
    "board = env_test.gameState.board\n",
    "\n",
    "get_all_lines(board)\n",
    "\n",
    "# import view.BoardGui as bg\n",
    "\n",
    "# board1 = bg.BoardGui()\n",
    "# board1.draw_board()\n",
    "# board1.draw_lines(get_all_lines(board))\n",
    " \n",
    "\n",
    "# board1.canvas.pack(fill=\"both\", expand=True)\n",
    "# board1.window.geometry(\"400x600\")\n",
    "# board1.window.mainloop()\n",
    "# print(board1.points_gui)"
   ]
  },
  {
   "cell_type": "code",
   "execution_count": null,
   "metadata": {},
   "outputs": [],
   "source": []
  },
  {
   "cell_type": "code",
   "execution_count": 275,
   "metadata": {},
   "outputs": [],
   "source": [
    "def turn_board_2( board=None):\n",
    "        board2 = np.zeros((48, 8), dtype=int)\n",
    "        board2[1::4, 0] = 1\n",
    "        board2[:5, :] = 1\n",
    "        board2[-4:, :] = 1\n",
    "        board2[1:5, [3, 4]] = 0\n",
    "        board2[-5:, [3, 4]] = 0\n",
    "        board2[1, 3] = 1\n",
    "        board2[-3, 3] = 1\n",
    "        for i in range(3, 46):\n",
    "            for j in range(8):\n",
    "                if i % 4 == 1:\n",
    "                    if j == 0:\n",
    "                        board2[i, j] = 1\n",
    "                    else:\n",
    "                        board2[i, j] = board[46 - i, 8 - j]\n",
    "                elif i % 4 == 2:\n",
    "                    board2[i + 2, j] = board[46 - i, 7 - j]\n",
    "                elif i % 4 == 0:\n",
    "                    board2[i + 2, j] = board[46 - i, 7 - j]\n",
    "                elif i % 4 == 3:\n",
    "                    board2[i + 4, j] = board[46 - i, 7 - j]\n",
    "\n",
    "        board2[44, 3] = board[4, 4]\n",
    "        board2[44, 4] = board[4, 3]\n",
    "        board2[45, 4] = board[1, 4]\n",
    "        board2[46, 3] = board[2, 4]\n",
    "        board2[46, 4] = board[2, 3]\n",
    "        board2[47, 3] = board[3, 4]\n",
    "        board2[47, 4] = board[3, 3]\n",
    "\n",
    "        board2[4, 4] = board[44, 3]\n",
    "        board2[4, 3] = board[44, 4]\n",
    "        board2[1, 4] = board[45, 4]\n",
    "        board2[2, 4] = board[46, 3]\n",
    "        board2[2, 3] = board[46, 4]\n",
    "        board2[3, 4] = board[47, 3]\n",
    "        board2[3, 3] = board[47, 4]\n",
    "        del board\n",
    "        return board2"
   ]
  },
  {
   "cell_type": "code",
   "execution_count": 276,
   "metadata": {},
   "outputs": [],
   "source": [
    "board = turn_board_2(board)"
   ]
  },
  {
   "cell_type": "code",
   "execution_count": null,
   "metadata": {},
   "outputs": [],
   "source": [
    "get_all_lines(board)\n",
    "\n",
    "import view.BoardGui as bg\n",
    "\n",
    "board1 = bg.BoardGui()\n",
    "board1.draw_board()\n",
    "board1.draw_lines(get_all_lines(board))\n",
    " \n",
    "\n",
    "board1.canvas.pack(fill=\"both\", expand=True)\n",
    "board1.window.geometry(\"400x600\")\n",
    "board1.window.mainloop()\n",
    "print(board1.points_gui)"
   ]
  },
  {
   "cell_type": "code",
   "execution_count": null,
   "metadata": {},
   "outputs": [],
   "source": []
  }
 ],
 "metadata": {
  "kernelspec": {
   "display_name": "Python 3",
   "language": "python",
   "name": "python3"
  },
  "language_info": {
   "codemirror_mode": {
    "name": "ipython",
    "version": 3
   },
   "file_extension": ".py",
   "mimetype": "text/x-python",
   "name": "python",
   "nbconvert_exporter": "python",
   "pygments_lexer": "ipython3",
   "version": "3.6.8"
  }
 },
 "nbformat": 4,
 "nbformat_minor": 2
}
