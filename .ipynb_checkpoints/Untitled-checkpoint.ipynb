{
 "cells": [
  {
   "cell_type": "code",
   "execution_count": 4,
   "metadata": {},
   "outputs": [],
   "source": [
    "import model.game\n",
    "import tensorflow as tf\n"
   ]
  },
  {
   "cell_type": "code",
   "execution_count": 5,
   "metadata": {},
   "outputs": [],
   "source": [
    "import controller.loss as loss"
   ]
  },
  {
   "cell_type": "code",
   "execution_count": 86,
   "metadata": {},
   "outputs": [],
   "source": [
    "p = [1.0,0.0]\n",
    "pi = [1.0,1.0]\n",
    "# p = [1.0,1.0]\n",
    "# pi = [1.0,1.0]\n",
    "# zero = tf.zeros(shape=tf.shape(pi), dtype=tf.float32)\n",
    "# where = tf.equal(pi, zero)\n",
    "# negatives = tf.fill(tf.shape(pi), -100.0)\n",
    "# p = tf.where(where, negatives, p)"
   ]
  },
  {
   "cell_type": "code",
   "execution_count": 87,
   "metadata": {},
   "outputs": [],
   "source": [
    "# with tf.Session() as sess:  print(p.eval()) "
   ]
  },
  {
   "cell_type": "code",
   "execution_count": 88,
   "metadata": {},
   "outputs": [],
   "source": [
    "loss = tf.nn.softmax_cross_entropy_with_logits(labels=pi, logits=p)"
   ]
  },
  {
   "cell_type": "code",
   "execution_count": 89,
   "metadata": {},
   "outputs": [
    {
     "name": "stdout",
     "output_type": "stream",
     "text": [
      "1.6265233\n"
     ]
    }
   ],
   "source": [
    "with tf.Session() as sess:  print(loss.eval()) "
   ]
  },
  {
   "cell_type": "code",
   "execution_count": null,
   "metadata": {},
   "outputs": [],
   "source": []
  },
  {
   "cell_type": "code",
   "execution_count": null,
   "metadata": {},
   "outputs": [],
   "source": []
  },
  {
   "cell_type": "code",
   "execution_count": 36,
   "metadata": {},
   "outputs": [],
   "source": [
    "sf = tf.nn.softmax(logits=p)"
   ]
  },
  {
   "cell_type": "code",
   "execution_count": 37,
   "metadata": {},
   "outputs": [
    {
     "name": "stdout",
     "output_type": "stream",
     "text": [
      "[-100. -100.    1.    1.]\n"
     ]
    }
   ],
   "source": [
    "with tf.Session() as sess:  print(p.eval()) "
   ]
  },
  {
   "cell_type": "code",
   "execution_count": 38,
   "metadata": {},
   "outputs": [
    {
     "name": "stdout",
     "output_type": "stream",
     "text": [
      "[0.  0.  0.5 0.5]\n"
     ]
    }
   ],
   "source": [
    "with tf.Session() as sess:  print(sf.eval()) "
   ]
  },
  {
   "cell_type": "code",
   "execution_count": null,
   "metadata": {},
   "outputs": [],
   "source": []
  },
  {
   "cell_type": "code",
   "execution_count": 90,
   "metadata": {},
   "outputs": [],
   "source": [
    "# c =-tf.reduce_sum(pi * tf.log(sf), 4)"
   ]
  },
  {
   "cell_type": "code",
   "execution_count": null,
   "metadata": {},
   "outputs": [],
   "source": []
  },
  {
   "cell_type": "code",
   "execution_count": 1,
   "metadata": {},
   "outputs": [],
   "source": [
    "import numpy as np\n",
    "# np.random.dirichlet([1] * 2)"
   ]
  },
  {
   "cell_type": "code",
   "execution_count": 3,
   "metadata": {},
   "outputs": [],
   "source": [
    "def get_positions(x, y):\n",
    "        position1 = [0, 0]\n",
    "        position2 = [0, 0]\n",
    "        position1[1] = x\n",
    "        if y % 4 == 0:\n",
    "            position2[1] = x+1\n",
    "            position1[0] = int(y/4)\n",
    "            position2[0] = int(y/4)\n",
    "        elif y % 4 == 1:\n",
    "            position2[1] = x\n",
    "            position1[0] = int(y/4)\n",
    "            position2[0] = int(y/4+1)\n",
    "        elif y % 4 == 2:\n",
    "            position2[1] = x+1\n",
    "            position1[0] = int(y/4)\n",
    "            position2[0] = int(y/4)+1\n",
    "        elif y % 4 == 3:\n",
    "            position2[1] = x+1\n",
    "            position1[0] = int(y/4)+1\n",
    "            position2[0] = int(y/4)\n",
    "        return position1, position2\n",
    "\n",
    "def get_all_lines(board):\n",
    "    lines = []\n",
    "    for i in range(48):\n",
    "        for j in range(8):\n",
    "            if board[i, j] == 1:\n",
    "#                    print(j,i)\n",
    "                 lines.append(get_positions(j, i))\n",
    "    return lines"
   ]
  },
  {
   "cell_type": "code",
   "execution_count": 4,
   "metadata": {},
   "outputs": [
    {
     "ename": "SyntaxError",
     "evalue": "invalid syntax (<ipython-input-4-8dbfaef6c49a>, line 1)",
     "output_type": "error",
     "traceback": [
      "\u001b[0;36m  File \u001b[0;32m\"<ipython-input-4-8dbfaef6c49a>\"\u001b[0;36m, line \u001b[0;32m1\u001b[0m\n\u001b[0;31m    get_all_lines([[1 1 1 1 1 1 1 1]\u001b[0m\n\u001b[0m                      ^\u001b[0m\n\u001b[0;31mSyntaxError\u001b[0m\u001b[0;31m:\u001b[0m invalid syntax\n"
     ]
    }
   ],
   "source": [
    "get_all_lines([[1 1 1 1 1 1 1 1],\n",
    " [1 1 1 1 1 1 1 1],\n",
    " [1 1 1 1 1 1 1 1],\n",
    " [1 1 1 1 1 1 1 1],\n",
    " [1 1 1 1 1 1 1 1],\n",
    " [1 1 1 1 1 1 1 0],\n",
    " [0 0 1 0 1 0 0 0],\n",
    " [0 1 0 1 0 0 0 0],\n",
    " [1 1 1 1 1 1 0 0],\n",
    " [1 1 1 1 0 0 0 0],\n",
    " [1 1 1 1 0 1 0 0],\n",
    " [1 0 0 1 0 0 0 0],\n",
    " [1 1 1 1 0 0 0 0],\n",
    " [1 1 1 0 0 0 0 0],\n",
    " [0 1 0 0 0 0 0 0],,\n",
    " [0 1 1 0 0 0 0 0],\n",
    " [1 1 0 0 0 0 0 0]\n",
    " [1 1 0 0 0 0 0 0]\n",
    " [1 0 1 0 0 0 0 0]\n",
    " [1 1 0 0 0 0 0 0]\n",
    " [1 0 0 0 0 0 0 0]\n",
    " [1 0 0 0 0 0 0 0]\n",
    " [0 0 0 1 0 0 0 0]\n",
    " [0 0 0 0 0 0 0 0]\n",
    " [0 0 0 0 0 0 0 0]\n",
    " [1 0 0 0 0 0 0 0]\n",
    " [0 0 0 0 0 0 0 0]\n",
    " [0 0 0 0 0 0 0 0]\n",
    " [0 0 0 0 0 0 0 0]\n",
    " [1 0 0 0 0 0 0 0]\n",
    " [0 0 0 0 0 0 0 0]\n",
    " [0 0 0 0 0 0 0 0]\n",
    " [0 0 0 0 0 0 0 0]\n",
    " [1 0 0 0 0 0 0 0]\n",
    " [0 0 0 0 0 0 0 0]\n",
    " [0 0 0 0 0 0 0 0]\n",
    " [0 0 0 0 0 0 0 0]\n",
    " [1 0 0 0 0 0 0 0]\n",
    " [0 0 0 0 0 0 0 0]\n",
    " [0 0 0 0 0 0 0 0]\n",
    " [0 0 0 0 0 0 0 0]\n",
    " [1 0 0 0 0 0 0 0]\n",
    " [0 0 0 0 0 0 0 0]\n",
    " [0 0 0 0 0 0 0 0]\n",
    " [1 1 1 0 0 1 1 1]\n",
    " [1 1 1 1 0 1 1 1]\n",
    " [1 1 1 0 0 1 1 1]\n",
    " [1 1 1 0 0 1 1 1]])"
   ]
  },
  {
   "cell_type": "code",
   "execution_count": null,
   "metadata": {},
   "outputs": [],
   "source": []
  },
  {
   "cell_type": "code",
   "execution_count": null,
   "metadata": {},
   "outputs": [],
   "source": []
  },
  {
   "cell_type": "code",
   "execution_count": null,
   "metadata": {},
   "outputs": [],
   "source": []
  }
 ],
 "metadata": {
  "kernelspec": {
   "display_name": "Python 3",
   "language": "python",
   "name": "python3"
  },
  "language_info": {
   "codemirror_mode": {
    "name": "ipython",
    "version": 3
   },
   "file_extension": ".py",
   "mimetype": "text/x-python",
   "name": "python",
   "nbconvert_exporter": "python",
   "pygments_lexer": "ipython3",
   "version": "3.6.8"
  }
 },
 "nbformat": 4,
 "nbformat_minor": 2
}
