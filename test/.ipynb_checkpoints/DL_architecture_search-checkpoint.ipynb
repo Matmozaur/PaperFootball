{
 "cells": [
  {
   "cell_type": "code",
   "execution_count": 68,
   "metadata": {},
   "outputs": [],
   "source": [
    "import pandas as pd\n",
    "import pickle\n",
    "import numpy as np"
   ]
  },
  {
   "cell_type": "code",
   "execution_count": 69,
   "metadata": {},
   "outputs": [],
   "source": [
    "file = open('controller/memory', 'rb')\n",
    "memory = pickle.load(file)"
   ]
  },
  {
   "cell_type": "code",
   "execution_count": 70,
   "metadata": {},
   "outputs": [],
   "source": [
    "# file = open('controller/memory2', 'rb')\n",
    "# memory2 = pickle.load(file)"
   ]
  },
  {
   "cell_type": "code",
   "execution_count": 71,
   "metadata": {},
   "outputs": [],
   "source": [
    "memory = memory.ltmemory\n",
    "# memory2 = memory2.ltmemory"
   ]
  },
  {
   "cell_type": "code",
   "execution_count": 72,
   "metadata": {},
   "outputs": [],
   "source": [
    "# memory+=memory2"
   ]
  },
  {
   "cell_type": "code",
   "execution_count": 73,
   "metadata": {},
   "outputs": [
    {
     "data": {
      "text/plain": [
       "42101"
      ]
     },
     "execution_count": 73,
     "metadata": {},
     "output_type": "execute_result"
    }
   ],
   "source": [
    "len(memory)"
   ]
  },
  {
   "cell_type": "code",
   "execution_count": 74,
   "metadata": {},
   "outputs": [],
   "source": [
    "# memory[2]"
   ]
  },
  {
   "cell_type": "code",
   "execution_count": 75,
   "metadata": {},
   "outputs": [],
   "source": [
    "result = map(lambda x: x['result'], memory) "
   ]
  },
  {
   "cell_type": "code",
   "execution_count": 76,
   "metadata": {},
   "outputs": [],
   "source": [
    "result = list(result)"
   ]
  },
  {
   "cell_type": "code",
   "execution_count": 77,
   "metadata": {},
   "outputs": [],
   "source": [
    "states = map(lambda x: x['state'].reshape(384,), memory) "
   ]
  },
  {
   "cell_type": "code",
   "execution_count": 78,
   "metadata": {},
   "outputs": [],
   "source": [
    "states = list(states)"
   ]
  },
  {
   "cell_type": "code",
   "execution_count": 79,
   "metadata": {},
   "outputs": [],
   "source": [
    "y = np.array(result)"
   ]
  },
  {
   "cell_type": "code",
   "execution_count": 80,
   "metadata": {},
   "outputs": [],
   "source": [
    "X = np.array(states)"
   ]
  },
  {
   "cell_type": "code",
   "execution_count": 81,
   "metadata": {},
   "outputs": [],
   "source": [
    "from sklearn.model_selection import train_test_split"
   ]
  },
  {
   "cell_type": "code",
   "execution_count": 82,
   "metadata": {},
   "outputs": [],
   "source": [
    "X_train, X_test, y_train, y_test = train_test_split(X, y, test_size=0.2, shuffle=False)"
   ]
  },
  {
   "cell_type": "code",
   "execution_count": 83,
   "metadata": {},
   "outputs": [],
   "source": [
    "X_train=pd.DataFrame(X_train)\n",
    "X_test=pd.DataFrame(X_test)"
   ]
  },
  {
   "cell_type": "code",
   "execution_count": 84,
   "metadata": {},
   "outputs": [],
   "source": [
    "# X_train = X_train.loc[:, (X_train != X_train.iloc[0]).any()] "
   ]
  },
  {
   "cell_type": "code",
   "execution_count": 85,
   "metadata": {},
   "outputs": [],
   "source": [
    "# X_test = X_test[X_train.columns] "
   ]
  },
  {
   "cell_type": "code",
   "execution_count": 86,
   "metadata": {},
   "outputs": [],
   "source": [
    "# X_test.shape"
   ]
  },
  {
   "cell_type": "code",
   "execution_count": 87,
   "metadata": {},
   "outputs": [],
   "source": [
    "X_train = X_train.values"
   ]
  },
  {
   "cell_type": "code",
   "execution_count": 88,
   "metadata": {},
   "outputs": [],
   "source": [
    "X_test = X_test.values"
   ]
  },
  {
   "cell_type": "code",
   "execution_count": 89,
   "metadata": {},
   "outputs": [],
   "source": [
    "# from keras.models import Sequential\n",
    "# from keras.layers import Dense, Activation\n",
    "import tensorflow as tf\n",
    "import keras as keras\n",
    "from sklearn.utils.random import sample_without_replacement"
   ]
  },
  {
   "cell_type": "code",
   "execution_count": 90,
   "metadata": {},
   "outputs": [
    {
     "data": {
      "text/plain": [
       "False"
      ]
     },
     "execution_count": 90,
     "metadata": {},
     "output_type": "execute_result"
    }
   ],
   "source": [
    "tf.test.is_gpu_available(\n",
    "    cuda_only=False,\n",
    "    min_cuda_compute_capability=None\n",
    ")\n"
   ]
  },
  {
   "cell_type": "code",
   "execution_count": 91,
   "metadata": {},
   "outputs": [],
   "source": [
    "# config = tf.ConfigProto( device_count = {'GPU': 1024 , 'CPU': 3} ) \n",
    "# sess = tf.Session(config=config) \n",
    "# keras.backend.set_session(sess)"
   ]
  },
  {
   "cell_type": "code",
   "execution_count": 102,
   "metadata": {},
   "outputs": [],
   "source": [
    "model = keras.Sequential()\n",
    "model.add(keras.layers.Dense(400, activation='sigmoid', input_dim=384))\n",
    "model.add(keras.layers.Dense(800, activation='sigmoid', input_dim=400))\n",
    "model.add(keras.layers.Dense(200, activation='sigmoid', input_dim=800))\n",
    "model.add(keras.layers.Dense(1, activation='sigmoid'))\n",
    "model.compile(optimizer='sgd',loss='binary_crossentropy',metrics=['accuracy'])\n",
    "\n",
    "# model = Sequential()\n",
    "# model.add(Dense(200, activation='sigmoid', input_dim=307))\n",
    "# model.add(Dense(100, activation='sigmoid', input_dim=200))\n",
    "# model.add(Dense(60, activation='sigmoid', input_dim=100))\n",
    "# model.add(Dense(40, activation='sigmoid', input_dim=60))\n",
    "# model.add(Dense(20, activation='sigmoid', input_dim=40))\n",
    "# model.add(Dense(16, activation='sigmoid', input_dim=20))\n",
    "# model.add(Dense(1, activation='sigmoid'))\n",
    "# model.compile(optimizer='sgd'M,loss='mean_absolute_error',metrics=['accuracy'])"
   ]
  },
  {
   "cell_type": "code",
   "execution_count": 103,
   "metadata": {},
   "outputs": [],
   "source": [
    "y_train = y_train>0\n",
    "y_train = y_train.astype(int)\n",
    "y_test = y_test>0\n",
    "y_test = y_test.astype(int)"
   ]
  },
  {
   "cell_type": "code",
   "execution_count": 104,
   "metadata": {},
   "outputs": [],
   "source": [
    "samples = sample_without_replacement(len(X_train), 20000)\n",
    "\n",
    "X1 = X_train[samples]\n",
    "y1 = y_train[samples]"
   ]
  },
  {
   "cell_type": "code",
   "execution_count": 106,
   "metadata": {},
   "outputs": [
    {
     "name": "stdout",
     "output_type": "stream",
     "text": [
      "Train on 9000 samples, validate on 1000 samples\n",
      "Epoch 1/50\n",
      "9000/9000 [==============================] - 26s 3ms/step - loss: 0.7027 - acc: 0.5090 - val_loss: 0.6913 - val_acc: 0.5200\n",
      "Epoch 2/50\n",
      "9000/9000 [==============================] - 27s 3ms/step - loss: 0.7006 - acc: 0.5086 - val_loss: 0.6914 - val_acc: 0.5200\n",
      "Epoch 3/50\n",
      "9000/9000 [==============================] - 27s 3ms/step - loss: 0.6991 - acc: 0.5111 - val_loss: 0.6917 - val_acc: 0.5200\n",
      "Epoch 4/50\n",
      "9000/9000 [==============================] - 29s 3ms/step - loss: 0.6978 - acc: 0.5110 - val_loss: 0.6920 - val_acc: 0.5200\n",
      "Epoch 5/50\n",
      "9000/9000 [==============================] - 30s 3ms/step - loss: 0.6969 - acc: 0.5123 - val_loss: 0.6921 - val_acc: 0.5200\n",
      "Epoch 6/50\n",
      "9000/9000 [==============================] - 31s 3ms/step - loss: 0.6961 - acc: 0.5148 - val_loss: 0.6921 - val_acc: 0.5200\n",
      "Epoch 7/50\n",
      "9000/9000 [==============================] - 26s 3ms/step - loss: 0.6954 - acc: 0.5148 - val_loss: 0.6921 - val_acc: 0.5200\n",
      "Epoch 8/50\n",
      "9000/9000 [==============================] - 27s 3ms/step - loss: 0.6948 - acc: 0.5126 - val_loss: 0.6919 - val_acc: 0.5200\n",
      "Epoch 9/50\n",
      "9000/9000 [==============================] - 26s 3ms/step - loss: 0.6944 - acc: 0.5142 - val_loss: 0.6917 - val_acc: 0.5200\n",
      "Epoch 10/50\n",
      "9000/9000 [==============================] - 25s 3ms/step - loss: 0.6940 - acc: 0.5157 - val_loss: 0.6915 - val_acc: 0.5200\n",
      "Epoch 11/50\n",
      "9000/9000 [==============================] - 25s 3ms/step - loss: 0.6936 - acc: 0.5166 - val_loss: 0.6912 - val_acc: 0.5200\n",
      "Epoch 12/50\n",
      "9000/9000 [==============================] - 28s 3ms/step - loss: 0.6933 - acc: 0.5172 - val_loss: 0.6909 - val_acc: 0.5200\n",
      "Epoch 13/50\n",
      "9000/9000 [==============================] - 26s 3ms/step - loss: 0.6930 - acc: 0.5186 - val_loss: 0.6906 - val_acc: 0.5200\n",
      "Epoch 14/50\n",
      "9000/9000 [==============================] - 28s 3ms/step - loss: 0.6927 - acc: 0.5196 - val_loss: 0.6902 - val_acc: 0.5200\n",
      "Epoch 15/50\n",
      "9000/9000 [==============================] - 26s 3ms/step - loss: 0.6924 - acc: 0.5229 - val_loss: 0.6899 - val_acc: 0.5200\n",
      "Epoch 16/50\n",
      "9000/9000 [==============================] - 26s 3ms/step - loss: 0.6921 - acc: 0.5241 - val_loss: 0.6895 - val_acc: 0.5200\n",
      "Epoch 17/50\n",
      "9000/9000 [==============================] - 26s 3ms/step - loss: 0.6917 - acc: 0.5263 - val_loss: 0.6890 - val_acc: 0.5200\n",
      "Epoch 18/50\n",
      "9000/9000 [==============================] - 27s 3ms/step - loss: 0.6914 - acc: 0.5302 - val_loss: 0.6884 - val_acc: 0.5200\n",
      "Epoch 19/50\n",
      "9000/9000 [==============================] - 26s 3ms/step - loss: 0.6910 - acc: 0.5331 - val_loss: 0.6878 - val_acc: 0.5190\n",
      "Epoch 20/50\n",
      "9000/9000 [==============================] - 26s 3ms/step - loss: 0.6905 - acc: 0.5358 - val_loss: 0.6870 - val_acc: 0.5200\n",
      "Epoch 21/50\n",
      "9000/9000 [==============================] - 25s 3ms/step - loss: 0.6900 - acc: 0.5369 - val_loss: 0.6862 - val_acc: 0.5210\n",
      "Epoch 22/50\n",
      "9000/9000 [==============================] - 26s 3ms/step - loss: 0.6894 - acc: 0.5406 - val_loss: 0.6852 - val_acc: 0.5220\n",
      "Epoch 23/50\n",
      "9000/9000 [==============================] - 29s 3ms/step - loss: 0.6888 - acc: 0.5416 - val_loss: 0.6840 - val_acc: 0.5230\n",
      "Epoch 24/50\n",
      "9000/9000 [==============================] - 25s 3ms/step - loss: 0.6881 - acc: 0.5439 - val_loss: 0.6828 - val_acc: 0.5390\n",
      "Epoch 25/50\n",
      "9000/9000 [==============================] - 26s 3ms/step - loss: 0.6873 - acc: 0.5468 - val_loss: 0.6814 - val_acc: 0.5450\n",
      "Epoch 26/50\n",
      "9000/9000 [==============================] - 26s 3ms/step - loss: 0.6865 - acc: 0.5516 - val_loss: 0.6799 - val_acc: 0.5490\n",
      "Epoch 27/50\n",
      "9000/9000 [==============================] - 28s 3ms/step - loss: 0.6856 - acc: 0.5558 - val_loss: 0.6784 - val_acc: 0.5540\n",
      "Epoch 28/50\n",
      "9000/9000 [==============================] - 29s 3ms/step - loss: 0.6846 - acc: 0.5563 - val_loss: 0.6769 - val_acc: 0.5700\n",
      "Epoch 29/50\n",
      "9000/9000 [==============================] - 26s 3ms/step - loss: 0.6836 - acc: 0.5593 - val_loss: 0.6754 - val_acc: 0.5680\n",
      "Epoch 30/50\n",
      "9000/9000 [==============================] - 25s 3ms/step - loss: 0.6823 - acc: 0.5600 - val_loss: 0.6738 - val_acc: 0.5750\n",
      "Epoch 31/50\n",
      "9000/9000 [==============================] - 33s 4ms/step - loss: 0.6810 - acc: 0.5653 - val_loss: 0.6721 - val_acc: 0.5810\n",
      "Epoch 32/50\n",
      "9000/9000 [==============================] - 26s 3ms/step - loss: 0.6794 - acc: 0.5698 - val_loss: 0.6703 - val_acc: 0.5870\n",
      "Epoch 33/50\n",
      "9000/9000 [==============================] - 27s 3ms/step - loss: 0.6775 - acc: 0.5736 - val_loss: 0.6684 - val_acc: 0.6010\n",
      "Epoch 34/50\n",
      "9000/9000 [==============================] - 25s 3ms/step - loss: 0.6754 - acc: 0.5754 - val_loss: 0.6664 - val_acc: 0.6070\n",
      "Epoch 35/50\n",
      "9000/9000 [==============================] - 28s 3ms/step - loss: 0.6730 - acc: 0.5792 - val_loss: 0.6642 - val_acc: 0.6200\n",
      "Epoch 36/50\n",
      "9000/9000 [==============================] - 28s 3ms/step - loss: 0.6703 - acc: 0.5832 - val_loss: 0.6621 - val_acc: 0.6200\n",
      "Epoch 37/50\n",
      "9000/9000 [==============================] - 29s 3ms/step - loss: 0.6675 - acc: 0.5868 - val_loss: 0.6602 - val_acc: 0.6200\n",
      "Epoch 38/50\n",
      "9000/9000 [==============================] - 26s 3ms/step - loss: 0.6647 - acc: 0.5906 - val_loss: 0.6583 - val_acc: 0.6130\n",
      "Epoch 39/50\n",
      "9000/9000 [==============================] - 26s 3ms/step - loss: 0.6620 - acc: 0.5926 - val_loss: 0.6566 - val_acc: 0.6090\n",
      "Epoch 40/50\n",
      "9000/9000 [==============================] - 29s 3ms/step - loss: 0.6594 - acc: 0.5978 - val_loss: 0.6550 - val_acc: 0.6070\n",
      "Epoch 41/50\n",
      "6104/9000 [===================>..........] - ETA: 9s - loss: 0.6576 - acc: 0.6037"
     ]
    },
    {
     "ename": "KeyboardInterrupt",
     "evalue": "",
     "output_type": "error",
     "traceback": [
      "\u001b[0;31m---------------------------------------------------------------------------\u001b[0m",
      "\u001b[0;31mKeyboardInterrupt\u001b[0m                         Traceback (most recent call last)",
      "\u001b[0;32m<ipython-input-106-9652efdb3700>\u001b[0m in \u001b[0;36m<module>\u001b[0;34m()\u001b[0m\n\u001b[1;32m      1\u001b[0m \u001b[0;31m# model.fit(X_train,y_train, epochs=5,batch_size=8,shuffle=False,validation_split= 0.7)\u001b[0m\u001b[0;34m\u001b[0m\u001b[0;34m\u001b[0m\u001b[0;34m\u001b[0m\u001b[0m\n\u001b[0;32m----> 2\u001b[0;31m \u001b[0mmodel\u001b[0m\u001b[0;34m.\u001b[0m\u001b[0mfit\u001b[0m\u001b[0;34m(\u001b[0m\u001b[0mX1\u001b[0m\u001b[0;34m,\u001b[0m\u001b[0my1\u001b[0m\u001b[0;34m,\u001b[0m \u001b[0mepochs\u001b[0m\u001b[0;34m=\u001b[0m\u001b[0;36m50\u001b[0m\u001b[0;34m,\u001b[0m\u001b[0mbatch_size\u001b[0m\u001b[0;34m=\u001b[0m\u001b[0;36m4\u001b[0m\u001b[0;34m,\u001b[0m\u001b[0mshuffle\u001b[0m\u001b[0;34m=\u001b[0m\u001b[0;32mFalse\u001b[0m\u001b[0;34m,\u001b[0m\u001b[0mvalidation_split\u001b[0m\u001b[0;34m=\u001b[0m \u001b[0;36m0.1\u001b[0m\u001b[0;34m)\u001b[0m\u001b[0;34m\u001b[0m\u001b[0;34m\u001b[0m\u001b[0m\n\u001b[0m",
      "\u001b[0;32m/usr/local/lib/python3.6/dist-packages/keras/engine/training.py\u001b[0m in \u001b[0;36mfit\u001b[0;34m(self, x, y, batch_size, epochs, verbose, callbacks, validation_split, validation_data, shuffle, class_weight, sample_weight, initial_epoch, steps_per_epoch, validation_steps, **kwargs)\u001b[0m\n\u001b[1;32m   1037\u001b[0m                                         \u001b[0minitial_epoch\u001b[0m\u001b[0;34m=\u001b[0m\u001b[0minitial_epoch\u001b[0m\u001b[0;34m,\u001b[0m\u001b[0;34m\u001b[0m\u001b[0;34m\u001b[0m\u001b[0m\n\u001b[1;32m   1038\u001b[0m                                         \u001b[0msteps_per_epoch\u001b[0m\u001b[0;34m=\u001b[0m\u001b[0msteps_per_epoch\u001b[0m\u001b[0;34m,\u001b[0m\u001b[0;34m\u001b[0m\u001b[0;34m\u001b[0m\u001b[0m\n\u001b[0;32m-> 1039\u001b[0;31m                                         validation_steps=validation_steps)\n\u001b[0m\u001b[1;32m   1040\u001b[0m \u001b[0;34m\u001b[0m\u001b[0m\n\u001b[1;32m   1041\u001b[0m     def evaluate(self, x=None, y=None,\n",
      "\u001b[0;32m/usr/local/lib/python3.6/dist-packages/keras/engine/training_arrays.py\u001b[0m in \u001b[0;36mfit_loop\u001b[0;34m(model, f, ins, out_labels, batch_size, epochs, verbose, callbacks, val_f, val_ins, shuffle, callback_metrics, initial_epoch, steps_per_epoch, validation_steps)\u001b[0m\n\u001b[1;32m    197\u001b[0m                     \u001b[0mins_batch\u001b[0m\u001b[0;34m[\u001b[0m\u001b[0mi\u001b[0m\u001b[0;34m]\u001b[0m \u001b[0;34m=\u001b[0m \u001b[0mins_batch\u001b[0m\u001b[0;34m[\u001b[0m\u001b[0mi\u001b[0m\u001b[0;34m]\u001b[0m\u001b[0;34m.\u001b[0m\u001b[0mtoarray\u001b[0m\u001b[0;34m(\u001b[0m\u001b[0;34m)\u001b[0m\u001b[0;34m\u001b[0m\u001b[0;34m\u001b[0m\u001b[0m\n\u001b[1;32m    198\u001b[0m \u001b[0;34m\u001b[0m\u001b[0m\n\u001b[0;32m--> 199\u001b[0;31m                 \u001b[0mouts\u001b[0m \u001b[0;34m=\u001b[0m \u001b[0mf\u001b[0m\u001b[0;34m(\u001b[0m\u001b[0mins_batch\u001b[0m\u001b[0;34m)\u001b[0m\u001b[0;34m\u001b[0m\u001b[0;34m\u001b[0m\u001b[0m\n\u001b[0m\u001b[1;32m    200\u001b[0m                 \u001b[0mouts\u001b[0m \u001b[0;34m=\u001b[0m \u001b[0mto_list\u001b[0m\u001b[0;34m(\u001b[0m\u001b[0mouts\u001b[0m\u001b[0;34m)\u001b[0m\u001b[0;34m\u001b[0m\u001b[0;34m\u001b[0m\u001b[0m\n\u001b[1;32m    201\u001b[0m                 \u001b[0;32mfor\u001b[0m \u001b[0ml\u001b[0m\u001b[0;34m,\u001b[0m \u001b[0mo\u001b[0m \u001b[0;32min\u001b[0m \u001b[0mzip\u001b[0m\u001b[0;34m(\u001b[0m\u001b[0mout_labels\u001b[0m\u001b[0;34m,\u001b[0m \u001b[0mouts\u001b[0m\u001b[0;34m)\u001b[0m\u001b[0;34m:\u001b[0m\u001b[0;34m\u001b[0m\u001b[0;34m\u001b[0m\u001b[0m\n",
      "\u001b[0;32m/usr/local/lib/python3.6/dist-packages/keras/backend/tensorflow_backend.py\u001b[0m in \u001b[0;36m__call__\u001b[0;34m(self, inputs)\u001b[0m\n\u001b[1;32m   2713\u001b[0m                 \u001b[0;32mreturn\u001b[0m \u001b[0mself\u001b[0m\u001b[0;34m.\u001b[0m\u001b[0m_legacy_call\u001b[0m\u001b[0;34m(\u001b[0m\u001b[0minputs\u001b[0m\u001b[0;34m)\u001b[0m\u001b[0;34m\u001b[0m\u001b[0;34m\u001b[0m\u001b[0m\n\u001b[1;32m   2714\u001b[0m \u001b[0;34m\u001b[0m\u001b[0m\n\u001b[0;32m-> 2715\u001b[0;31m             \u001b[0;32mreturn\u001b[0m \u001b[0mself\u001b[0m\u001b[0;34m.\u001b[0m\u001b[0m_call\u001b[0m\u001b[0;34m(\u001b[0m\u001b[0minputs\u001b[0m\u001b[0;34m)\u001b[0m\u001b[0;34m\u001b[0m\u001b[0;34m\u001b[0m\u001b[0m\n\u001b[0m\u001b[1;32m   2716\u001b[0m         \u001b[0;32melse\u001b[0m\u001b[0;34m:\u001b[0m\u001b[0;34m\u001b[0m\u001b[0;34m\u001b[0m\u001b[0m\n\u001b[1;32m   2717\u001b[0m             \u001b[0;32mif\u001b[0m \u001b[0mpy_any\u001b[0m\u001b[0;34m(\u001b[0m\u001b[0mis_tensor\u001b[0m\u001b[0;34m(\u001b[0m\u001b[0mx\u001b[0m\u001b[0;34m)\u001b[0m \u001b[0;32mfor\u001b[0m \u001b[0mx\u001b[0m \u001b[0;32min\u001b[0m \u001b[0minputs\u001b[0m\u001b[0;34m)\u001b[0m\u001b[0;34m:\u001b[0m\u001b[0;34m\u001b[0m\u001b[0;34m\u001b[0m\u001b[0m\n",
      "\u001b[0;32m/usr/local/lib/python3.6/dist-packages/keras/backend/tensorflow_backend.py\u001b[0m in \u001b[0;36m_call\u001b[0;34m(self, inputs)\u001b[0m\n\u001b[1;32m   2673\u001b[0m             \u001b[0mfetched\u001b[0m \u001b[0;34m=\u001b[0m \u001b[0mself\u001b[0m\u001b[0;34m.\u001b[0m\u001b[0m_callable_fn\u001b[0m\u001b[0;34m(\u001b[0m\u001b[0;34m*\u001b[0m\u001b[0marray_vals\u001b[0m\u001b[0;34m,\u001b[0m \u001b[0mrun_metadata\u001b[0m\u001b[0;34m=\u001b[0m\u001b[0mself\u001b[0m\u001b[0;34m.\u001b[0m\u001b[0mrun_metadata\u001b[0m\u001b[0;34m)\u001b[0m\u001b[0;34m\u001b[0m\u001b[0;34m\u001b[0m\u001b[0m\n\u001b[1;32m   2674\u001b[0m         \u001b[0;32melse\u001b[0m\u001b[0;34m:\u001b[0m\u001b[0;34m\u001b[0m\u001b[0;34m\u001b[0m\u001b[0m\n\u001b[0;32m-> 2675\u001b[0;31m             \u001b[0mfetched\u001b[0m \u001b[0;34m=\u001b[0m \u001b[0mself\u001b[0m\u001b[0;34m.\u001b[0m\u001b[0m_callable_fn\u001b[0m\u001b[0;34m(\u001b[0m\u001b[0;34m*\u001b[0m\u001b[0marray_vals\u001b[0m\u001b[0;34m)\u001b[0m\u001b[0;34m\u001b[0m\u001b[0;34m\u001b[0m\u001b[0m\n\u001b[0m\u001b[1;32m   2676\u001b[0m         \u001b[0;32mreturn\u001b[0m \u001b[0mfetched\u001b[0m\u001b[0;34m[\u001b[0m\u001b[0;34m:\u001b[0m\u001b[0mlen\u001b[0m\u001b[0;34m(\u001b[0m\u001b[0mself\u001b[0m\u001b[0;34m.\u001b[0m\u001b[0moutputs\u001b[0m\u001b[0;34m)\u001b[0m\u001b[0;34m]\u001b[0m\u001b[0;34m\u001b[0m\u001b[0;34m\u001b[0m\u001b[0m\n\u001b[1;32m   2677\u001b[0m \u001b[0;34m\u001b[0m\u001b[0m\n",
      "\u001b[0;32m/usr/local/lib/python3.6/dist-packages/tensorflow/python/client/session.py\u001b[0m in \u001b[0;36m__call__\u001b[0;34m(self, *args, **kwargs)\u001b[0m\n\u001b[1;32m   1380\u001b[0m           ret = tf_session.TF_SessionRunCallable(\n\u001b[1;32m   1381\u001b[0m               \u001b[0mself\u001b[0m\u001b[0;34m.\u001b[0m\u001b[0m_session\u001b[0m\u001b[0;34m.\u001b[0m\u001b[0m_session\u001b[0m\u001b[0;34m,\u001b[0m \u001b[0mself\u001b[0m\u001b[0;34m.\u001b[0m\u001b[0m_handle\u001b[0m\u001b[0;34m,\u001b[0m \u001b[0margs\u001b[0m\u001b[0;34m,\u001b[0m \u001b[0mstatus\u001b[0m\u001b[0;34m,\u001b[0m\u001b[0;34m\u001b[0m\u001b[0;34m\u001b[0m\u001b[0m\n\u001b[0;32m-> 1382\u001b[0;31m               run_metadata_ptr)\n\u001b[0m\u001b[1;32m   1383\u001b[0m         \u001b[0;32mif\u001b[0m \u001b[0mrun_metadata\u001b[0m\u001b[0;34m:\u001b[0m\u001b[0;34m\u001b[0m\u001b[0;34m\u001b[0m\u001b[0m\n\u001b[1;32m   1384\u001b[0m           \u001b[0mproto_data\u001b[0m \u001b[0;34m=\u001b[0m \u001b[0mtf_session\u001b[0m\u001b[0;34m.\u001b[0m\u001b[0mTF_GetBuffer\u001b[0m\u001b[0;34m(\u001b[0m\u001b[0mrun_metadata_ptr\u001b[0m\u001b[0;34m)\u001b[0m\u001b[0;34m\u001b[0m\u001b[0;34m\u001b[0m\u001b[0m\n",
      "\u001b[0;31mKeyboardInterrupt\u001b[0m: "
     ]
    }
   ],
   "source": [
    "# model.fit(X_train,y_train, epochs=5,batch_size=8,shuffle=False,validation_split= 0.7)\n",
    "model.fit(X1,y1, epochs=50,batch_size=8,shuffle=False,validation_split= 0.2)"
   ]
  },
  {
   "cell_type": "code",
   "execution_count": 107,
   "metadata": {},
   "outputs": [],
   "source": [
    "y_pred = model.predict_classes(X_test)"
   ]
  },
  {
   "cell_type": "code",
   "execution_count": 108,
   "metadata": {},
   "outputs": [],
   "source": [
    "from sklearn.metrics import accuracy_score"
   ]
  },
  {
   "cell_type": "code",
   "execution_count": 109,
   "metadata": {},
   "outputs": [
    {
     "data": {
      "text/plain": [
       "0.481178007362546"
      ]
     },
     "execution_count": 109,
     "metadata": {},
     "output_type": "execute_result"
    }
   ],
   "source": [
    "accuracy_score(y_test, y_pred)"
   ]
  },
  {
   "cell_type": "code",
   "execution_count": 110,
   "metadata": {},
   "outputs": [],
   "source": [
    "from sklearn.metrics import roc_auc_score"
   ]
  },
  {
   "cell_type": "code",
   "execution_count": 111,
   "metadata": {},
   "outputs": [],
   "source": [
    "y_pred = model.predict(X_test)"
   ]
  },
  {
   "cell_type": "code",
   "execution_count": 112,
   "metadata": {},
   "outputs": [
    {
     "data": {
      "text/plain": [
       "0.48162565507371025"
      ]
     },
     "execution_count": 112,
     "metadata": {},
     "output_type": "execute_result"
    }
   ],
   "source": [
    "roc_auc_score(y_test, y_pred)"
   ]
  },
  {
   "cell_type": "markdown",
   "metadata": {},
   "source": [
    "# RF baseline"
   ]
  },
  {
   "cell_type": "code",
   "execution_count": 113,
   "metadata": {},
   "outputs": [],
   "source": [
    "from sklearn.ensemble import RandomForestClassifier"
   ]
  },
  {
   "cell_type": "code",
   "execution_count": 124,
   "metadata": {},
   "outputs": [
    {
     "data": {
      "text/plain": [
       "RandomForestClassifier(bootstrap=True, class_weight=None, criterion='gini',\n",
       "            max_depth=12, max_features='auto', max_leaf_nodes=None,\n",
       "            min_impurity_decrease=0.0, min_impurity_split=None,\n",
       "            min_samples_leaf=1, min_samples_split=2,\n",
       "            min_weight_fraction_leaf=0.0, n_estimators=10, n_jobs=1,\n",
       "            oob_score=False, random_state=0, verbose=0, warm_start=False)"
      ]
     },
     "execution_count": 124,
     "metadata": {},
     "output_type": "execute_result"
    }
   ],
   "source": [
    "clf = RandomForestClassifier(max_depth=12, random_state=0)\n",
    "clf.fit(X_train, y_train)\n"
   ]
  },
  {
   "cell_type": "code",
   "execution_count": 125,
   "metadata": {},
   "outputs": [],
   "source": [
    "y_pred = clf.predict(X_test)"
   ]
  },
  {
   "cell_type": "code",
   "execution_count": 126,
   "metadata": {},
   "outputs": [
    {
     "data": {
      "text/plain": [
       "0.5011281320508253"
      ]
     },
     "execution_count": 126,
     "metadata": {},
     "output_type": "execute_result"
    }
   ],
   "source": [
    "accuracy_score(y_test, y_pred)"
   ]
  },
  {
   "cell_type": "code",
   "execution_count": 127,
   "metadata": {},
   "outputs": [],
   "source": [
    "y_pred = clf.predict_proba(X_test)"
   ]
  },
  {
   "cell_type": "code",
   "execution_count": 128,
   "metadata": {},
   "outputs": [
    {
     "data": {
      "text/plain": [
       "0.5024066586979905"
      ]
     },
     "execution_count": 128,
     "metadata": {},
     "output_type": "execute_result"
    }
   ],
   "source": [
    "roc_auc_score(y_test, y_pred[:,1])"
   ]
  },
  {
   "cell_type": "markdown",
   "metadata": {},
   "source": [
    "# From program"
   ]
  },
  {
   "cell_type": "code",
   "execution_count": 129,
   "metadata": {},
   "outputs": [],
   "source": [
    "from model.ml_module.ml_model import *"
   ]
  },
  {
   "cell_type": "code",
   "execution_count": 130,
   "metadata": {},
   "outputs": [
    {
     "name": "stdout",
     "output_type": "stream",
     "text": [
      "Tensor(\"leaky_re_lu_6/LeakyRelu:0\", shape=(?, 384, 8, 1), dtype=float32)\n"
     ]
    },
    {
     "name": "stderr",
     "output_type": "stream",
     "text": [
      "/home/matmozaur/Desktop/Python_ML/PaperFootball/model/ml_module/ml_model.py:177: UserWarning: Update your `Model` call to the Keras 2 API: `Model(inputs=[<tf.Tenso..., outputs=Tensor(\"va...)`\n",
      "  model = Model(inputs=[main_input], output=vh)\n"
     ]
    }
   ],
   "source": [
    "model = Residual_NN_simple(0.1, 0.005, config.INPUT_SHAPE, [\n",
    "    {'filters': 384, 'kernel_size': (8, 2)}\n",
    "#     , {'filters': 384, 'kernel_size': (8, 2)}\n",
    "    , {'filters': 384, 'kernel_size': (12, 3)}\n",
    "#     , {'filters': 384, 'kernel_size': (12, 3)}\n",
    "    # , {'filters': 86, 'kernel_size': (4, 4)}\n",
    "    # , {'filters': 300, 'kernel_size': (12, 3)}\n",
    "])"
   ]
  },
  {
   "cell_type": "code",
   "execution_count": 131,
   "metadata": {},
   "outputs": [],
   "source": [
    "# X_train = np.array([model.convertToModelInput_fit(row) for row in X_train])\n",
    "X1 = np.array([model.convertToModelInput_fit(row) for row in X1])"
   ]
  },
  {
   "cell_type": "code",
   "execution_count": 132,
   "metadata": {},
   "outputs": [
    {
     "name": "stdout",
     "output_type": "stream",
     "text": [
      "[name: \"/device:CPU:0\"\n",
      "device_type: \"CPU\"\n",
      "memory_limit: 268435456\n",
      "locality {\n",
      "}\n",
      "incarnation: 17338959957828747359\n",
      "]\n"
     ]
    }
   ],
   "source": [
    "from tensorflow.python.client import device_lib\n",
    "print(device_lib.list_local_devices())"
   ]
  },
  {
   "cell_type": "code",
   "execution_count": 149,
   "metadata": {},
   "outputs": [
    {
     "name": "stdout",
     "output_type": "stream",
     "text": [
      "Train on 9000 samples, validate on 1000 samples\n",
      "Epoch 1/50\n",
      "9000/9000 [==============================] - 844s 94ms/step - loss: 34.6945 - acc: 0.5417 - val_loss: 9.3681 - val_acc: 0.4810\n",
      "Epoch 2/50\n",
      "9000/9000 [==============================] - 807s 90ms/step - loss: 3.9127 - acc: 0.5731 - val_loss: 1.3234 - val_acc: 0.5000\n",
      "Epoch 3/50\n",
      "9000/9000 [==============================] - 791s 88ms/step - loss: 0.7444 - acc: 0.5716 - val_loss: 0.4925 - val_acc: 0.4860\n",
      "Epoch 4/50\n",
      "9000/9000 [==============================] - 780s 87ms/step - loss: 0.4191 - acc: 0.5722 - val_loss: 0.3792 - val_acc: 0.5850\n",
      "Epoch 5/50\n",
      "9000/9000 [==============================] - 749s 83ms/step - loss: 0.3959 - acc: 0.5570 - val_loss: 0.3939 - val_acc: 0.4970\n",
      "Epoch 6/50\n",
      "9000/9000 [==============================] - 738s 82ms/step - loss: 0.3735 - acc: 0.5684 - val_loss: 0.3784 - val_acc: 0.5440\n",
      "Epoch 7/50\n",
      "9000/9000 [==============================] - 697s 77ms/step - loss: 0.3813 - acc: 0.5672 - val_loss: 0.4268 - val_acc: 0.4880\n",
      "Epoch 8/50\n",
      "9000/9000 [==============================] - 695s 77ms/step - loss: 0.3720 - acc: 0.5729 - val_loss: 0.3632 - val_acc: 0.6100\n",
      "Epoch 9/50\n",
      "9000/9000 [==============================] - 696s 77ms/step - loss: 0.3686 - acc: 0.5819 - val_loss: 0.3851 - val_acc: 0.5490\n",
      "Epoch 10/50\n",
      "9000/9000 [==============================] - 696s 77ms/step - loss: 0.4365 - acc: 0.5406 - val_loss: 0.4330 - val_acc: 0.4800\n",
      "Epoch 11/50\n",
      "9000/9000 [==============================] - 692s 77ms/step - loss: 0.4141 - acc: 0.5274 - val_loss: 0.3819 - val_acc: 0.5460\n",
      "Epoch 12/50\n",
      "9000/9000 [==============================] - 695s 77ms/step - loss: 0.3712 - acc: 0.5671 - val_loss: 0.3643 - val_acc: 0.5800\n",
      "Epoch 13/50\n",
      "9000/9000 [==============================] - 695s 77ms/step - loss: 0.3658 - acc: 0.5798 - val_loss: 0.3629 - val_acc: 0.5620\n",
      "Epoch 14/50\n",
      "9000/9000 [==============================] - 696s 77ms/step - loss: 0.3647 - acc: 0.5828 - val_loss: 0.3630 - val_acc: 0.5920\n",
      "Epoch 15/50\n",
      "9000/9000 [==============================] - 695s 77ms/step - loss: 0.3643 - acc: 0.5834 - val_loss: 0.3731 - val_acc: 0.5700\n",
      "Epoch 16/50\n",
      "9000/9000 [==============================] - 697s 77ms/step - loss: 0.3779 - acc: 0.5726 - val_loss: 0.4120 - val_acc: 0.5280\n",
      "Epoch 17/50\n",
      "9000/9000 [==============================] - 698s 78ms/step - loss: 0.3777 - acc: 0.5740 - val_loss: 0.3712 - val_acc: 0.5900\n",
      "Epoch 18/50\n",
      "9000/9000 [==============================] - 695s 77ms/step - loss: 0.3701 - acc: 0.5681 - val_loss: 0.3919 - val_acc: 0.5000\n",
      "Epoch 19/50\n",
      "9000/9000 [==============================] - 697s 77ms/step - loss: 0.3648 - acc: 0.5776 - val_loss: 0.3627 - val_acc: 0.5770\n",
      "Epoch 20/50\n",
      "9000/9000 [==============================] - 696s 77ms/step - loss: 0.3650 - acc: 0.5826 - val_loss: 0.4193 - val_acc: 0.5200\n",
      "Epoch 21/50\n",
      "9000/9000 [==============================] - 696s 77ms/step - loss: 0.3654 - acc: 0.5767 - val_loss: 0.3619 - val_acc: 0.5830\n",
      "Epoch 22/50\n",
      "9000/9000 [==============================] - 696s 77ms/step - loss: 1.9109 - acc: 0.5280 - val_loss: 1.0825 - val_acc: 0.4900\n",
      "Epoch 23/50\n",
      "9000/9000 [==============================] - 706s 78ms/step - loss: 0.6428 - acc: 0.5331 - val_loss: 0.4633 - val_acc: 0.4810\n",
      "Epoch 24/50\n",
      "9000/9000 [==============================] - 699s 78ms/step - loss: 0.3938 - acc: 0.5660 - val_loss: 0.3644 - val_acc: 0.6000\n",
      "Epoch 25/50\n",
      "9000/9000 [==============================] - 700s 78ms/step - loss: 0.3669 - acc: 0.5793 - val_loss: 0.3610 - val_acc: 0.5920\n",
      "Epoch 26/50\n",
      "9000/9000 [==============================] - 700s 78ms/step - loss: 0.3695 - acc: 0.5773 - val_loss: 1.9307 - val_acc: 0.5200\n",
      "Epoch 27/50\n",
      "9000/9000 [==============================] - 700s 78ms/step - loss: 0.4239 - acc: 0.5449 - val_loss: 0.3859 - val_acc: 0.5180\n",
      "Epoch 28/50\n",
      "9000/9000 [==============================] - 701s 78ms/step - loss: 0.3677 - acc: 0.5722 - val_loss: 0.3579 - val_acc: 0.5830\n",
      "Epoch 29/50\n",
      "9000/9000 [==============================] - 700s 78ms/step - loss: 0.3621 - acc: 0.5804 - val_loss: 0.3560 - val_acc: 0.5900\n",
      "Epoch 30/50\n",
      "9000/9000 [==============================] - 701s 78ms/step - loss: 0.3618 - acc: 0.5797 - val_loss: 0.3620 - val_acc: 0.5600\n",
      "Epoch 31/50\n",
      "9000/9000 [==============================] - 700s 78ms/step - loss: 0.3647 - acc: 0.5761 - val_loss: 0.3653 - val_acc: 0.5760\n",
      "Epoch 32/50\n",
      "9000/9000 [==============================] - 700s 78ms/step - loss: 1.2266 - acc: 0.5454 - val_loss: 1.8847 - val_acc: 0.4880\n",
      "Epoch 33/50\n",
      "9000/9000 [==============================] - 701s 78ms/step - loss: 0.9612 - acc: 0.5146 - val_loss: 0.5191 - val_acc: 0.5310\n",
      "Epoch 34/50\n",
      "9000/9000 [==============================] - 699s 78ms/step - loss: 0.4241 - acc: 0.5346 - val_loss: 0.3759 - val_acc: 0.5350\n",
      "Epoch 35/50\n",
      "9000/9000 [==============================] - 699s 78ms/step - loss: 0.3692 - acc: 0.5618 - val_loss: 0.3616 - val_acc: 0.5710\n",
      "Epoch 36/50\n",
      "9000/9000 [==============================] - 695s 77ms/step - loss: 0.3634 - acc: 0.5780 - val_loss: 0.3640 - val_acc: 0.5510\n",
      "Epoch 37/50\n",
      "9000/9000 [==============================] - 696s 77ms/step - loss: 0.3664 - acc: 0.5707 - val_loss: 0.3743 - val_acc: 0.5400\n",
      "Epoch 38/50\n",
      "9000/9000 [==============================] - 697s 77ms/step - loss: 0.3603 - acc: 0.5817 - val_loss: 0.3673 - val_acc: 0.5750\n",
      "Epoch 39/50\n",
      "9000/9000 [==============================] - 695s 77ms/step - loss: 0.3594 - acc: 0.5809 - val_loss: 0.3578 - val_acc: 0.5800\n",
      "Epoch 40/50\n",
      "9000/9000 [==============================] - 697s 77ms/step - loss: 0.3593 - acc: 0.5800 - val_loss: 0.3517 - val_acc: 0.5930\n",
      "Epoch 41/50\n",
      "9000/9000 [==============================] - 695s 77ms/step - loss: 0.3769 - acc: 0.5603 - val_loss: 0.3793 - val_acc: 0.5340\n",
      "Epoch 42/50\n",
      "9000/9000 [==============================] - 695s 77ms/step - loss: 0.3654 - acc: 0.5713 - val_loss: 0.3646 - val_acc: 0.5510\n",
      "Epoch 43/50\n",
      "9000/9000 [==============================] - 698s 78ms/step - loss: 0.3634 - acc: 0.5741 - val_loss: 0.3590 - val_acc: 0.5910\n",
      "Epoch 44/50\n",
      "9000/9000 [==============================] - 697s 77ms/step - loss: 0.3718 - acc: 0.5741 - val_loss: 0.3669 - val_acc: 0.5440\n",
      "Epoch 45/50\n",
      "9000/9000 [==============================] - 696s 77ms/step - loss: 0.3599 - acc: 0.5779 - val_loss: 0.3515 - val_acc: 0.6140\n",
      "Epoch 46/50\n",
      "9000/9000 [==============================] - 696s 77ms/step - loss: 0.3617 - acc: 0.5778 - val_loss: 0.3761 - val_acc: 0.5250\n",
      "Epoch 47/50\n",
      "9000/9000 [==============================] - 696s 77ms/step - loss: 0.3605 - acc: 0.5823 - val_loss: 0.3536 - val_acc: 0.5940\n",
      "Epoch 48/50\n",
      "9000/9000 [==============================] - 697s 77ms/step - loss: 0.3596 - acc: 0.5836 - val_loss: 0.3603 - val_acc: 0.5810\n",
      "Epoch 49/50\n",
      "9000/9000 [==============================] - 694s 77ms/step - loss: 0.3620 - acc: 0.5721 - val_loss: 0.3613 - val_acc: 0.5880\n",
      "Epoch 50/50\n",
      "9000/9000 [==============================] - 718s 80ms/step - loss: 0.3645 - acc: 0.5741 - val_loss: 0.3510 - val_acc: 0.5970\n"
     ]
    },
    {
     "ename": "AttributeError",
     "evalue": "'History' object has no attribute 'predict'",
     "output_type": "error",
     "traceback": [
      "\u001b[0;31m---------------------------------------------------------------------------\u001b[0m",
      "\u001b[0;31mAttributeError\u001b[0m                            Traceback (most recent call last)",
      "\u001b[0;32m<ipython-input-149-4e42816f98d3>\u001b[0m in \u001b[0;36m<module>\u001b[0;34m()\u001b[0m\n\u001b[1;32m      3\u001b[0m \u001b[0;31m#     model.model.fit(X_train,y_train, epochs=50,batch_size=8,validation_split= 0.1, verbose=1)\u001b[0m\u001b[0;34m\u001b[0m\u001b[0;34m\u001b[0m\u001b[0;34m\u001b[0m\u001b[0m\n\u001b[1;32m      4\u001b[0m     \u001b[0mA\u001b[0m \u001b[0;34m=\u001b[0m \u001b[0mmodel\u001b[0m\u001b[0;34m.\u001b[0m\u001b[0mmodel\u001b[0m\u001b[0;34m.\u001b[0m\u001b[0mfit\u001b[0m\u001b[0;34m(\u001b[0m\u001b[0mX1\u001b[0m\u001b[0;34m,\u001b[0m\u001b[0my1\u001b[0m\u001b[0;34m,\u001b[0m \u001b[0mepochs\u001b[0m\u001b[0;34m=\u001b[0m\u001b[0;36m50\u001b[0m\u001b[0;34m,\u001b[0m\u001b[0mbatch_size\u001b[0m\u001b[0;34m=\u001b[0m\u001b[0;36m8\u001b[0m\u001b[0;34m,\u001b[0m\u001b[0mvalidation_split\u001b[0m\u001b[0;34m=\u001b[0m \u001b[0;36m0.1\u001b[0m\u001b[0;34m,\u001b[0m \u001b[0mverbose\u001b[0m\u001b[0;34m=\u001b[0m\u001b[0;36m1\u001b[0m\u001b[0;34m)\u001b[0m\u001b[0;34m\u001b[0m\u001b[0;34m\u001b[0m\u001b[0m\n\u001b[0;32m----> 5\u001b[0;31m     \u001b[0my_pred\u001b[0m \u001b[0;34m=\u001b[0m \u001b[0mA\u001b[0m\u001b[0;34m.\u001b[0m\u001b[0mpredict\u001b[0m\u001b[0;34m(\u001b[0m\u001b[0mX_test\u001b[0m\u001b[0;34m)\u001b[0m\u001b[0;34m\u001b[0m\u001b[0;34m\u001b[0m\u001b[0m\n\u001b[0m",
      "\u001b[0;31mAttributeError\u001b[0m: 'History' object has no attribute 'predict'"
     ]
    }
   ],
   "source": [
    "with tf.Session() as sess:\n",
    "    sess.run(tf.global_variables_initializer())\n",
    "#     model.model.fit(X_train,y_train, epochs=50,batch_size=8,validation_split= 0.1, verbose=1)\n",
    "    A = model.model.fit(X1,y1, epochs=50,batch_size=8,validation_split= 0.1, verbose=1)\n",
    "    y_pred = A.predict(X_test)"
   ]
  },
  {
   "cell_type": "code",
   "execution_count": 135,
   "metadata": {},
   "outputs": [],
   "source": [
    "# model.model.fit(X_train,y_train, epochs=4,batch_size=16,validation_split= 0.1, verbose=1)"
   ]
  },
  {
   "cell_type": "code",
   "execution_count": 150,
   "metadata": {},
   "outputs": [
    {
     "data": {
      "text/plain": [
       "<keras.engine.training.Model at 0x7f75001e1048>"
      ]
     },
     "execution_count": 150,
     "metadata": {},
     "output_type": "execute_result"
    }
   ],
   "source": [
    "model.model"
   ]
  },
  {
   "cell_type": "code",
   "execution_count": 151,
   "metadata": {},
   "outputs": [],
   "source": [
    "X_test = np.array([model.convertToModelInput_fit(row) for row in X_test])"
   ]
  },
  {
   "cell_type": "code",
   "execution_count": 152,
   "metadata": {},
   "outputs": [],
   "source": [
    "with tf.Session() as sess:\n",
    "    sess.run(tf.global_variables_initializer())\n",
    "    y_pred = model.model.predict(X_test)"
   ]
  },
  {
   "cell_type": "code",
   "execution_count": 153,
   "metadata": {},
   "outputs": [
    {
     "data": {
      "text/plain": [
       "array([[-0.00448755],\n",
       "       [-0.00325258],\n",
       "       [ 0.00247067],\n",
       "       ...,\n",
       "       [-0.01389845],\n",
       "       [ 0.04440872],\n",
       "       [ 0.04440872]], dtype=float32)"
      ]
     },
     "execution_count": 153,
     "metadata": {},
     "output_type": "execute_result"
    }
   ],
   "source": [
    "y_pred"
   ]
  },
  {
   "cell_type": "code",
   "execution_count": 154,
   "metadata": {},
   "outputs": [],
   "source": [
    "y_pred1 = (y_pred>0).astype(int)"
   ]
  },
  {
   "cell_type": "code",
   "execution_count": 155,
   "metadata": {},
   "outputs": [],
   "source": [
    "# y_test"
   ]
  },
  {
   "cell_type": "code",
   "execution_count": 156,
   "metadata": {},
   "outputs": [
    {
     "data": {
      "text/plain": [
       "0.5011281320508253"
      ]
     },
     "execution_count": 156,
     "metadata": {},
     "output_type": "execute_result"
    }
   ],
   "source": [
    "accuracy_score(y_test, y_pred1)"
   ]
  },
  {
   "cell_type": "code",
   "execution_count": 157,
   "metadata": {},
   "outputs": [
    {
     "data": {
      "text/plain": [
       "0.4884910476551662"
      ]
     },
     "execution_count": 157,
     "metadata": {},
     "output_type": "execute_result"
    }
   ],
   "source": [
    "roc_auc_score(y_test, y_pred)"
   ]
  },
  {
   "cell_type": "code",
   "execution_count": null,
   "metadata": {},
   "outputs": [],
   "source": []
  },
  {
   "cell_type": "code",
   "execution_count": null,
   "metadata": {},
   "outputs": [],
   "source": []
  }
 ],
 "metadata": {
  "kernelspec": {
   "display_name": "Python 3",
   "language": "python",
   "name": "python3"
  },
  "language_info": {
   "codemirror_mode": {
    "name": "ipython",
    "version": 3
   },
   "file_extension": ".py",
   "mimetype": "text/x-python",
   "name": "python",
   "nbconvert_exporter": "python",
   "pygments_lexer": "ipython3",
   "version": "3.7.3"
  }
 },
 "nbformat": 4,
 "nbformat_minor": 2
}
