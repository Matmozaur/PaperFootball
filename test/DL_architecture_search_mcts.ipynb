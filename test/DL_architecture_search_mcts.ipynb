{
 "cells": [
  {
   "cell_type": "code",
   "execution_count": 1,
   "metadata": {},
   "outputs": [],
   "source": [
    "import pandas as pd\n",
    "import pickle\n",
    "import numpy as np\n",
    "import sys\n",
    "sys.path.insert(0,'../')\n",
    "import tensorflow as tf\n",
    "import tensorflow.keras as keras\n",
    "from sklearn.model_selection import train_test_split\n",
    "from sklearn.metrics import accuracy_score\n",
    "from sklearn.metrics import roc_auc_score, mean_squared_error, mean_absolute_error\n",
    "import matplotlib.pyplot as plt\n",
    "import copy"
   ]
  },
  {
   "cell_type": "code",
   "execution_count": null,
   "metadata": {},
   "outputs": [],
   "source": []
  },
  {
   "cell_type": "markdown",
   "metadata": {},
   "source": [
    "# Load and prepare data"
   ]
  },
  {
   "cell_type": "markdown",
   "metadata": {},
   "source": [
    "Deep check"
   ]
  },
  {
   "cell_type": "code",
   "execution_count": 2,
   "metadata": {},
   "outputs": [
    {
     "name": "stdout",
     "output_type": "stream",
     "text": [
      "number of samples: 3680\n"
     ]
    }
   ],
   "source": [
    "file = open('../resources/memory_mcts_1', 'rb')\n",
    "memory = pickle.load(file)\n",
    "\n",
    "memory = memory.ltmemory\n",
    "\n",
    "print('number of samples:',len(memory))"
   ]
  },
  {
   "cell_type": "code",
   "execution_count": 3,
   "metadata": {},
   "outputs": [],
   "source": [
    "result = map(lambda x: x['result'], memory) \n",
    "\n",
    "result = list(result)\n",
    "\n",
    "states = map(lambda x: x['state'], memory) \n",
    "\n",
    "states = list(states)\n",
    "\n",
    "y = np.array(result)\n",
    "\n",
    "X = np.array(states)\n",
    "\n",
    "positions = list(map(lambda x: list(x['current_position']), memory)) \n",
    "\n",
    "\n",
    "positions = np.array(positions)\n"
   ]
  },
  {
   "cell_type": "code",
   "execution_count": 4,
   "metadata": {},
   "outputs": [],
   "source": [
    "# y_train = y_train>0\n",
    "# y_train = y_train.astype(int)\n",
    "# y_test = y_test>0\n",
    "# y_test = y_test.astype(int)\n",
    "\n",
    "y = y>0\n",
    "y = y.astype(int)"
   ]
  },
  {
   "cell_type": "code",
   "execution_count": 5,
   "metadata": {},
   "outputs": [
    {
     "name": "stdout",
     "output_type": "stream",
     "text": [
      "Num GPUs Available:  1\n"
     ]
    }
   ],
   "source": [
    "tf.test.is_gpu_available(\n",
    "    cuda_only=False,\n",
    "    min_cuda_compute_capability=None\n",
    ")\n",
    "\n",
    "\n",
    "print(\"Num GPUs Available: \", len(tf.config.experimental.list_physical_devices('GPU')))\n"
   ]
  },
  {
   "cell_type": "code",
   "execution_count": null,
   "metadata": {},
   "outputs": [],
   "source": []
  },
  {
   "cell_type": "code",
   "execution_count": 6,
   "metadata": {},
   "outputs": [
    {
     "data": {
      "text/plain": [
       "(3680, 48, 8)"
      ]
     },
     "execution_count": 6,
     "metadata": {},
     "output_type": "execute_result"
    }
   ],
   "source": [
    "states = np.array(states)\n",
    "states.shape"
   ]
  },
  {
   "cell_type": "code",
   "execution_count": 7,
   "metadata": {},
   "outputs": [
    {
     "data": {
      "text/plain": [
       "(3680, 2)"
      ]
     },
     "execution_count": 7,
     "metadata": {},
     "output_type": "execute_result"
    }
   ],
   "source": [
    "positions.shape"
   ]
  },
  {
   "cell_type": "code",
   "execution_count": 9,
   "metadata": {},
   "outputs": [],
   "source": [
    "states = np.array(tf.cast(states, tf.float32))\n",
    "positions = np.array(tf.cast(positions, tf.float32))"
   ]
  },
  {
   "cell_type": "code",
   "execution_count": null,
   "metadata": {},
   "outputs": [],
   "source": []
  },
  {
   "cell_type": "code",
   "execution_count": 10,
   "metadata": {},
   "outputs": [],
   "source": [
    "s = np.array( [a.reshape(48,8,1) for a in states])"
   ]
  },
  {
   "cell_type": "code",
   "execution_count": 11,
   "metadata": {},
   "outputs": [
    {
     "data": {
      "text/plain": [
       "(3680, 48, 8, 1)"
      ]
     },
     "execution_count": 11,
     "metadata": {},
     "output_type": "execute_result"
    }
   ],
   "source": [
    "s.shape"
   ]
  },
  {
   "cell_type": "code",
   "execution_count": 12,
   "metadata": {},
   "outputs": [],
   "source": [
    "X=s"
   ]
  },
  {
   "cell_type": "code",
   "execution_count": 13,
   "metadata": {},
   "outputs": [],
   "source": [
    "X_train, X_test, y_train, y_test = train_test_split(X, y, test_size=0.1, shuffle=False)\n",
    "\n",
    "X_train, X_val, y_train, y_val = train_test_split(X_train, y_train, test_size=0.1, shuffle=False)\n",
    "\n",
    "positions_tr, positions_tst, y_train, y_test = train_test_split(positions, y, test_size=0.1, shuffle=False)\n",
    "\n",
    "positions_tr, positions_val, y_train, y_val = train_test_split(positions_tr, y_train, test_size=0.1, shuffle=False)"
   ]
  },
  {
   "cell_type": "code",
   "execution_count": 14,
   "metadata": {},
   "outputs": [],
   "source": [
    "from tensorflow.keras.layers import Input, Embedding, LSTM, Dense, Flatten, Conv2D, MaxPooling2D, Dropout\n",
    "from tensorflow.keras.models import Model"
   ]
  },
  {
   "cell_type": "code",
   "execution_count": 29,
   "metadata": {},
   "outputs": [],
   "source": [
    "main_input = Input(shape=(48,8,1),  name='main_input')\n",
    "\n",
    "x = Conv2D(384, (12, 3), padding='same',activation='relu')(main_input)\n",
    "x = Conv2D(384, (8, 2), padding='same',activation='relu', kernel_regularizer=keras.regularizers.l2(l=0.0001))(x)\n",
    "x = MaxPooling2D((4,1))(x)\n",
    "x = Dropout(0.1)(x)\n",
    "x = Conv2D(96, (3, 3), padding='same',activation='relu', kernel_regularizer=keras.regularizers.l2(l=0.0001))(x)\n",
    "x = Dropout(0.1)(x)\n",
    "x = Flatten()(x)\n",
    "auxiliary_input = Input(shape=(2,), name='aux_input')\n",
    "x = keras.layers.concatenate([x, auxiliary_input])\n",
    "x = Dense(300, activation='elu', kernel_regularizer=keras.regularizers.l2(l=0.0001))(x)\n",
    "x = Dropout(0.2)(x)\n",
    "x = Dense(400, activation='elu', kernel_regularizer=keras.regularizers.l2(l=0.0001))(x)\n",
    "x = Dropout(0.2)(x)\n",
    "x = Dense(200, activation='elu', kernel_regularizer=keras.regularizers.l2(l=0.0001))(x)\n",
    "main_output = Dense(1, activation='sigmoid', name='main_output')(x)\n",
    "model = Model(inputs=[main_input, auxiliary_input], outputs=[main_output])\n",
    "\n",
    "model.compile(optimizer='adam', loss='binary_crossentropy')"
   ]
  },
  {
   "cell_type": "code",
   "execution_count": 30,
   "metadata": {},
   "outputs": [
    {
     "name": "stdout",
     "output_type": "stream",
     "text": [
      "Train on 2980 samples\n",
      "2980/2980 [==============================] - 60s 20ms/sample - loss: 0.7895\n",
      "0.4001900503434331\n"
     ]
    }
   ],
   "source": [
    "for e in range(1):\n",
    "    model.fit([X_train, positions_tr], [y_train], epochs=1, batch_size=32)\n",
    "#     y_pred = model.predict_classes([X_val, positions_val])\n",
    "\n",
    "    y_pred = model.predict([X_val, positions_val])\n",
    "\n",
    "    mae = mean_absolute_error(y_val, y_pred)   \n",
    "    \n",
    "    print(mae)"
   ]
  },
  {
   "cell_type": "code",
   "execution_count": 31,
   "metadata": {},
   "outputs": [
    {
     "name": "stdout",
     "output_type": "stream",
     "text": [
      "0.42735722353277\n"
     ]
    }
   ],
   "source": [
    "    y_pred = model.predict([X_test, positions_tst])\n",
    "\n",
    "    mae = mean_absolute_error(y_test, y_pred)   \n",
    "    \n",
    "    print(mae)"
   ]
  },
  {
   "cell_type": "code",
   "execution_count": 32,
   "metadata": {},
   "outputs": [],
   "source": [
    "model.save('../resources/Residual_CNN_mcts.h5') "
   ]
  },
  {
   "cell_type": "code",
   "execution_count": null,
   "metadata": {},
   "outputs": [],
   "source": []
  },
  {
   "cell_type": "code",
   "execution_count": 33,
   "metadata": {},
   "outputs": [
    {
     "name": "stdout",
     "output_type": "stream",
     "text": [
      "Model: \"model_5\"\n",
      "__________________________________________________________________________________________________\n",
      "Layer (type)                    Output Shape         Param #     Connected to                     \n",
      "==================================================================================================\n",
      "main_input (InputLayer)         [(None, 48, 8, 1)]   0                                            \n",
      "__________________________________________________________________________________________________\n",
      "conv2d_15 (Conv2D)              (None, 48, 8, 384)   14208       main_input[0][0]                 \n",
      "__________________________________________________________________________________________________\n",
      "conv2d_16 (Conv2D)              (None, 48, 8, 384)   2359680     conv2d_15[0][0]                  \n",
      "__________________________________________________________________________________________________\n",
      "max_pooling2d_5 (MaxPooling2D)  (None, 12, 8, 384)   0           conv2d_16[0][0]                  \n",
      "__________________________________________________________________________________________________\n",
      "dropout_20 (Dropout)            (None, 12, 8, 384)   0           max_pooling2d_5[0][0]            \n",
      "__________________________________________________________________________________________________\n",
      "conv2d_17 (Conv2D)              (None, 12, 8, 96)    331872      dropout_20[0][0]                 \n",
      "__________________________________________________________________________________________________\n",
      "dropout_21 (Dropout)            (None, 12, 8, 96)    0           conv2d_17[0][0]                  \n",
      "__________________________________________________________________________________________________\n",
      "flatten_5 (Flatten)             (None, 9216)         0           dropout_21[0][0]                 \n",
      "__________________________________________________________________________________________________\n",
      "aux_input (InputLayer)          [(None, 2)]          0                                            \n",
      "__________________________________________________________________________________________________\n",
      "concatenate_5 (Concatenate)     (None, 9218)         0           flatten_5[0][0]                  \n",
      "                                                                 aux_input[0][0]                  \n",
      "__________________________________________________________________________________________________\n",
      "dense_15 (Dense)                (None, 300)          2765700     concatenate_5[0][0]              \n",
      "__________________________________________________________________________________________________\n",
      "dropout_22 (Dropout)            (None, 300)          0           dense_15[0][0]                   \n",
      "__________________________________________________________________________________________________\n",
      "dense_16 (Dense)                (None, 400)          120400      dropout_22[0][0]                 \n",
      "__________________________________________________________________________________________________\n",
      "dropout_23 (Dropout)            (None, 400)          0           dense_16[0][0]                   \n",
      "__________________________________________________________________________________________________\n",
      "dense_17 (Dense)                (None, 200)          80200       dropout_23[0][0]                 \n",
      "__________________________________________________________________________________________________\n",
      "main_output (Dense)             (None, 1)            201         dense_17[0][0]                   \n",
      "==================================================================================================\n",
      "Total params: 5,672,261\n",
      "Trainable params: 5,672,261\n",
      "Non-trainable params: 0\n",
      "__________________________________________________________________________________________________\n"
     ]
    }
   ],
   "source": [
    "model.summary()"
   ]
  },
  {
   "cell_type": "code",
   "execution_count": null,
   "metadata": {},
   "outputs": [],
   "source": []
  },
  {
   "cell_type": "code",
   "execution_count": null,
   "metadata": {},
   "outputs": [],
   "source": [
    "# params={\n",
    "#         'epochs':20, 'batch_size':[32], 'shuffle':[True], \n",
    "#         'activation_conv':['elu',], 'activation_dense':['sigmoid'], 'optimizer':['adam','sgd'],\n",
    "#     'architectures':[\n",
    "#         1\n",
    "#     ]} \n",
    "#     best_model_acc = None\n",
    "#     best_acc = 0\n",
    "#     best_par_acc = []\n",
    "#     best_model_mae = None\n",
    "#     best_mae = 1\n",
    "#     best_par_mae = []\n",
    "#     dict_grid = {}\n",
    "#     X_tr, X_val, y_tr, y_val = train_test_split(X_train, y_train, test_size=0.2, shuffle=False)\n",
    "#     for bs in params['batch_size']:\n",
    "#         for s in params['shuffle']:\n",
    "#             for o in params['optimizer']:\n",
    "#                 for ah in params['activation_hidden']:\n",
    "#                     for a in params['activation']:\n",
    "#                         for arch in params['architectures']:\n",
    "#                             main_input = Input(shape=(48,8,1),  name='main_input')\n",
    "\n",
    "#                             x = Conv2D(384, (8, 2), padding='same',activation='elu')(main_input)\n",
    "#                             x = MaxPooling2D(pool_size=(2, 2))\n",
    "#                             x = Conv2D(96, (8, 2), padding='same',activation='elu')(main_input)\n",
    "#                             x = Dropout(0.25)(x)\n",
    "#                             x = Conv2D(96, (4, 2), padding='same',activation='elu')(main_input)\n",
    "#                             x = Dropout(0.25)(x)\n",
    "#                             x = Flatten()(x)\n",
    "#                             auxiliary_input = Input(shape=(2,), name='aux_input')\n",
    "#                             x = Dense(200, activation='elu')(x)\n",
    "#                             x = Dense(100, activation='elu')(x)\n",
    "#                             main_output = Dense(1, activation='sigmoid', name='main_output')(x)\n",
    "#                             model = Model(inputs=[main_input, auxiliary_input], outputs=[main_output])\n",
    "\n",
    "#                             model.compile(optimizer='adam', loss='binary_crossentropy', metric=['mae'], validation_split=0.2)"
   ]
  },
  {
   "cell_type": "code",
   "execution_count": null,
   "metadata": {},
   "outputs": [],
   "source": [
    "model = tf.keras.models.load_model('../resources/Residual_CNN_mcts.h5')"
   ]
  },
  {
   "cell_type": "code",
   "execution_count": null,
   "metadata": {},
   "outputs": [],
   "source": [
    "model.summary()"
   ]
  },
  {
   "cell_type": "code",
   "execution_count": null,
   "metadata": {},
   "outputs": [],
   "source": []
  }
 ],
 "metadata": {
  "kernelspec": {
   "display_name": "Python 3",
   "language": "python",
   "name": "python3"
  },
  "language_info": {
   "codemirror_mode": {
    "name": "ipython",
    "version": 3
   },
   "file_extension": ".py",
   "mimetype": "text/x-python",
   "name": "python",
   "nbconvert_exporter": "python",
   "pygments_lexer": "ipython3",
   "version": "3.7.6"
  }
 },
 "nbformat": 4,
 "nbformat_minor": 2
}
