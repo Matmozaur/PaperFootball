{
 "cells": [
  {
   "cell_type": "code",
   "execution_count": 1,
   "metadata": {},
   "outputs": [],
   "source": [
    "import pandas as pd\n",
    "import pickle\n",
    "import numpy as np\n",
    "import sys\n",
    "sys.path.insert(0,'../')\n",
    "import tensorflow as tf\n",
    "import tensorflow.keras as keras\n",
    "from sklearn.model_selection import train_test_split\n",
    "from sklearn.metrics import accuracy_score\n",
    "from sklearn.metrics import roc_auc_score, mean_squared_error, mean_absolute_error\n",
    "import matplotlib.pyplot as plt\n",
    "import copy"
   ]
  },
  {
   "cell_type": "code",
   "execution_count": null,
   "metadata": {},
   "outputs": [],
   "source": []
  },
  {
   "cell_type": "markdown",
   "metadata": {},
   "source": [
    "# Load and prepare data"
   ]
  },
  {
   "cell_type": "markdown",
   "metadata": {},
   "source": [
    "Deep check"
   ]
  },
  {
   "cell_type": "code",
   "execution_count": 2,
   "metadata": {},
   "outputs": [
    {
     "name": "stdout",
     "output_type": "stream",
     "text": [
      "number of samples: 126077\n"
     ]
    }
   ],
   "source": [
    "file = open('../resources/memory1', 'rb')\n",
    "memory = pickle.load(file)\n",
    "\n",
    "file = open('../resources/memory2', 'rb')\n",
    "memory2 = pickle.load(file)\n",
    "\n",
    "memory = memory.ltmemory\n",
    "memory2 = memory2.ltmemory\n",
    "\n",
    "memory+=memory2\n",
    "\n",
    "print('number of samples:',len(memory))"
   ]
  },
  {
   "cell_type": "code",
   "execution_count": 3,
   "metadata": {},
   "outputs": [],
   "source": [
    "result = map(lambda x: x['result'], memory) \n",
    "\n",
    "result = list(result)\n",
    "\n",
    "states = map(lambda x: x['state'].reshape(384,), memory) \n",
    "\n",
    "states = list(states)\n",
    "\n",
    "y = np.array(result)\n",
    "\n",
    "X = np.array(states)\n",
    "\n",
    "X_train, X_test, y_train, y_test = train_test_split(X, y, test_size=0.2, shuffle=False)"
   ]
  },
  {
   "cell_type": "code",
   "execution_count": null,
   "metadata": {},
   "outputs": [],
   "source": [
    "y_train = y_train>0\n",
    "y_train = y_train.astype(int)\n",
    "y_test = y_test>0\n",
    "y_test = y_test.astype(int)"
   ]
  },
  {
   "cell_type": "code",
   "execution_count": null,
   "metadata": {},
   "outputs": [],
   "source": [
    "tf.test.is_gpu_available(\n",
    "    cuda_only=False,\n",
    "    min_cuda_compute_capability=None\n",
    ")\n",
    "\n",
    "\n",
    "print(\"Num GPUs Available: \", len(tf.config.experimental.list_physical_devices('GPU')))\n"
   ]
  },
  {
   "cell_type": "code",
   "execution_count": null,
   "metadata": {},
   "outputs": [],
   "source": []
  },
  {
   "cell_type": "markdown",
   "metadata": {},
   "source": [
    "# RF baseline"
   ]
  },
  {
   "cell_type": "code",
   "execution_count": null,
   "metadata": {},
   "outputs": [],
   "source": [
    "from sklearn.ensemble import RandomForestClassifier"
   ]
  },
  {
   "cell_type": "code",
   "execution_count": null,
   "metadata": {},
   "outputs": [],
   "source": [
    "clf = RandomForestClassifier(max_depth=10, random_state=0)\n",
    "clf.fit(X_train, y_train)"
   ]
  },
  {
   "cell_type": "code",
   "execution_count": null,
   "metadata": {},
   "outputs": [],
   "source": [
    "y_pred = clf.predict(X_test)\n",
    "\n",
    "print('accuracy', accuracy_score(y_test, y_pred))\n",
    "\n",
    "y_pred = clf.predict_proba(X_test)\n",
    "\n",
    "print('auc',roc_auc_score(y_test, y_pred[:,1]))\n",
    "\n",
    "print('mae',mean_absolute_error(y_test, y_pred[:,1]))"
   ]
  },
  {
   "cell_type": "code",
   "execution_count": null,
   "metadata": {},
   "outputs": [],
   "source": []
  },
  {
   "cell_type": "code",
   "execution_count": null,
   "metadata": {},
   "outputs": [],
   "source": []
  },
  {
   "cell_type": "markdown",
   "metadata": {},
   "source": [
    "# DNN"
   ]
  },
  {
   "cell_type": "code",
   "execution_count": null,
   "metadata": {},
   "outputs": [],
   "source": [
    "    params={\n",
    "        'epochs':100, 'batch_size':[32], 'shuffle':[True], \n",
    "        'activation_hidden':['elu'], 'activation':['sigmoid'], 'optimizer':['adam'],\n",
    "    'architectures':[\n",
    "\n",
    "        [[300,0.0],[600,0.000001],['dropout',0.2],[400,0.000001],['dropout',0.4],[200,0.000001],['dropout',0.5],[100,0.0]],\n",
    "\n",
    "    ]} \n",
    "    best_model_acc = None\n",
    "    best_acc = 0\n",
    "    best_par_acc = []\n",
    "    best_model_mae = None\n",
    "    best_mae = 1\n",
    "    best_par_mae = []\n",
    "    dict_grid = {}\n",
    "    X_tr, X_val, y_tr, y_val = train_test_split(X_train, y_train, test_size=0.2, shuffle=False)\n",
    "    for bs in params['batch_size']:\n",
    "        for s in params['shuffle']:\n",
    "            for o in params['optimizer']:\n",
    "                for ah in params['activation_hidden']:\n",
    "                    for a in params['activation']:\n",
    "                        for arch in params['architectures']:\n",
    "                            model = keras.Sequential()\n",
    "                            for layer in arch:\n",
    "                                if layer[0] == 'dropout':\n",
    "                                    model.add(keras.layers.Dropout(layer[1]))\n",
    "                                else:\n",
    "                                    model.add(keras.layers.Dense(layer[0], activation=ah,\n",
    "                                         kernel_regularizer=keras.regularizers.l2(l=layer[1]) ))\n",
    "                            model.add(keras.layers.Dense(1, activation=a))\n",
    "                            model.compile(optimizer=o,loss='binary_crossentropy',metrics=['mae'])\n",
    "                            for e in range(params['epochs']):\n",
    "                                \n",
    "#                                 with tf.device('/GPU:0'):\n",
    "                                model.fit(X_tr,y_tr, epochs=1,batch_size=bs,shuffle=s)\n",
    "\n",
    "                                y_pred = model.predict_classes(X_val)\n",
    "\n",
    "                                acc = accuracy_score(y_val, y_pred)\n",
    "\n",
    "                                y_pred = model.predict(X_val)\n",
    "\n",
    "                                mae = mean_absolute_error(y_val, y_pred)\n",
    "                                \n",
    "                                print(e,arch,bs,s,o,ah )\n",
    "                                print('acc',acc )\n",
    "                                print('mae',mae )\n",
    "                                \n",
    "                                if acc > best_acc:\n",
    "                                    best_acc = acc\n",
    "                                    best_par_acc = [e,arch,bs,s,o,ah]\n",
    "                                    best_model_acc = keras.Sequential()\n",
    "                                    for layer in arch:\n",
    "                                        if layer[0] == 'dropout':\n",
    "                                            best_model_acc.add(keras.layers.Dropout(layer[1]))\n",
    "                                        else:\n",
    "                                            best_model_acc.add(keras.layers.Dense(layer[0], activation=ah,\n",
    "                                                 kernel_regularizer=keras.regularizers.l2(l=layer[1]) ))\n",
    "                                    best_model_acc.add(keras.layers.Dense(1, activation=a))\n",
    "                                    best_model_acc.compile(optimizer=o,loss='binary_crossentropy',metrics=['mae'])\n",
    "                                    best_model_acc.build(input_shape=(None,384,))\n",
    "                                    best_model_acc.set_weights(model.get_weights()) \n",
    "                                if mae < best_mae:\n",
    "                                    best_mae = mae\n",
    "                                    best_par_mae = [e,arch,bs,s,o,ah]\n",
    "                                    best_model_mae = keras.Sequential()\n",
    "                                    for layer in arch:\n",
    "                                        if layer[0] == 'dropout':\n",
    "                                            best_model_mae.add(keras.layers.Dropout(layer[1]))\n",
    "                                        else:\n",
    "                                            best_model_mae.add(keras.layers.Dense(layer[0], activation=ah,\n",
    "                                                 kernel_regularizer=keras.regularizers.l2(l=layer[1]) ))\n",
    "                                    best_model_mae.add(keras.layers.Dense(1, activation=a))\n",
    "                                    best_model_mae.compile(optimizer=o,loss='binary_crossentropy',metrics=['mae'])\n",
    "                                    best_model_mae.build(input_shape=(None,384,))\n",
    "                                    best_model_mae.set_weights(model.get_weights()) \n",
    "                        \n",
    "                                \n",
    "                                    \n",
    "                                    \n",
    "                            "
   ]
  },
  {
   "cell_type": "code",
   "execution_count": null,
   "metadata": {},
   "outputs": [],
   "source": [
    "print(best_acc)\n",
    "print(best_mae)"
   ]
  },
  {
   "cell_type": "code",
   "execution_count": null,
   "metadata": {},
   "outputs": [],
   "source": [
    "print(best_par_acc)\n",
    "print(best_par_mae)"
   ]
  },
  {
   "cell_type": "code",
   "execution_count": null,
   "metadata": {},
   "outputs": [],
   "source": [
    "y_pred = best_model_mae.predict_classes(X_val)\n",
    "\n",
    "print('acc',accuracy_score(y_val, y_pred))\n",
    "\n",
    "y_pred = best_model_mae.predict(X_val)\n",
    "\n",
    "print('auc',roc_auc_score(y_val, y_pred))\n",
    "\n",
    "print('mae',mean_absolute_error(y_val, y_pred))\n",
    "\n",
    "plt.plot(y_pred)"
   ]
  },
  {
   "cell_type": "code",
   "execution_count": null,
   "metadata": {},
   "outputs": [],
   "source": [
    "y_pred = best_model_mae.predict_classes(X_test)\n",
    "\n",
    "print('acc',accuracy_score(y_test, y_pred))\n",
    "\n",
    "y_pred = best_model_mae.predict(X_test)\n",
    "\n",
    "print('auc',roc_auc_score(y_test, y_pred))\n",
    "\n",
    "print('mae',mean_absolute_error(y_test, y_pred))\n",
    "\n",
    "plt.plot(y_pred)"
   ]
  },
  {
   "cell_type": "code",
   "execution_count": null,
   "metadata": {},
   "outputs": [],
   "source": [
    "pickle.dump()"
   ]
  },
  {
   "cell_type": "markdown",
   "metadata": {},
   "source": [
    "other attempts"
   ]
  },
  {
   "cell_type": "code",
   "execution_count": null,
   "metadata": {},
   "outputs": [],
   "source": [
    "# sgd = tf.keras.optimizers.SGD(lr=0.1)"
   ]
  },
  {
   "cell_type": "code",
   "execution_count": null,
   "metadata": {},
   "outputs": [],
   "source": [
    "# model = keras.Sequential()\n",
    "# model.add(keras.layers.Dense(100, activation='sigmoid', input_dim=384,\n",
    "#                              kernel_regularizer=keras.regularizers.l2(l=0.00001) ))\n",
    "# model.add(keras.layers.Dense(200, activation='sigmoid', input_dim=100,\n",
    "#                             kernel_regularizer=keras.regularizers.l2(l=0.00001) ))\n",
    "# model.add(keras.layers.Dense(200, activation='sigmoid', input_dim=100,\n",
    "#                             kernel_regularizer=keras.regularizers.l2(l=0.00001) ))\n",
    "# model.add(keras.layers.Dense(1, activation='sigmoid'))\n",
    "# model.compile(optimizer='adam',loss='binary_crossentropy',metrics=['mae'])\n",
    "\n"
   ]
  },
  {
   "cell_type": "code",
   "execution_count": null,
   "metadata": {},
   "outputs": [],
   "source": [
    "# # print(c)\n",
    "# with tf.device('/GPU:0'):\n",
    "#     model.fit(X_train,y_train, epochs=30,batch_size=128,shuffle=False)"
   ]
  },
  {
   "cell_type": "code",
   "execution_count": null,
   "metadata": {},
   "outputs": [],
   "source": []
  },
  {
   "cell_type": "markdown",
   "metadata": {},
   "source": [
    "valid"
   ]
  },
  {
   "cell_type": "code",
   "execution_count": null,
   "metadata": {},
   "outputs": [],
   "source": [
    "# _, X_val, _, y_val = train_test_split(X_train, y_train, test_size=0.2, shuffle=False)\n",
    "\n",
    "# y_pred = model.predict_classes(X_val)\n",
    "\n",
    "# print('acc',accuracy_score(y_val, y_pred))\n",
    "\n",
    "# y_pred = model.predict(X_val)\n",
    "\n",
    "# print('auc',roc_auc_score(y_val, y_pred))\n",
    "\n",
    "# print('mae',mean_absolute_error(y_val, y_pred))\n",
    "\n",
    "# plt.plot(y_pred)"
   ]
  },
  {
   "cell_type": "markdown",
   "metadata": {},
   "source": [
    "test"
   ]
  },
  {
   "cell_type": "code",
   "execution_count": null,
   "metadata": {},
   "outputs": [],
   "source": [
    "# y_pred = model.predict_classes(X_test)\n",
    "\n",
    "# print('acc',accuracy_score(y_test, y_pred))\n",
    "\n",
    "# y_pred = model.predict(X_test)\n",
    "\n",
    "# print('auc',roc_auc_score(y_test, y_pred))\n",
    "\n",
    "# print('mae',mean_absolute_error(y_test, y_pred))\n",
    "\n",
    "# plt.plot(y_pred)"
   ]
  },
  {
   "cell_type": "code",
   "execution_count": null,
   "metadata": {},
   "outputs": [],
   "source": [
    "print(model.summary())"
   ]
  },
  {
   "cell_type": "code",
   "execution_count": null,
   "metadata": {},
   "outputs": [],
   "source": []
  },
  {
   "cell_type": "markdown",
   "metadata": {},
   "source": [
    "# Attempt with position"
   ]
  },
  {
   "cell_type": "code",
   "execution_count": null,
   "metadata": {},
   "outputs": [],
   "source": [
    "positions = list(map(lambda x: list(x['current_position']), memory)) \n",
    "\n",
    "\n",
    "positions = np.array(positions)\n",
    "\n",
    "X = np.concatenate((X, positions), axis=1)\n",
    "\n",
    "X_train, X_test, y_train, y_test = train_test_split(X, y, test_size=0.2, shuffle=False)\n",
    "\n",
    "y_train = y_train>0\n",
    "y_train = y_train.astype(int)\n",
    "y_test = y_test>0\n",
    "y_test = y_test.astype(int)"
   ]
  },
  {
   "cell_type": "code",
   "execution_count": null,
   "metadata": {},
   "outputs": [],
   "source": [
    "X_train[0]"
   ]
  },
  {
   "cell_type": "markdown",
   "metadata": {},
   "source": [
    "# RF baseline"
   ]
  },
  {
   "cell_type": "code",
   "execution_count": null,
   "metadata": {},
   "outputs": [],
   "source": [
    "clf = RandomForestClassifier(max_depth=8, random_state=0)\n",
    "clf.fit(X_train, y_train)"
   ]
  },
  {
   "cell_type": "code",
   "execution_count": null,
   "metadata": {},
   "outputs": [],
   "source": [
    "y_pred = clf.predict(X_test)\n",
    "\n",
    "print('accuracy', accuracy_score(y_test, y_pred))\n",
    "\n",
    "y_pred = clf.predict_proba(X_test)\n",
    "\n",
    "print('auc',roc_auc_score(y_test, y_pred[:,1]))\n",
    "\n",
    "print('mae',mean_absolute_error(y_test, y_pred[:,1]))"
   ]
  },
  {
   "cell_type": "markdown",
   "metadata": {},
   "source": [
    "# DNN"
   ]
  },
  {
   "cell_type": "code",
   "execution_count": null,
   "metadata": {},
   "outputs": [],
   "source": [
    "    params={\n",
    "        'epochs':20, 'batch_size':[32], 'shuffle':[True], \n",
    "        'activation_hidden':['elu','linear'], 'activation':['sigmoid'], 'optimizer':['adam','adagrad'],\n",
    "    'architectures':[\n",
    "\n",
    "        [[300,0.0],[600,0.000001],['dropout',0.2],[400,0.000001],['dropout',0.4],[200,0.000001],['dropout',0.5],[100,0.0]],\n",
    "        [[400,0.0],[800,0.000001],['dropout',0.5],[400,0.000001],['dropout',0.5],[200,0.000001],['dropout',0.5],[100,0.0]],\n",
    "        [[200,0.0],[100,0.000001],[50,0.000001],[100,0.000001],['dropout',0.2],[50,0.0]],\n",
    "\n",
    "    ]} \n",
    "    best_model_acc = None\n",
    "    best_acc = 0\n",
    "    best_par_acc = []\n",
    "    best_model_mae = None\n",
    "    best_mae = 1\n",
    "    best_par_mae = []\n",
    "    dict_grid = {}\n",
    "    X_tr, X_val, y_tr, y_val = train_test_split(X_train, y_train, test_size=0.2, shuffle=False)\n",
    "    for bs in params['batch_size']:\n",
    "        for s in params['shuffle']:\n",
    "            for o in params['optimizer']:\n",
    "                for ah in params['activation_hidden']:\n",
    "                    for a in params['activation']:\n",
    "                        for arch in params['architectures']:\n",
    "                            model = keras.Sequential()\n",
    "                            for layer in arch:\n",
    "                                if layer[0] == 'dropout':\n",
    "                                    model.add(keras.layers.Dropout(layer[1]))\n",
    "                                else:\n",
    "                                    model.add(keras.layers.Dense(layer[0], activation=ah,\n",
    "                                         kernel_regularizer=keras.regularizers.l2(l=layer[1]) ))\n",
    "                            model.add(keras.layers.Dense(1, activation=a))\n",
    "                            model.compile(optimizer=o,loss='binary_crossentropy',metrics=['mae'])\n",
    "                            for e in range(params['epochs']):\n",
    "                                \n",
    "#                                 with tf.device('/GPU:0'):\n",
    "                                model.fit(X_tr,y_tr, epochs=1,batch_size=bs,shuffle=s)\n",
    "\n",
    "                                y_pred = model.predict_classes(X_val)\n",
    "\n",
    "                                acc = accuracy_score(y_val, y_pred)\n",
    "\n",
    "                                y_pred = model.predict(X_val)\n",
    "\n",
    "                                mae = mean_absolute_error(y_val, y_pred)\n",
    "                                \n",
    "                                print(e,arch,bs,s,o,ah )\n",
    "                                print('acc',acc )\n",
    "                                print('mae',mae )\n",
    "                                \n",
    "                                if acc > best_acc:\n",
    "                                    best_acc = acc\n",
    "                                    best_par_acc = [e,arch,bs,s,o,ah]\n",
    "                                    best_model_acc = keras.Sequential()\n",
    "                                    for layer in arch:\n",
    "                                        if layer[0] == 'dropout':\n",
    "                                            best_model_acc.add(keras.layers.Dropout(layer[1]))\n",
    "                                        else:\n",
    "                                            best_model_acc.add(keras.layers.Dense(layer[0], activation=ah,\n",
    "                                                 kernel_regularizer=keras.regularizers.l2(l=layer[1]) ))\n",
    "                                    best_model_acc.add(keras.layers.Dense(1, activation=a))\n",
    "                                    best_model_acc.compile(optimizer=o,loss='binary_crossentropy',metrics=['mae'])\n",
    "                                    best_model_acc.build(input_shape=(None,386,))\n",
    "                                    best_model_acc.set_weights(model.get_weights()) \n",
    "                                if mae < best_mae:\n",
    "                                    best_mae = mae\n",
    "                                    best_par_mae = [e,arch,bs,s,o,ah]\n",
    "                                    best_model_mae = keras.Sequential()\n",
    "                                    for layer in arch:\n",
    "                                        if layer[0] == 'dropout':\n",
    "                                            best_model_mae.add(keras.layers.Dropout(layer[1]))\n",
    "                                        else:\n",
    "                                            best_model_mae.add(keras.layers.Dense(layer[0], activation=ah,\n",
    "                                                 kernel_regularizer=keras.regularizers.l2(l=layer[1]) ))\n",
    "                                    best_model_mae.add(keras.layers.Dense(1, activation=a))\n",
    "                                    best_model_mae.compile(optimizer=o,loss='binary_crossentropy',metrics=['mae'])\n",
    "                                    best_model_mae.build(input_shape=(None,386,))\n",
    "                                    best_model_mae.set_weights(model.get_weights()) "
   ]
  },
  {
   "cell_type": "code",
   "execution_count": null,
   "metadata": {},
   "outputs": [],
   "source": [
    "print(best_acc)\n",
    "print(best_mae)"
   ]
  },
  {
   "cell_type": "code",
   "execution_count": null,
   "metadata": {},
   "outputs": [],
   "source": [
    "best_model_mae.predict(X_train)"
   ]
  },
  {
   "cell_type": "code",
   "execution_count": null,
   "metadata": {},
   "outputs": [],
   "source": [
    "y_pred = best_model_mae.predict_classes(X_test)\n",
    "\n",
    "print('acc',accuracy_score(y_test, y_pred))\n",
    "\n",
    "y_pred = best_model_mae.predict(X_test)\n",
    "\n",
    "print('auc',roc_auc_score(y_test, y_pred))\n",
    "\n",
    "print('mae',mean_absolute_error(y_test, y_pred))\n",
    "\n",
    "print('mse', mean_squared_error(y_test, y_pred))\n",
    "\n",
    "plt.plot(y_pred)"
   ]
  },
  {
   "cell_type": "code",
   "execution_count": null,
   "metadata": {},
   "outputs": [],
   "source": [
    "best_model_mae.save('my_model.h5') "
   ]
  },
  {
   "cell_type": "code",
   "execution_count": null,
   "metadata": {},
   "outputs": [],
   "source": [
    "best_model_mae = tf.keras.models.load_model('../resources/DNN_deep_check.h5')"
   ]
  },
  {
   "cell_type": "code",
   "execution_count": null,
   "metadata": {},
   "outputs": [],
   "source": [
    "best_model_mae.summary()"
   ]
  },
  {
   "cell_type": "code",
   "execution_count": null,
   "metadata": {},
   "outputs": [],
   "source": [
    "from keras.utils import plot_model\n",
    "plot_model(best_model_mae, to_file='model.png')"
   ]
  },
  {
   "cell_type": "code",
   "execution_count": null,
   "metadata": {},
   "outputs": [],
   "source": []
  },
  {
   "cell_type": "code",
   "execution_count": null,
   "metadata": {},
   "outputs": [],
   "source": []
  },
  {
   "cell_type": "markdown",
   "metadata": {},
   "source": [
    "Residual CNN"
   ]
  },
  {
   "cell_type": "code",
   "execution_count": 22,
   "metadata": {},
   "outputs": [],
   "source": [
    "positions = list(map(lambda x: list(x['current_position']), memory)) \n",
    "\n",
    "\n",
    "positions = np.array(positions)"
   ]
  },
  {
   "cell_type": "code",
   "execution_count": 23,
   "metadata": {},
   "outputs": [],
   "source": [
    "X = np.array(tf.cast(X, tf.float32))\n",
    "positions = np.array(tf.cast(positions, tf.float32))\n",
    "y = np.array(tf.cast(y, tf.float32))"
   ]
  },
  {
   "cell_type": "code",
   "execution_count": 24,
   "metadata": {},
   "outputs": [],
   "source": [
    "X = np.array( [a.reshape(48,8,1) for a in X])"
   ]
  },
  {
   "cell_type": "code",
   "execution_count": 25,
   "metadata": {},
   "outputs": [
    {
     "data": {
      "text/plain": [
       "array([-1.,  1., -1., ..., -1.,  1., -1.], dtype=float32)"
      ]
     },
     "execution_count": 25,
     "metadata": {},
     "output_type": "execute_result"
    }
   ],
   "source": [
    "y"
   ]
  },
  {
   "cell_type": "code",
   "execution_count": 26,
   "metadata": {},
   "outputs": [],
   "source": [
    "X_train, X_test, y_train, y_test = train_test_split(X, y, test_size=0.2, shuffle=False)\n",
    "\n",
    "X_train, X_val, y_train, y_val = train_test_split(X_train, y_train, test_size=0.2, shuffle=False)\n",
    "\n",
    "positions_tr, positions_tst, y_train, y_test = train_test_split(positions, y, test_size=0.2, shuffle=False)\n",
    "\n",
    "positions_tr, positions_val, y_train, y_val = train_test_split(positions_tr, y_train, test_size=0.2, shuffle=False)"
   ]
  },
  {
   "cell_type": "code",
   "execution_count": 35,
   "metadata": {},
   "outputs": [],
   "source": [
    "y_train = y_train>0\n",
    "y_train = y_train.astype(int)\n",
    "y_val = y_val>0\n",
    "y_val = y_val.astype(int)\n",
    "y_test = y_test>0\n",
    "y_test = y_test.astype(int)"
   ]
  },
  {
   "cell_type": "code",
   "execution_count": null,
   "metadata": {},
   "outputs": [],
   "source": []
  },
  {
   "cell_type": "code",
   "execution_count": null,
   "metadata": {},
   "outputs": [],
   "source": []
  },
  {
   "cell_type": "code",
   "execution_count": 28,
   "metadata": {},
   "outputs": [],
   "source": [
    "from tensorflow.keras.layers import Input, Embedding, LSTM, Dense, Flatten, Conv2D, MaxPooling2D, Dropout\n",
    "from tensorflow.keras.models import Model"
   ]
  },
  {
   "cell_type": "code",
   "execution_count": 29,
   "metadata": {},
   "outputs": [],
   "source": [
    "main_input = Input(shape=(48,8,1),  name='main_input')\n",
    "\n",
    "x = Conv2D(384, (12, 3), padding='same',activation='relu')(main_input)\n",
    "x = Conv2D(384, (8, 2), padding='same',activation='relu', kernel_regularizer=keras.regularizers.l2(l=0.0001))(x)\n",
    "x = MaxPooling2D((4,1))(x)\n",
    "x = Dropout(0.1)(x)\n",
    "x = Conv2D(96, (3, 3), padding='same',activation='relu', kernel_regularizer=keras.regularizers.l2(l=0.0001))(x)\n",
    "x = Dropout(0.1)(x)\n",
    "x = Flatten()(x)\n",
    "auxiliary_input = Input(shape=(2,), name='aux_input')\n",
    "x = keras.layers.concatenate([x, auxiliary_input])\n",
    "x = Dense(300, activation='elu', kernel_regularizer=keras.regularizers.l2(l=0.0001))(x)\n",
    "x = Dropout(0.2)(x)\n",
    "x = Dense(400, activation='elu', kernel_regularizer=keras.regularizers.l2(l=0.0001))(x)\n",
    "x = Dropout(0.2)(x)\n",
    "x = Dense(200, activation='elu', kernel_regularizer=keras.regularizers.l2(l=0.0001))(x)\n",
    "main_output = Dense(1, activation='sigmoid', name='main_output')(x)\n",
    "model = Model(inputs=[main_input, auxiliary_input], outputs=[main_output])\n",
    "\n",
    "model.compile(optimizer='adam', loss='binary_crossentropy', metric=['mae'])"
   ]
  },
  {
   "cell_type": "code",
   "execution_count": null,
   "metadata": {},
   "outputs": [
    {
     "name": "stdout",
     "output_type": "stream",
     "text": [
      "Train on 80688 samples\n",
      "80688/80688 [==============================] - 276s 3ms/sample - loss: 0.6817\n",
      "Train on 80688 samples\n",
      "80688/80688 [==============================] - 277s 3ms/sample - loss: 0.6782\n",
      "Train on 80688 samples\n",
      "80688/80688 [==============================] - 277s 3ms/sample - loss: 0.6768\n",
      "Train on 80688 samples\n",
      "80688/80688 [==============================] - 277s 3ms/sample - loss: 0.6757\n",
      "Train on 80688 samples\n",
      "80688/80688 [==============================] - 277s 3ms/sample - loss: 0.6757\n",
      "Train on 80688 samples\n",
      "57408/80688 [====================>.........] - ETA: 1:19 - loss: 0.6764"
     ]
    }
   ],
   "source": [
    "    for e in range(100):\n",
    "        model.fit([X_train, positions_tr], [y_train], epochs=1, batch_size=32, verbose=1)\n",
    "    #     y_pred = model.predict_classes([X_val, positions_val])\n",
    "\n",
    "    y_pred = model.predict([X_val, positions_val])\n",
    "\n",
    "    mae = mean_absolute_error(y_val, y_pred)   \n",
    "    \n",
    "    print(mae)"
   ]
  },
  {
   "cell_type": "code",
   "execution_count": null,
   "metadata": {},
   "outputs": [],
   "source": []
  },
  {
   "cell_type": "code",
   "execution_count": 39,
   "metadata": {},
   "outputs": [
    {
     "name": "stdout",
     "output_type": "stream",
     "text": [
      "0.4827240758036561\n"
     ]
    }
   ],
   "source": [
    "    y_pred = model.predict([X_test, positions_tst])\n",
    "\n",
    "    mae = mean_absolute_error(y_test, y_pred)   \n",
    "    \n",
    "    print(mae)"
   ]
  },
  {
   "cell_type": "code",
   "execution_count": 40,
   "metadata": {},
   "outputs": [
    {
     "data": {
      "text/plain": [
       "[<matplotlib.lines.Line2D at 0x1fc1d478748>]"
      ]
     },
     "execution_count": 40,
     "metadata": {},
     "output_type": "execute_result"
    },
    {
     "data": {
      "image/png": "[encoded data removed]",
      "text/plain": [
       "<Figure size 432x288 with 1 Axes>"
      ]
     },
     "metadata": {
      "needs_background": "light"
     },
     "output_type": "display_data"
    }
   ],
   "source": [
    "plt.plot(y_pred)"
   ]
  },
  {
   "cell_type": "code",
   "execution_count": null,
   "metadata": {},
   "outputs": [],
   "source": []
  }
 ],
 "metadata": {
  "kernelspec": {
   "display_name": "Python 3",
   "language": "python",
   "name": "python3"
  },
  "language_info": {
   "codemirror_mode": {
    "name": "ipython",
    "version": 3
   },
   "file_extension": ".py",
   "mimetype": "text/x-python",
   "name": "python",
   "nbconvert_exporter": "python",
   "pygments_lexer": "ipython3",
   "version": "3.7.3"
  }
 },
 "nbformat": 4,
 "nbformat_minor": 2
}
